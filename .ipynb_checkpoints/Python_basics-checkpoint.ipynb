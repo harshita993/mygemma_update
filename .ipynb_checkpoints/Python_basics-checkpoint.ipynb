{
 "cells": [
  {
   "cell_type": "markdown",
   "id": "9123249e",
   "metadata": {},
   "source": [
    "### Printing format"
   ]
  },
  {
   "cell_type": "markdown",
   "id": "b3438482",
   "metadata": {},
   "source": [
    "##### String formatting"
   ]
  },
  {
   "cell_type": "code",
   "execution_count": null,
   "id": "f6b5150b",
   "metadata": {},
   "outputs": [],
   "source": [
    "print('Hello worlds')"
   ]
  },
  {
   "cell_type": "code",
   "execution_count": null,
   "id": "30e16853",
   "metadata": {},
   "outputs": [],
   "source": [
    "a = 'world'\n",
    "print('Hello',a,'!!!')"
   ]
  },
  {
   "cell_type": "code",
   "execution_count": 1,
   "id": "f526ba38",
   "metadata": {
    "scrolled": true
   },
   "outputs": [
    {
     "name": "stdout",
     "output_type": "stream",
     "text": [
      "The first letter is: a, the second: b, the third: c\n"
     ]
    }
   ],
   "source": [
    "print('The first letter is: {}, the second: {}, the third: {}'.format('a','b','c'))"
   ]
  },
  {
   "cell_type": "code",
   "execution_count": 12,
   "id": "ef6e4739",
   "metadata": {},
   "outputs": [
    {
     "name": "stdout",
     "output_type": "stream",
     "text": [
      "The first letter is: c, the second: b, the third: a\n"
     ]
    }
   ],
   "source": [
    "print('The first letter is: {2}, the second: {1}, the third: {0}'.format('a','b','c'))"
   ]
  },
  {
   "cell_type": "code",
   "execution_count": 13,
   "id": "81e6f0ec",
   "metadata": {},
   "outputs": [
    {
     "name": "stdout",
     "output_type": "stream",
     "text": [
      "The first letter is: a, the second: a, the third: a\n"
     ]
    }
   ],
   "source": [
    "print('The first letter is: {0}, the second: {0}, the third: {0}'.format('a'))"
   ]
  },
  {
   "cell_type": "markdown",
   "id": "a383242f",
   "metadata": {},
   "source": [
    "##### Integers and Floats"
   ]
  },
  {
   "cell_type": "code",
   "execution_count": 15,
   "id": "ed874db1",
   "metadata": {},
   "outputs": [
    {
     "name": "stdout",
     "output_type": "stream",
     "text": [
      "The number is 10, and 10, and 20\n"
     ]
    }
   ],
   "source": [
    "print('The number is {0}, and {0}, and {1}'.format(10,20))"
   ]
  },
  {
   "cell_type": "code",
   "execution_count": 14,
   "id": "864bee77",
   "metadata": {},
   "outputs": [
    {
     "name": "stdout",
     "output_type": "stream",
     "text": [
      "The number is 10.0002, and 10.0002, and 10.0002\n"
     ]
    }
   ],
   "source": [
    "print('The number is {0}, and {0}, and {0}'.format(10.00020))"
   ]
  },
  {
   "cell_type": "markdown",
   "id": "a6864741",
   "metadata": {},
   "source": [
    "##### Other formatings"
   ]
  },
  {
   "cell_type": "code",
   "execution_count": 20,
   "id": "766169c2",
   "metadata": {},
   "outputs": [
    {
     "name": "stdout",
     "output_type": "stream",
     "text": [
      "The number is 20202, and 20202, and abcd\n"
     ]
    }
   ],
   "source": [
    "aa= [20202, 39394]\n",
    "print('The number is {0}, and {0}, and {1}'.format(aa[0],\"abcd\"))"
   ]
  },
  {
   "cell_type": "code",
   "execution_count": 19,
   "id": "faf33c94",
   "metadata": {},
   "outputs": [
    {
     "name": "stdout",
     "output_type": "stream",
     "text": [
      "The number is {'Tru TV': 'Chris Gethard'}, and {'Tru TV': 'Chris Gethard'}, and {'Tru TV': 'Chris Gethard'}\n"
     ]
    }
   ],
   "source": [
    "print('The number is {0}, and {0}, and {0}'.format({'Tru TV':'Chris Gethard'}))"
   ]
  },
  {
   "cell_type": "code",
   "execution_count": 21,
   "id": "6d103cb0",
   "metadata": {},
   "outputs": [
    {
     "name": "stdout",
     "output_type": "stream",
     "text": [
      "The number is A$AP Ferg, and A$AP Rocky, and A$AP Ferg\n"
     ]
    }
   ],
   "source": [
    "print('The number is {0}, and {1}, and {0}'.format('A$AP Ferg', 'A$AP Rocky'))"
   ]
  },
  {
   "cell_type": "code",
   "execution_count": 22,
   "id": "2c16f235",
   "metadata": {
    "scrolled": true
   },
   "outputs": [
    {
     "name": "stdout",
     "output_type": "stream",
     "text": [
      "The number is 10.0002, and 20, and 10.0002\n"
     ]
    }
   ],
   "source": [
    "print('The number is {a}, and {b}, and {a}'.format(a=10.00020, b=20))"
   ]
  },
  {
   "cell_type": "code",
   "execution_count": 23,
   "id": "7b06a71d",
   "metadata": {},
   "outputs": [
    {
     "name": "stdout",
     "output_type": "stream",
     "text": [
      "Place another string with a mod and s: BROADER AI\n"
     ]
    }
   ],
   "source": [
    "d = 'BROADER AI'\n",
    "print('Place another string with a mod and s: %s' %(d))"
   ]
  },
  {
   "cell_type": "markdown",
   "id": "1597fdf0",
   "metadata": {},
   "source": [
    "##### Floating Point Numbers"
   ]
  },
  {
   "cell_type": "code",
   "execution_count": 24,
   "id": "c8e6d126",
   "metadata": {},
   "outputs": [
    {
     "name": "stdout",
     "output_type": "stream",
     "text": [
      "Floating point numbers:      13.14\n"
     ]
    }
   ],
   "source": [
    "print('Floating point numbers: %10.2f' %(13.144))"
   ]
  },
  {
   "cell_type": "code",
   "execution_count": null,
   "id": "6546d393",
   "metadata": {},
   "outputs": [],
   "source": [
    "print('Floating point numbers: %5.5f' %(13.134544))"
   ]
  },
  {
   "cell_type": "code",
   "execution_count": null,
   "id": "81a28c48",
   "metadata": {},
   "outputs": [],
   "source": [
    "print('Floating point numbers: %10.2f' %(13.144))"
   ]
  },
  {
   "cell_type": "code",
   "execution_count": null,
   "id": "78805940",
   "metadata": {},
   "outputs": [],
   "source": [
    "print('Floating point numbers: %25.3f' %(13.144))"
   ]
  },
  {
   "cell_type": "markdown",
   "id": "0762cc0d",
   "metadata": {},
   "source": [
    "##### Conversion Format methods\n",
    "\n",
    "It should be noted that two methods %s and %r actually convert any python object to a string using two separate methods: str() and repr()"
   ]
  },
  {
   "cell_type": "markdown",
   "id": "316d021f",
   "metadata": {},
   "source": [
    "Both are used of string represenation"
   ]
  },
  {
   "cell_type": "code",
   "execution_count": 28,
   "id": "b3771232",
   "metadata": {
    "scrolled": true
   },
   "outputs": [
    {
     "name": "stdout",
     "output_type": "stream",
     "text": [
      "Here is a number: 123.1. Here is a string: hi\n"
     ]
    }
   ],
   "source": [
    "print('Here is a number: %s. Here is a string: %s' %(123.1,'hi'))"
   ]
  },
  {
   "cell_type": "code",
   "execution_count": 26,
   "id": "72d63656",
   "metadata": {},
   "outputs": [
    {
     "name": "stdout",
     "output_type": "stream",
     "text": [
      "Here is a number: 123.1. Here is a string: 'hi'\n"
     ]
    }
   ],
   "source": [
    "print('Here is a number: %r. Here is a string: %r' %(123.1,'hi'))"
   ]
  },
  {
   "cell_type": "markdown",
   "id": "d7ae77b9",
   "metadata": {},
   "source": [
    "##### Multiple Formatting\n",
    "Pass a tuple to the modulo symbol to place multiple formats in your print statements:"
   ]
  },
  {
   "cell_type": "code",
   "execution_count": null,
   "id": "df76a732",
   "metadata": {},
   "outputs": [],
   "source": [
    "print('First: %s, Second: %1.2f, Third: %r' %('hi!',3.14,22))"
   ]
  },
  {
   "cell_type": "code",
   "execution_count": null,
   "id": "f8fab8e9",
   "metadata": {},
   "outputs": [],
   "source": [
    "print('This is a string with an {p}'.format(p='insert'))"
   ]
  },
  {
   "cell_type": "code",
   "execution_count": null,
   "id": "440ddceb",
   "metadata": {},
   "outputs": [],
   "source": [
    "print('One: {p}, Two: {p}, Three: {p}'.format(p='Hi!'))"
   ]
  },
  {
   "cell_type": "code",
   "execution_count": null,
   "id": "30d06cec",
   "metadata": {},
   "outputs": [],
   "source": [
    "print('Object 1: {a}, Object 2: {b}, Object 3: {c}'.format(a=1,b='two',c=12.3))"
   ]
  },
  {
   "cell_type": "markdown",
   "id": "69cf635b",
   "metadata": {},
   "source": [
    "### Lists "
   ]
  },
  {
   "cell_type": "markdown",
   "id": "655da247",
   "metadata": {},
   "source": [
    "Multiple items can be stored in a single variable using lists."
   ]
  },
  {
   "cell_type": "code",
   "execution_count": null,
   "id": "874ad417",
   "metadata": {},
   "outputs": [],
   "source": [
    "my_list = [1,2,3]"
   ]
  },
  {
   "cell_type": "code",
   "execution_count": null,
   "id": "173a26ac",
   "metadata": {},
   "outputs": [],
   "source": [
    "my_list"
   ]
  },
  {
   "cell_type": "code",
   "execution_count": null,
   "id": "e12ac87b",
   "metadata": {},
   "outputs": [],
   "source": [
    "my_list = ['A string', 23, 100.232]"
   ]
  },
  {
   "cell_type": "code",
   "execution_count": null,
   "id": "8d285e62",
   "metadata": {},
   "outputs": [],
   "source": [
    "my_list"
   ]
  },
  {
   "cell_type": "code",
   "execution_count": null,
   "id": "8a87220c",
   "metadata": {},
   "outputs": [],
   "source": [
    "len(my_list)"
   ]
  },
  {
   "cell_type": "markdown",
   "id": "68679fa2",
   "metadata": {},
   "source": [
    "##### Indexing and Slicing"
   ]
  },
  {
   "cell_type": "code",
   "execution_count": 2,
   "id": "350ee40d",
   "metadata": {},
   "outputs": [],
   "source": [
    "my_list = ['one','two','three',4,5]"
   ]
  },
  {
   "cell_type": "code",
   "execution_count": 3,
   "id": "c07ff6ca",
   "metadata": {
    "scrolled": true
   },
   "outputs": [
    {
     "data": {
      "text/plain": [
       "'one'"
      ]
     },
     "execution_count": 3,
     "metadata": {},
     "output_type": "execute_result"
    }
   ],
   "source": [
    "my_list[0]"
   ]
  },
  {
   "cell_type": "code",
   "execution_count": 4,
   "id": "b96052bb",
   "metadata": {},
   "outputs": [
    {
     "data": {
      "text/plain": [
       "'one'"
      ]
     },
     "execution_count": 4,
     "metadata": {},
     "output_type": "execute_result"
    }
   ],
   "source": [
    "my_list[-5]"
   ]
  },
  {
   "cell_type": "code",
   "execution_count": 5,
   "id": "5d94a706",
   "metadata": {},
   "outputs": [
    {
     "data": {
      "text/plain": [
       "['two', 'three']"
      ]
     },
     "execution_count": 5,
     "metadata": {},
     "output_type": "execute_result"
    }
   ],
   "source": [
    "my_list[1:3]"
   ]
  },
  {
   "cell_type": "code",
   "execution_count": null,
   "id": "04608572",
   "metadata": {},
   "outputs": [],
   "source": [
    "my_list[:]"
   ]
  },
  {
   "cell_type": "code",
   "execution_count": null,
   "id": "15c9b9ae",
   "metadata": {},
   "outputs": [],
   "source": [
    "my_list[1:3]"
   ]
  },
  {
   "cell_type": "code",
   "execution_count": null,
   "id": "e472e419",
   "metadata": {},
   "outputs": [],
   "source": [
    "my_list + ['new item']"
   ]
  },
  {
   "cell_type": "code",
   "execution_count": null,
   "id": "3c091de2",
   "metadata": {},
   "outputs": [],
   "source": [
    "my_list * 2"
   ]
  },
  {
   "cell_type": "code",
   "execution_count": 1,
   "id": "9f7bb056",
   "metadata": {},
   "outputs": [],
   "source": [
    "l = [1,2,3,7,6,5,4,34,3,7,5,43,2,3,3]"
   ]
  },
  {
   "cell_type": "code",
   "execution_count": null,
   "id": "fd8af9e6",
   "metadata": {},
   "outputs": [],
   "source": [
    "l[:]"
   ]
  },
  {
   "cell_type": "code",
   "execution_count": null,
   "id": "f333f83d",
   "metadata": {},
   "outputs": [],
   "source": [
    "l[:-1]"
   ]
  },
  {
   "cell_type": "code",
   "execution_count": null,
   "id": "7c884063",
   "metadata": {},
   "outputs": [],
   "source": [
    "l[1:4]"
   ]
  },
  {
   "cell_type": "code",
   "execution_count": 3,
   "id": "bbd0f2d4",
   "metadata": {},
   "outputs": [
    {
     "data": {
      "text/plain": [
       "[3, 3, 2, 43, 5, 7, 3, 34, 4, 5, 6, 7, 3, 2, 1]"
      ]
     },
     "execution_count": 3,
     "metadata": {},
     "output_type": "execute_result"
    }
   ],
   "source": [
    "l[::-1]"
   ]
  },
  {
   "cell_type": "code",
   "execution_count": null,
   "id": "59ba09e3",
   "metadata": {},
   "outputs": [],
   "source": [
    "l[0:5:2]"
   ]
  },
  {
   "cell_type": "code",
   "execution_count": null,
   "id": "a40c5946",
   "metadata": {},
   "outputs": [],
   "source": [
    "l[0:5]"
   ]
  },
  {
   "cell_type": "code",
   "execution_count": null,
   "id": "c1ef4cc9",
   "metadata": {},
   "outputs": [],
   "source": [
    "l"
   ]
  },
  {
   "cell_type": "code",
   "execution_count": null,
   "id": "7052892d",
   "metadata": {},
   "outputs": [],
   "source": [
    "l[-5:-3]"
   ]
  },
  {
   "cell_type": "code",
   "execution_count": null,
   "id": "efbc1699",
   "metadata": {},
   "outputs": [],
   "source": [
    "l[-4:-1]"
   ]
  },
  {
   "cell_type": "code",
   "execution_count": null,
   "id": "cb7f62f1",
   "metadata": {},
   "outputs": [],
   "source": [
    "l[:4:1]"
   ]
  },
  {
   "cell_type": "markdown",
   "id": "628ddf64",
   "metadata": {},
   "source": [
    "##### List methods"
   ]
  },
  {
   "cell_type": "code",
   "execution_count": null,
   "id": "a7940696",
   "metadata": {},
   "outputs": [],
   "source": [
    "l = [1,2,3,7,6,5,4,34,3,7,5,43,2,3,3]"
   ]
  },
  {
   "cell_type": "code",
   "execution_count": null,
   "id": "33a10030",
   "metadata": {},
   "outputs": [],
   "source": [
    "l.append('append me!')\n",
    "l"
   ]
  },
  {
   "cell_type": "markdown",
   "id": "a63aeaf3",
   "metadata": {},
   "source": [
    "It removes an item at the specified index from the list."
   ]
  },
  {
   "cell_type": "code",
   "execution_count": null,
   "id": "56572868",
   "metadata": {},
   "outputs": [],
   "source": [
    "l.pop(-1)\n",
    "l"
   ]
  },
  {
   "cell_type": "code",
   "execution_count": null,
   "id": "13369154",
   "metadata": {},
   "outputs": [],
   "source": [
    "l.reverse()\n",
    "l"
   ]
  },
  {
   "cell_type": "code",
   "execution_count": null,
   "id": "fe2b771c",
   "metadata": {},
   "outputs": [],
   "source": [
    "l.sort()\n",
    "l"
   ]
  },
  {
   "cell_type": "code",
   "execution_count": null,
   "id": "bc2783f7",
   "metadata": {},
   "outputs": [],
   "source": [
    "l.sort(reverse=True)\n",
    "l"
   ]
  },
  {
   "cell_type": "code",
   "execution_count": null,
   "id": "074e18e6",
   "metadata": {},
   "outputs": [],
   "source": [
    "len(l)"
   ]
  },
  {
   "cell_type": "code",
   "execution_count": null,
   "id": "83315834",
   "metadata": {},
   "outputs": [],
   "source": [
    "l.count(3)"
   ]
  },
  {
   "cell_type": "markdown",
   "id": "55df1be9",
   "metadata": {},
   "source": [
    "##### Nested lists"
   ]
  },
  {
   "cell_type": "code",
   "execution_count": 6,
   "id": "1b61671e",
   "metadata": {},
   "outputs": [
    {
     "data": {
      "text/plain": [
       "[[1, 2, 3], [4, 5, 6], [7, 8, 9]]"
      ]
     },
     "execution_count": 6,
     "metadata": {},
     "output_type": "execute_result"
    }
   ],
   "source": [
    "lst_1=[1,2,3]\n",
    "lst_2=[4,5,6]\n",
    "lst_3=[7,8,9]\n",
    "\n",
    "matrix = [lst_1,lst_2,lst_3]\n",
    "matrix"
   ]
  },
  {
   "cell_type": "code",
   "execution_count": 7,
   "id": "e36bc2d6",
   "metadata": {},
   "outputs": [
    {
     "data": {
      "text/plain": [
       "6"
      ]
     },
     "execution_count": 7,
     "metadata": {},
     "output_type": "execute_result"
    }
   ],
   "source": [
    "matrix[1][-1]"
   ]
  },
  {
   "cell_type": "code",
   "execution_count": null,
   "id": "db762fb2",
   "metadata": {},
   "outputs": [],
   "source": [
    "a = [1,2,3]"
   ]
  },
  {
   "cell_type": "code",
   "execution_count": null,
   "id": "bebe6bf2",
   "metadata": {},
   "outputs": [],
   "source": [
    "a[0:1]"
   ]
  },
  {
   "cell_type": "code",
   "execution_count": null,
   "id": "0399b35b",
   "metadata": {},
   "outputs": [],
   "source": [
    "matrix[0:1]"
   ]
  },
  {
   "cell_type": "code",
   "execution_count": null,
   "id": "581065e8",
   "metadata": {
    "scrolled": false
   },
   "outputs": [],
   "source": [
    "for i in matrix[0:2]:\n",
    "    print(i)"
   ]
  },
  {
   "cell_type": "code",
   "execution_count": 8,
   "id": "146588ac",
   "metadata": {},
   "outputs": [
    {
     "name": "stdout",
     "output_type": "stream",
     "text": [
      "0\n",
      "1\n",
      "2\n",
      "3\n",
      "4\n"
     ]
    }
   ],
   "source": [
    "for i in range(5):\n",
    "    print(i)"
   ]
  },
  {
   "cell_type": "code",
   "execution_count": null,
   "id": "81dcb079",
   "metadata": {},
   "outputs": [],
   "source": [
    "a = []"
   ]
  },
  {
   "cell_type": "code",
   "execution_count": null,
   "id": "8adc65b8",
   "metadata": {
    "scrolled": true
   },
   "outputs": [],
   "source": [
    "for i in range(0,5):\n",
    "    a.append(i)"
   ]
  },
  {
   "cell_type": "code",
   "execution_count": null,
   "id": "d54fab11",
   "metadata": {},
   "outputs": [],
   "source": [
    "type(a)"
   ]
  },
  {
   "cell_type": "code",
   "execution_count": null,
   "id": "98aeaf0f",
   "metadata": {},
   "outputs": [],
   "source": [
    "a"
   ]
  },
  {
   "cell_type": "markdown",
   "id": "9de0c8f7",
   "metadata": {},
   "source": [
    "##### List Comprehensions\n",
    "\n",
    "Python has an advanced feature called list comprehensions. They allow for quick construction of lists."
   ]
  },
  {
   "cell_type": "code",
   "execution_count": null,
   "id": "1ad5f23c",
   "metadata": {},
   "outputs": [],
   "source": [
    "first_col = [i for i in range(0,5)]"
   ]
  },
  {
   "cell_type": "code",
   "execution_count": null,
   "id": "fe0b7254",
   "metadata": {},
   "outputs": [],
   "source": [
    "first_col"
   ]
  },
  {
   "cell_type": "code",
   "execution_count": null,
   "id": "d12067ca",
   "metadata": {},
   "outputs": [],
   "source": [
    "for i in 'word':\n",
    "    print(i)"
   ]
  },
  {
   "cell_type": "code",
   "execution_count": null,
   "id": "a24bfef0",
   "metadata": {},
   "outputs": [],
   "source": [
    "lst = [x for x in 'word']\n",
    "lst"
   ]
  },
  {
   "cell_type": "code",
   "execution_count": null,
   "id": "9c4232c8",
   "metadata": {},
   "outputs": [],
   "source": [
    "lst = [x*2 for x in range(0,6)]\n",
    "lst"
   ]
  },
  {
   "cell_type": "code",
   "execution_count": null,
   "id": "32d9b661",
   "metadata": {},
   "outputs": [],
   "source": [
    "lst = [x for x in range(5) if x % 2 == 0]\n",
    "lst"
   ]
  },
  {
   "cell_type": "code",
   "execution_count": null,
   "id": "d2a604df",
   "metadata": {},
   "outputs": [],
   "source": [
    "# Convert Celsius to Fahrenheit\n",
    "celsius = [0,10,20.1,34.5]\n",
    "\n",
    "fahrenheit = [ ((float(9)/5)*temp + 32) for temp in celsius ]\n",
    "\n",
    "fahrenheit"
   ]
  },
  {
   "cell_type": "code",
   "execution_count": null,
   "id": "4e53356a",
   "metadata": {},
   "outputs": [],
   "source": [
    "a = []\n",
    "for x in range(0,6):\n",
    "    a.append(x*2)"
   ]
  },
  {
   "cell_type": "code",
   "execution_count": null,
   "id": "86f67e56",
   "metadata": {},
   "outputs": [],
   "source": [
    "a"
   ]
  },
  {
   "cell_type": "code",
   "execution_count": null,
   "id": "b69d7c1e",
   "metadata": {},
   "outputs": [],
   "source": [
    "b=[]\n",
    "for i in a:\n",
    "    b.append(i*2)"
   ]
  },
  {
   "cell_type": "code",
   "execution_count": null,
   "id": "c6c9075e",
   "metadata": {},
   "outputs": [],
   "source": [
    "b"
   ]
  },
  {
   "cell_type": "code",
   "execution_count": null,
   "id": "85203c55",
   "metadata": {
    "scrolled": true
   },
   "outputs": [],
   "source": [
    "lst = [ x*2 for x in [x*2 for x in range(3)]]\n",
    "lst"
   ]
  },
  {
   "cell_type": "markdown",
   "id": "187a826e",
   "metadata": {},
   "source": [
    "### Dictionaries\n",
    "\n",
    "A Python dictionary consists of a key and then an associated value. That value can be almost any Python object."
   ]
  },
  {
   "cell_type": "code",
   "execution_count": 1,
   "id": "1089924d",
   "metadata": {},
   "outputs": [],
   "source": [
    "my_dict = {'key1':'value1','key2':'value2'}"
   ]
  },
  {
   "cell_type": "code",
   "execution_count": 2,
   "id": "ff3b3a8b",
   "metadata": {},
   "outputs": [
    {
     "data": {
      "text/plain": [
       "{'key1': 'value1', 'key2': 'value2'}"
      ]
     },
     "execution_count": 2,
     "metadata": {},
     "output_type": "execute_result"
    }
   ],
   "source": [
    "my_dict"
   ]
  },
  {
   "cell_type": "code",
   "execution_count": 3,
   "id": "3ee94dcb",
   "metadata": {},
   "outputs": [
    {
     "data": {
      "text/plain": [
       "'value2'"
      ]
     },
     "execution_count": 3,
     "metadata": {},
     "output_type": "execute_result"
    }
   ],
   "source": [
    "my_dict[\"key2\"]"
   ]
  },
  {
   "cell_type": "code",
   "execution_count": 6,
   "id": "3653a504",
   "metadata": {},
   "outputs": [
    {
     "name": "stdout",
     "output_type": "stream",
     "text": [
      "ITEM1\n"
     ]
    }
   ],
   "source": [
    "my_dict = {'cat':123,'key2':[12,23,33],'key3':['item0','item1','item2']}\n",
    "# print(my_dict['key3'])\n",
    "# print(my_dict['key3'][-1])\n",
    "print(my_dict['key3'][1].upper())"
   ]
  },
  {
   "cell_type": "code",
   "execution_count": 8,
   "id": "052913b2",
   "metadata": {},
   "outputs": [
    {
     "data": {
      "text/plain": [
       "0"
      ]
     },
     "execution_count": 8,
     "metadata": {},
     "output_type": "execute_result"
    }
   ],
   "source": [
    "my_dict['cat'] -123"
   ]
  },
  {
   "cell_type": "code",
   "execution_count": 9,
   "id": "1755f957",
   "metadata": {},
   "outputs": [
    {
     "data": {
      "text/plain": [
       "0"
      ]
     },
     "execution_count": 9,
     "metadata": {},
     "output_type": "execute_result"
    }
   ],
   "source": [
    "my_dict['cat'] = my_dict['cat'] - 123\n",
    "my_dict['cat']"
   ]
  },
  {
   "cell_type": "code",
   "execution_count": 10,
   "id": "b97a8e99",
   "metadata": {},
   "outputs": [
    {
     "data": {
      "text/plain": [
       "{'cat': 0, 'key2': [12, 23, 33], 'key3': ['item0', 'item1', 'item2']}"
      ]
     },
     "execution_count": 10,
     "metadata": {},
     "output_type": "execute_result"
    }
   ],
   "source": [
    "my_dict"
   ]
  },
  {
   "cell_type": "code",
   "execution_count": 17,
   "id": "0f120066",
   "metadata": {},
   "outputs": [
    {
     "name": "stdout",
     "output_type": "stream",
     "text": [
      "cat\n",
      "key2\n",
      "key3\n"
     ]
    }
   ],
   "source": [
    "for i in my_dict.keys():\n",
    "    print(i)"
   ]
  },
  {
   "cell_type": "code",
   "execution_count": 18,
   "id": "ffdd0723",
   "metadata": {},
   "outputs": [
    {
     "name": "stdout",
     "output_type": "stream",
     "text": [
      "0\n",
      "[12, 23, 33]\n",
      "['item0', 'item1', 'item2']\n"
     ]
    }
   ],
   "source": [
    "for i in my_dict.values():\n",
    "    print(i)"
   ]
  },
  {
   "cell_type": "code",
   "execution_count": 20,
   "id": "cf9a95c6",
   "metadata": {},
   "outputs": [
    {
     "name": "stdout",
     "output_type": "stream",
     "text": [
      "cat\n",
      "0\n",
      "key2\n",
      "[12, 23, 33]\n",
      "key3\n",
      "['item0', 'item1', 'item2']\n"
     ]
    }
   ],
   "source": [
    "for i,j in my_dict.items():\n",
    "    print(i)\n",
    "    print(j)"
   ]
  },
  {
   "cell_type": "code",
   "execution_count": 21,
   "id": "6bd3f0d8",
   "metadata": {},
   "outputs": [],
   "source": [
    "d = dict()"
   ]
  },
  {
   "cell_type": "code",
   "execution_count": 26,
   "id": "e69b12d7",
   "metadata": {},
   "outputs": [
    {
     "data": {
      "text/plain": [
       "{'animal': 'Dog', 'answer': [45, 44]}"
      ]
     },
     "execution_count": 26,
     "metadata": {},
     "output_type": "execute_result"
    }
   ],
   "source": [
    "d = {}\n",
    "d['animal'] = 'Dog'\n",
    "d['answer'] = 44\n",
    "d['answer'] = [45,44]\n",
    "d"
   ]
  },
  {
   "cell_type": "code",
   "execution_count": 35,
   "id": "7d9dc791",
   "metadata": {},
   "outputs": [],
   "source": [
    "d = {'key1':{'nestkey':{'subnestkey':'value'}}}"
   ]
  },
  {
   "cell_type": "code",
   "execution_count": 29,
   "id": "00bda250",
   "metadata": {},
   "outputs": [
    {
     "data": {
      "text/plain": [
       "dict_keys(['key1'])"
      ]
     },
     "execution_count": 29,
     "metadata": {},
     "output_type": "execute_result"
    }
   ],
   "source": [
    "d.keys()"
   ]
  },
  {
   "cell_type": "code",
   "execution_count": 36,
   "id": "29dddcda",
   "metadata": {},
   "outputs": [
    {
     "data": {
      "text/plain": [
       "dict_values([{'nestkey': {'subnestkey': 'value'}}])"
      ]
     },
     "execution_count": 36,
     "metadata": {},
     "output_type": "execute_result"
    }
   ],
   "source": [
    "d.values()"
   ]
  },
  {
   "cell_type": "code",
   "execution_count": null,
   "id": "fcd2b5ff",
   "metadata": {},
   "outputs": [],
   "source": [
    "i = {'nestkey': {'subnestkey': 'value'}}"
   ]
  },
  {
   "cell_type": "code",
   "execution_count": 39,
   "id": "6723ffbd",
   "metadata": {},
   "outputs": [
    {
     "name": "stdout",
     "output_type": "stream",
     "text": [
      "value\n"
     ]
    }
   ],
   "source": [
    "for i in d.values():\n",
    "#     print(i.values())\n",
    "    for j in i.values():\n",
    "#         print(j.values())\n",
    "        for k in j.values():\n",
    "            print(k)\n",
    "\n"
   ]
  },
  {
   "cell_type": "markdown",
   "id": "83e9f9c3",
   "metadata": {},
   "source": [
    "### Tuples\n",
    "\n",
    "In Python tuples are very similar to lists, however, unlike lists they are immutable meaning they can not be changed."
   ]
  },
  {
   "cell_type": "code",
   "execution_count": null,
   "id": "dd1f19ab",
   "metadata": {},
   "outputs": [],
   "source": [
    "t = (1,2,3,7,6,5,2,4,2,4,9,2)\n",
    "len(t)"
   ]
  },
  {
   "cell_type": "code",
   "execution_count": null,
   "id": "007d386d",
   "metadata": {},
   "outputs": [],
   "source": [
    "t[0]"
   ]
  },
  {
   "cell_type": "code",
   "execution_count": null,
   "id": "bf146812",
   "metadata": {},
   "outputs": [],
   "source": [
    "t.index(7)"
   ]
  },
  {
   "cell_type": "code",
   "execution_count": null,
   "id": "44e0b3d8",
   "metadata": {},
   "outputs": [],
   "source": [
    "t.count(2)"
   ]
  },
  {
   "cell_type": "markdown",
   "id": "9439477b",
   "metadata": {},
   "source": [
    "##### Immutability"
   ]
  },
  {
   "cell_type": "code",
   "execution_count": null,
   "id": "eea02d3e",
   "metadata": {},
   "outputs": [],
   "source": [
    "a = [0,1,2,3]"
   ]
  },
  {
   "cell_type": "code",
   "execution_count": null,
   "id": "2d78aecc",
   "metadata": {},
   "outputs": [],
   "source": [
    "a[0] = 5"
   ]
  },
  {
   "cell_type": "code",
   "execution_count": null,
   "id": "3b278269",
   "metadata": {},
   "outputs": [],
   "source": [
    "a"
   ]
  },
  {
   "cell_type": "code",
   "execution_count": null,
   "id": "19ea0c6d",
   "metadata": {},
   "outputs": [],
   "source": [
    "# t[0]= 'change'"
   ]
  },
  {
   "cell_type": "code",
   "execution_count": null,
   "id": "05382bb7",
   "metadata": {},
   "outputs": [],
   "source": [
    "# t.append('nope')"
   ]
  },
  {
   "cell_type": "code",
   "execution_count": null,
   "id": "c85b90d3",
   "metadata": {},
   "outputs": [],
   "source": [
    "li = list(t)\n",
    "li"
   ]
  },
  {
   "cell_type": "markdown",
   "id": "7a185eba",
   "metadata": {},
   "source": [
    "### Sets\n",
    "\n",
    "Sets are an unordered collection of unique elements. We can construct them by using the set() function"
   ]
  },
  {
   "cell_type": "code",
   "execution_count": null,
   "id": "29ca1dc7",
   "metadata": {},
   "outputs": [],
   "source": [
    "x = set()\n",
    "x.add(1)\n",
    "x.add(2)\n",
    "x.add(2)\n",
    "x.add(3)\n",
    "x"
   ]
  },
  {
   "cell_type": "code",
   "execution_count": null,
   "id": "66304c78",
   "metadata": {},
   "outputs": [],
   "source": [
    "l = [1,1,2,2,3,4,5,6,1,1]\n",
    "l"
   ]
  },
  {
   "cell_type": "code",
   "execution_count": null,
   "id": "1ba4e49f",
   "metadata": {},
   "outputs": [],
   "source": [
    "set(l)"
   ]
  },
  {
   "cell_type": "code",
   "execution_count": null,
   "id": "ce0665cd",
   "metadata": {},
   "outputs": [],
   "source": [
    "li =[]\n",
    "for i in l:\n",
    "    if i not in li:\n",
    "        li.append(i)"
   ]
  },
  {
   "cell_type": "markdown",
   "id": "d2fccdb6",
   "metadata": {},
   "source": [
    "### Comparision Operator\n",
    "\n",
    "\n",
    "##### Table of Comparison Operators\n",
    "\n",
    "<table class=\"table table-bordered\">\n",
    "<tr>\n",
    "<th style=\"width:10%\">Operator</th><th style=\"width:45%\">Description</th><th>Example</th>\n",
    "</tr>\n",
    "<tr>\n",
    "<td>==</td>\n",
    "<td>If the values of two operands are equal, then the condition becomes true.</td>\n",
    "<td> (a == b) is not true.</td>\n",
    "</tr>\n",
    "<tr>\n",
    "<td>!=</td>\n",
    "<td>If values of two operands are not equal, then condition becomes true.</td>\n",
    "<td>(a != b) is true</td>\n",
    "</tr>\n",
    "<tr>\n",
    "<td>&lt;&gt;</td>\n",
    "<td>If values of two operands are not equal, then condition becomes true.</td>\n",
    "<td> (a &lt;&gt; b) is true. This is similar to != operator.</td>\n",
    "</tr>\n",
    "<tr>\n",
    "<td>&gt;</td>\n",
    "<td>If the value of left operand is greater than the value of right operand, then condition becomes true.</td>\n",
    "<td> (a &gt; b) is not true.</td>\n",
    "</tr>\n",
    "<tr>\n",
    "<td>&lt;</td>\n",
    "<td>If the value of left operand is less than the value of right operand, then condition becomes true.</td>\n",
    "<td> (a &lt; b) is true.</td>\n",
    "</tr>\n",
    "<tr>\n",
    "<td>&gt;=</td>\n",
    "<td>If the value of left operand is greater than or equal to the value of right operand, then condition becomes true.</td>\n",
    "<td> (a &gt;= b) is not true. </td>\n",
    "</tr>\n",
    "<tr>\n",
    "<td>&lt;=</td>\n",
    "<td>If the value of left operand is less than or equal to the value of right operand, then condition becomes true.</td>\n",
    "<td> (a &lt;= b) is true. </td>\n",
    "</tr>\n",
    "</table>"
   ]
  },
  {
   "cell_type": "markdown",
   "id": "49fd8c60",
   "metadata": {},
   "source": [
    "##### Equal"
   ]
  },
  {
   "cell_type": "code",
   "execution_count": null,
   "id": "0daeed9a",
   "metadata": {},
   "outputs": [],
   "source": [
    "9==9"
   ]
  },
  {
   "cell_type": "code",
   "execution_count": null,
   "id": "61696743",
   "metadata": {},
   "outputs": [],
   "source": [
    "9==0"
   ]
  },
  {
   "cell_type": "markdown",
   "id": "9857d2af",
   "metadata": {},
   "source": [
    "##### Not Equal"
   ]
  },
  {
   "cell_type": "code",
   "execution_count": null,
   "id": "11d3b9c4",
   "metadata": {},
   "outputs": [],
   "source": [
    "2 != 1"
   ]
  },
  {
   "cell_type": "code",
   "execution_count": null,
   "id": "43e6f8b2",
   "metadata": {},
   "outputs": [],
   "source": [
    "2 != 2"
   ]
  },
  {
   "cell_type": "markdown",
   "id": "e8793caa",
   "metadata": {},
   "source": [
    "##### Greater than"
   ]
  },
  {
   "cell_type": "code",
   "execution_count": null,
   "id": "19440e4d",
   "metadata": {},
   "outputs": [],
   "source": [
    "2 > 1"
   ]
  },
  {
   "cell_type": "code",
   "execution_count": null,
   "id": "60741930",
   "metadata": {},
   "outputs": [],
   "source": [
    "2 > 4"
   ]
  },
  {
   "cell_type": "markdown",
   "id": "b1ab53b5",
   "metadata": {},
   "source": [
    "##### Less than "
   ]
  },
  {
   "cell_type": "code",
   "execution_count": null,
   "id": "b31bd6b8",
   "metadata": {},
   "outputs": [],
   "source": [
    "2 < 4"
   ]
  },
  {
   "cell_type": "code",
   "execution_count": null,
   "id": "b87f827c",
   "metadata": {},
   "outputs": [],
   "source": [
    "2 < 1"
   ]
  },
  {
   "cell_type": "markdown",
   "id": "97293b31",
   "metadata": {},
   "source": [
    "##### Greater Than or Equal to"
   ]
  },
  {
   "cell_type": "code",
   "execution_count": null,
   "id": "ee98ec5a",
   "metadata": {},
   "outputs": [],
   "source": [
    "2 >= 2"
   ]
  },
  {
   "cell_type": "code",
   "execution_count": null,
   "id": "58a360a1",
   "metadata": {},
   "outputs": [],
   "source": [
    "2 >= 1"
   ]
  },
  {
   "cell_type": "markdown",
   "id": "50eef21d",
   "metadata": {},
   "source": [
    "##### Less than or Equal to"
   ]
  },
  {
   "cell_type": "code",
   "execution_count": null,
   "id": "0dc563b8",
   "metadata": {},
   "outputs": [],
   "source": [
    "2 <= 2"
   ]
  },
  {
   "cell_type": "code",
   "execution_count": null,
   "id": "6b38a23b",
   "metadata": {},
   "outputs": [],
   "source": [
    "2 <= 4"
   ]
  },
  {
   "cell_type": "markdown",
   "id": "37956710",
   "metadata": {},
   "source": [
    "##### Advanced comparisions"
   ]
  },
  {
   "cell_type": "code",
   "execution_count": null,
   "id": "f3dbdf24",
   "metadata": {},
   "outputs": [],
   "source": [
    "1 < 2 < 3"
   ]
  },
  {
   "cell_type": "code",
   "execution_count": null,
   "id": "24373690",
   "metadata": {},
   "outputs": [],
   "source": [
    "1<2 and 2<3"
   ]
  },
  {
   "cell_type": "code",
   "execution_count": null,
   "id": "40093a2e",
   "metadata": {},
   "outputs": [],
   "source": [
    "1<2 and 2<1"
   ]
  },
  {
   "cell_type": "code",
   "execution_count": null,
   "id": "3ec490a0",
   "metadata": {},
   "outputs": [],
   "source": [
    "1 < 3 > 2"
   ]
  },
  {
   "cell_type": "code",
   "execution_count": null,
   "id": "bcd9e22c",
   "metadata": {},
   "outputs": [],
   "source": [
    "1<3 and 3>2"
   ]
  },
  {
   "cell_type": "code",
   "execution_count": null,
   "id": "bd35ead7",
   "metadata": {},
   "outputs": [],
   "source": [
    "1==2 or 2<3"
   ]
  },
  {
   "cell_type": "code",
   "execution_count": null,
   "id": "2c115fd7",
   "metadata": {},
   "outputs": [],
   "source": [
    "1==2 or 100==1"
   ]
  },
  {
   "cell_type": "markdown",
   "id": "4e07257c",
   "metadata": {},
   "source": [
    "### If else statement\n",
    "\n",
    "If Statements in Python allows us to tell the computer to perform alternative actions based on a certain set of results."
   ]
  },
  {
   "cell_type": "code",
   "execution_count": null,
   "id": "7cf98ab1",
   "metadata": {},
   "outputs": [],
   "source": [
    "a = 'Bank'\n",
    "\n",
    "if a == 'Auto Shop':\n",
    "    print('Welcome to the Auto Shop!')\n",
    "    \n",
    "elif a == 'Bank':\n",
    "    print('Welcome to the bank!')\n",
    "    \n",
    "else:\n",
    "    print(\"Where are you?\")"
   ]
  },
  {
   "cell_type": "markdown",
   "id": "51daeab6",
   "metadata": {},
   "source": [
    "### For loops\n",
    "A for loop acts as an iterator in Python, it goes through items that are in a sequence or any other iterable item. Objects that we've learned about that we can iterate over include strings,lists,tuples, and even built in iterables for dictionaries, such as the keys or values."
   ]
  },
  {
   "cell_type": "code",
   "execution_count": null,
   "id": "08a56c44",
   "metadata": {},
   "outputs": [],
   "source": [
    "l = [1,2,3,4,5,6,7,8,9,10]\n",
    "\n",
    "for num in l:\n",
    "    print(num)"
   ]
  },
  {
   "cell_type": "code",
   "execution_count": null,
   "id": "b3df028a",
   "metadata": {},
   "outputs": [],
   "source": [
    "for num in l:\n",
    "    if num % 2 == 0:\n",
    "        print(num)\n",
    "    else:\n",
    "        print('Odd number')"
   ]
  },
  {
   "cell_type": "code",
   "execution_count": null,
   "id": "e4934d45",
   "metadata": {},
   "outputs": [],
   "source": [
    "l = [1,2,3,4,5,6,7,8,9,10]"
   ]
  },
  {
   "cell_type": "code",
   "execution_count": null,
   "id": "aad1818e",
   "metadata": {},
   "outputs": [],
   "source": [
    "list_sum = 0 \n",
    "\n",
    "for num in l:\n",
    "    list_sum = list_sum + num\n",
    "print(list_sum)"
   ]
  },
  {
   "cell_type": "code",
   "execution_count": null,
   "id": "642c3337",
   "metadata": {},
   "outputs": [],
   "source": [
    "for letter in 'This is a string.':\n",
    "    print(letter)"
   ]
  },
  {
   "cell_type": "code",
   "execution_count": null,
   "id": "e4f850fe",
   "metadata": {},
   "outputs": [],
   "source": [
    "d = {'k1':1,'k2':2,'k3':3}\n",
    "d.items()"
   ]
  },
  {
   "cell_type": "code",
   "execution_count": null,
   "id": "0a15c734",
   "metadata": {},
   "outputs": [],
   "source": [
    "d = {'k1':1,'k2':2,'k3':3}\n",
    "\n",
    "for k,v in d.items():\n",
    "    print(k,v)\n"
   ]
  },
  {
   "cell_type": "code",
   "execution_count": null,
   "id": "52abe61b",
   "metadata": {},
   "outputs": [],
   "source": [
    "for k in d.keys():\n",
    "    print(k)"
   ]
  },
  {
   "cell_type": "code",
   "execution_count": null,
   "id": "2ba2513e",
   "metadata": {},
   "outputs": [],
   "source": [
    "for v in d.values():\n",
    "    print(v)"
   ]
  },
  {
   "cell_type": "markdown",
   "id": "3743bffb",
   "metadata": {},
   "source": [
    "### While loops\n",
    "The while statement in Python is one of most general ways to perform iteration. A while statement will repeatedly execute a single statement or group of statements as long as the condition is true. The reason it is called a 'loop' is because the code statements are looped through over and over again until the condition is no longer met."
   ]
  },
  {
   "cell_type": "code",
   "execution_count": null,
   "id": "8b5a0238",
   "metadata": {},
   "outputs": [],
   "source": [
    "i=0\n",
    "while i<=11:\n",
    "    print(i)\n",
    "    i = i+1"
   ]
  },
  {
   "cell_type": "code",
   "execution_count": null,
   "id": "95cef36a",
   "metadata": {},
   "outputs": [],
   "source": [
    "x = 0\n",
    "\n",
    "while x < 11:\n",
    "    if x<10:\n",
    "        print('x is currently: ',x)\n",
    "        print(' x is still less than 10, adding 1 to x')\n",
    "    elif x==10:\n",
    "        print('x is currently: ',x)\n",
    "        print('Now x = 10')\n",
    "    x += 1"
   ]
  },
  {
   "cell_type": "code",
   "execution_count": null,
   "id": "1e16c93f",
   "metadata": {},
   "outputs": [],
   "source": [
    "x = 0\n",
    "\n",
    "while x < 10:\n",
    "    print('x is currently: ',x)\n",
    "    print(' x is still less than 10, adding 1 to x')\n",
    "    x+=1\n",
    "    if x ==5:\n",
    "        print('Breaking because x=5')\n",
    "        break\n",
    "    else:\n",
    "        print('continuing...')\n",
    "        continue"
   ]
  },
  {
   "cell_type": "markdown",
   "id": "c0757bbb",
   "metadata": {},
   "source": [
    "### Range\n",
    "range() allows us to create a list of numbers ranging from a starting point up to an ending point"
   ]
  },
  {
   "cell_type": "code",
   "execution_count": 9,
   "id": "22f1266b",
   "metadata": {},
   "outputs": [
    {
     "name": "stdout",
     "output_type": "stream",
     "text": [
      "0\n",
      "1\n",
      "2\n",
      "3\n",
      "4\n",
      "5\n",
      "6\n",
      "7\n",
      "8\n",
      "9\n"
     ]
    }
   ],
   "source": [
    "for num in range(10):\n",
    "    print(num)"
   ]
  },
  {
   "cell_type": "code",
   "execution_count": null,
   "id": "18a6fa5f",
   "metadata": {},
   "outputs": [],
   "source": [
    "for num in range(0,5):\n",
    "    print(num)"
   ]
  },
  {
   "cell_type": "code",
   "execution_count": null,
   "id": "3c7ed899",
   "metadata": {},
   "outputs": [],
   "source": [
    "for num in range(0,10,2):\n",
    "    print(num)"
   ]
  },
  {
   "cell_type": "markdown",
   "id": "b5514575",
   "metadata": {},
   "source": [
    "### Functions\n",
    "\n",
    "A function is a useful concept that groups together a set of statements so they can be run more than once. They can also let us specify parameters that can serve as inputs to the functions.\n",
    "\n",
    "On a more fundamental level, functions allow us to not have to repeatedly write the same code again and again. A function len() to get the length of a string. Since checking the length of a sequence is a common task you would want to write a function that can do this repeatedly at command."
   ]
  },
  {
   "cell_type": "code",
   "execution_count": null,
   "id": "e20eb104",
   "metadata": {},
   "outputs": [],
   "source": [
    "def say_hello():\n",
    "    print('hello')\n",
    "    \n",
    "say_hello()"
   ]
  },
  {
   "cell_type": "code",
   "execution_count": null,
   "id": "e83a8a71",
   "metadata": {},
   "outputs": [],
   "source": [
    "def add_num(num1,num2):\n",
    "    num3 = num1+num2\n",
    "    num4 = num1-num2\n",
    "    return num3, num4\n",
    "\n",
    "add_num(100,60)"
   ]
  },
  {
   "cell_type": "markdown",
   "id": "08756a4c",
   "metadata": {},
   "source": [
    "### Lambda Function\n",
    "\n",
    "lambda expressions allow us to create \"anonymous\" functions. This basically means we can quickly make ad-hoc functions without needing to properly define a function using def.\n",
    "\n",
    "\n",
    "lambda's body is a single expression, not a block of statements.\n",
    "\n",
    "The lambda's body is similar to what we would put in a def body's return statement. We simply type the result as an expression instead of explicitly returning it. Because it is limited to an expression, a lambda is less general that a def. We can only squeeze design, to limit program nesting. lambda is designed for coding simple functions, and def handles the larger tasks."
   ]
  },
  {
   "cell_type": "code",
   "execution_count": null,
   "id": "0a5e8dd0",
   "metadata": {},
   "outputs": [],
   "source": [
    "square = lambda num1, num2: num1*num2\n",
    "square(3,4)"
   ]
  },
  {
   "cell_type": "code",
   "execution_count": null,
   "id": "73ced7d5",
   "metadata": {},
   "outputs": [],
   "source": [
    "square1 = lambda num: num**2\n",
    "square1(10)"
   ]
  },
  {
   "cell_type": "code",
   "execution_count": null,
   "id": "0cae9a06",
   "metadata": {},
   "outputs": [],
   "source": [
    "even = lambda x: x%2==0 # vCheck even number\n",
    "\n",
    "print(even(4))\n",
    "print(even(3))"
   ]
  },
  {
   "cell_type": "code",
   "execution_count": null,
   "id": "24c3f022",
   "metadata": {
    "scrolled": true
   },
   "outputs": [],
   "source": [
    "first = lambda s: s[0]\n",
    "\n",
    "first('hello')"
   ]
  },
  {
   "cell_type": "code",
   "execution_count": null,
   "id": "7bb62d6c",
   "metadata": {},
   "outputs": [],
   "source": [
    "rev = lambda s: s[::-1]\n",
    "rev('hello')"
   ]
  },
  {
   "cell_type": "code",
   "execution_count": null,
   "id": "b348a691",
   "metadata": {},
   "outputs": [],
   "source": [
    "adder = lambda x,y : x+y\n",
    "adder(2,3)"
   ]
  },
  {
   "cell_type": "code",
   "execution_count": null,
   "id": "b4db1fb0",
   "metadata": {},
   "outputs": [],
   "source": [
    "a = [1,2,3]"
   ]
  },
  {
   "cell_type": "code",
   "execution_count": 10,
   "id": "a3785748",
   "metadata": {},
   "outputs": [
    {
     "ename": "NameError",
     "evalue": "name 'a' is not defined",
     "output_type": "error",
     "traceback": [
      "\u001b[1;31m---------------------------------------------------------------------------\u001b[0m",
      "\u001b[1;31mNameError\u001b[0m                                 Traceback (most recent call last)",
      "Cell \u001b[1;32mIn[10], line 1\u001b[0m\n\u001b[1;32m----> 1\u001b[0m b \u001b[38;5;241m=\u001b[39m \u001b[38;5;28mtuple\u001b[39m(\u001b[43ma\u001b[49m)\n",
      "\u001b[1;31mNameError\u001b[0m: name 'a' is not defined"
     ]
    }
   ],
   "source": [
    "b = tuple(a)"
   ]
  },
  {
   "cell_type": "code",
   "execution_count": null,
   "id": "8399f13f",
   "metadata": {},
   "outputs": [],
   "source": [
    "b"
   ]
  },
  {
   "cell_type": "code",
   "execution_count": null,
   "id": "46e467b6",
   "metadata": {},
   "outputs": [],
   "source": [
    "c = list(b)"
   ]
  },
  {
   "cell_type": "code",
   "execution_count": null,
   "id": "88f17c2d",
   "metadata": {},
   "outputs": [],
   "source": [
    "c"
   ]
  },
  {
   "cell_type": "code",
   "execution_count": null,
   "id": "0a864825",
   "metadata": {},
   "outputs": [],
   "source": [
    "a = '1'\n",
    "b = 1"
   ]
  },
  {
   "cell_type": "code",
   "execution_count": null,
   "id": "5e9827ef",
   "metadata": {},
   "outputs": [],
   "source": [
    "int(a) +10"
   ]
  },
  {
   "cell_type": "code",
   "execution_count": null,
   "id": "7a625ab2",
   "metadata": {},
   "outputs": [],
   "source": [
    "c = int(a)"
   ]
  },
  {
   "cell_type": "code",
   "execution_count": null,
   "id": "1949ee99",
   "metadata": {},
   "outputs": [],
   "source": [
    "type(c)"
   ]
  },
  {
   "cell_type": "code",
   "execution_count": null,
   "id": "8a8bba92",
   "metadata": {},
   "outputs": [],
   "source": [
    "d = {'k1':1,'k1':1,'k3':3}"
   ]
  },
  {
   "cell_type": "code",
   "execution_count": null,
   "id": "5a4bbf1c",
   "metadata": {},
   "outputs": [],
   "source": [
    "a = [3,1,5,4]"
   ]
  },
  {
   "cell_type": "code",
   "execution_count": null,
   "id": "51718b13",
   "metadata": {},
   "outputs": [],
   "source": [
    "d={}"
   ]
  },
  {
   "cell_type": "code",
   "execution_count": null,
   "id": "f91db071",
   "metadata": {},
   "outputs": [],
   "source": [
    "for i in range(0,len(a),2):\n",
    "    d[a[i]] = a[i+1]"
   ]
  },
  {
   "cell_type": "code",
   "execution_count": null,
   "id": "b0e545d5",
   "metadata": {},
   "outputs": [],
   "source": [
    "d"
   ]
  },
  {
   "cell_type": "code",
   "execution_count": null,
   "id": "751868f1",
   "metadata": {},
   "outputs": [],
   "source": [
    "min(list(d.values()))"
   ]
  },
  {
   "cell_type": "markdown",
   "id": "263f80ac",
   "metadata": {},
   "source": [
    "## File Handling"
   ]
  },
  {
   "cell_type": "code",
   "execution_count": null,
   "id": "9a5f78bf",
   "metadata": {},
   "outputs": [],
   "source": [
    "with open(\"foo.txt\", \"a\") as f:\n",
    "     f.write(\"new line\\n\")"
   ]
  },
  {
   "cell_type": "code",
   "execution_count": null,
   "id": "799895a6",
   "metadata": {},
   "outputs": [],
   "source": [
    "with open(\"foo.txt\", \"r+\") as f:\n",
    "    old = f.read()\n",
    "    f.write(\"new line 2\\n\" )"
   ]
  },
  {
   "cell_type": "code",
   "execution_count": null,
   "id": "5c53fe5a",
   "metadata": {},
   "outputs": [],
   "source": [
    "import json\n",
    "\n",
    "my_dict = {\"name\": \"John\", \"age\": 30, \"city\": \"New York\"}\n",
    "\n",
    "json_str = json.dumps(my_dict)"
   ]
  },
  {
   "cell_type": "code",
   "execution_count": null,
   "id": "ae53ac58",
   "metadata": {},
   "outputs": [],
   "source": [
    "json_str"
   ]
  },
  {
   "cell_type": "code",
   "execution_count": null,
   "id": "c461fbab",
   "metadata": {},
   "outputs": [],
   "source": [
    "with open(\"my_file.json\", \"w\") as f:\n",
    "    f.write(json_str)"
   ]
  },
  {
   "cell_type": "code",
   "execution_count": null,
   "id": "dcc95424",
   "metadata": {},
   "outputs": [],
   "source": [
    "f = open ('my_file.json', \"r\")\n",
    "data = json.loads(f.read())"
   ]
  },
  {
   "cell_type": "code",
   "execution_count": null,
   "id": "5e8f0c83",
   "metadata": {},
   "outputs": [],
   "source": [
    "data"
   ]
  },
  {
   "cell_type": "code",
   "execution_count": null,
   "id": "4bfa1a21",
   "metadata": {},
   "outputs": [],
   "source": [
    "import csv\n",
    "\n",
    "with open('my_file.csv', 'w', newline='') as csvfile:\n",
    "    writer = csv.writer(csvfile)\n",
    "    writer.writerow(['Name', 'Age', 'City'])\n",
    "    writer.writerow(['John', '30', 'New York'])\n",
    "    writer.writerow(['Jane', '25', 'Los Angeles'])\n"
   ]
  },
  {
   "cell_type": "code",
   "execution_count": null,
   "id": "548bd4d3",
   "metadata": {},
   "outputs": [],
   "source": [
    "import csv\n",
    "\n",
    "with open('my_file.csv','r') as csvfile:\n",
    "    reader = csv.reader(csvfile)\n",
    "    for row in reader:\n",
    "        print(row)\n"
   ]
  },
  {
   "cell_type": "markdown",
   "id": "41d7846d",
   "metadata": {},
   "source": [
    "## Try & except"
   ]
  },
  {
   "cell_type": "code",
   "execution_count": null,
   "id": "1a20a887",
   "metadata": {
    "scrolled": true
   },
   "outputs": [],
   "source": [
    "li = [10,15,20]\n",
    "try:\n",
    "    for i in range(4):\n",
    "        print(li[i])\n",
    "except:\n",
    "    pass"
   ]
  },
  {
   "cell_type": "markdown",
   "id": "991b57eb",
   "metadata": {},
   "source": [
    "### Object Oriented programming\n",
    "\n",
    "In Python, everything is an object.we can use type() to check the type of object something is:"
   ]
  },
  {
   "cell_type": "code",
   "execution_count": null,
   "id": "9f636ed7",
   "metadata": {},
   "outputs": [],
   "source": [
    "print (type(1))\n",
    "print (type([]))\n",
    "print (type(()))\n",
    "print (type({}))"
   ]
  },
  {
   "cell_type": "markdown",
   "id": "5e05af76",
   "metadata": {},
   "source": [
    "##### class\n",
    "\n",
    "The user defined objects are created using the class keyword. The class is a blueprint that defines a nature of a future object. From classes we can construct instances. An instance is a specific object created from a particular class. "
   ]
  },
  {
   "cell_type": "markdown",
   "id": "2d551485",
   "metadata": {},
   "source": [
    "By convention we give classes a name that starts with a capital letter. Note how x is now the reference to our new instance of a Sample class. In other words, we instantiate the Sample class.\n",
    "\n",
    "Inside of the class we currently just have pass. But we can define class attributes and methods.\n",
    "\n",
    "An attribute is a characteristic of an object. A method is an operation we can perform with the object.\n",
    "\n",
    "For example we can create a class called Dog. An attribute of a dog may be its breed or its name, while a method of a dog may be defined by a .bark() method which returns a sound."
   ]
  },
  {
   "cell_type": "code",
   "execution_count": null,
   "id": "70dafff7",
   "metadata": {},
   "outputs": [],
   "source": [
    "class Demo:\n",
    "    a = 'Hello world'\n",
    "    \n",
    "    def sample(self):\n",
    "        print(10+50)\n",
    "main_demo = Demo()\n",
    "main_demo.sample()"
   ]
  },
  {
   "cell_type": "code",
   "execution_count": 8,
   "id": "2b2fb0a0",
   "metadata": {},
   "outputs": [],
   "source": [
    "class Hello:\n",
    "    a = 50\n",
    "    def sample(self):\n",
    "        print(self.a)\n",
    "        \n",
    "    def sample2(self):\n",
    "        c = self.a*self.a\n",
    "        return c\n",
    "    \n",
    "    def sample3(self,a,b):\n",
    "        print(a+b)"
   ]
  },
  {
   "cell_type": "code",
   "execution_count": 9,
   "id": "25ad8aca",
   "metadata": {},
   "outputs": [
    {
     "name": "stdout",
     "output_type": "stream",
     "text": [
      "6\n"
     ]
    }
   ],
   "source": [
    "obj = Hello()\n",
    "obj.sample3(5,1)"
   ]
  },
  {
   "cell_type": "code",
   "execution_count": null,
   "id": "fd18fcef",
   "metadata": {},
   "outputs": [],
   "source": [
    "# class Demo1:\n",
    "#     a = 50\n",
    "#     def __init__(self):\n",
    "#         print('Broader AI')\n",
    "        \n",
    "#     def sample(self):\n",
    "#         print(self.a)\n",
    "        \n",
    "#     def sample1(self):\n",
    "#         c = self.a * self.a\n",
    "#         print(c)\n",
    "        \n",
    "#     def sample2(self,a,b):\n",
    "#         print(a+b)  \n",
    "        \n",
    "# main_demo = Demo1()\n",
    "# main_demo.sample1()"
   ]
  },
  {
   "cell_type": "code",
   "execution_count": 10,
   "id": "1e78745b",
   "metadata": {},
   "outputs": [],
   "source": [
    "class Dog():\n",
    "    def __init__(self,breed):\n",
    "        self.breed = breed\n",
    "        \n",
    "sam = Dog('Lab')\n",
    "frank = Dog('Huskie')"
   ]
  },
  {
   "cell_type": "code",
   "execution_count": 11,
   "id": "87593b3b",
   "metadata": {},
   "outputs": [
    {
     "data": {
      "text/plain": [
       "'Lab'"
      ]
     },
     "execution_count": 11,
     "metadata": {},
     "output_type": "execute_result"
    }
   ],
   "source": [
    "sam.breed"
   ]
  },
  {
   "cell_type": "code",
   "execution_count": null,
   "id": "0b3a895e",
   "metadata": {},
   "outputs": [],
   "source": [
    "frank.breed"
   ]
  },
  {
   "cell_type": "code",
   "execution_count": null,
   "id": "07cc60fe",
   "metadata": {},
   "outputs": [],
   "source": []
  },
  {
   "cell_type": "markdown",
   "id": "c78710f3",
   "metadata": {},
   "source": [
    "In Python there are also class object attributes. These Class Object Attributes are the same for any instance of the class. For example, we could create the attribute species for the Dog class."
   ]
  },
  {
   "cell_type": "code",
   "execution_count": null,
   "id": "47f47f6f",
   "metadata": {},
   "outputs": [],
   "source": [
    "class Dog(object):\n",
    "    \n",
    "    # Class Object Attribute\n",
    "    species = 'mammal'\n",
    "    \n",
    "    def __init__(self,breed,name):\n",
    "        self.breed = breed\n",
    "        self.name = name"
   ]
  },
  {
   "cell_type": "code",
   "execution_count": null,
   "id": "d329b7af",
   "metadata": {},
   "outputs": [],
   "source": [
    "sam = Dog('Lab','Sam')"
   ]
  },
  {
   "cell_type": "code",
   "execution_count": null,
   "id": "34b91ff7",
   "metadata": {},
   "outputs": [],
   "source": [
    "sam.name"
   ]
  },
  {
   "cell_type": "code",
   "execution_count": null,
   "id": "4b3a13ab",
   "metadata": {},
   "outputs": [],
   "source": [
    "sam.species"
   ]
  },
  {
   "cell_type": "markdown",
   "id": "4c7eb361",
   "metadata": {},
   "source": [
    "##### Methods"
   ]
  },
  {
   "cell_type": "code",
   "execution_count": null,
   "id": "ea60d295",
   "metadata": {},
   "outputs": [],
   "source": [
    "class Circle(object):\n",
    "    pi = 3.14\n",
    "\n",
    "    # Circle get instantiated with a radius (default is 1)\n",
    "    def __init__(self, radius=1):\n",
    "        self.radius = radius \n",
    "\n",
    "    # Area method calculates the area. Note the use of self.\n",
    "    def area(self):\n",
    "        return self.radius * self.radius * Circle.pi\n",
    "\n",
    "    # Method for resetting Radius\n",
    "    def setRadius(self, radius):\n",
    "        self.radius = radius\n",
    "\n",
    "    # Method for getting radius (Same as just calling .radius)\n",
    "    def getRadius(self):\n",
    "        return self.radius\n",
    "\n",
    "\n",
    "c = Circle()\n",
    "\n",
    "c.setRadius(2)\n",
    "print('Radius is: ',c.getRadius())\n",
    "print('Area is: ',c.area())"
   ]
  },
  {
   "cell_type": "markdown",
   "id": "7e9f454c",
   "metadata": {},
   "source": [
    "##### Inheritance\n",
    "\n",
    "Inheritance is a way to form new classes using classes that have already been defined. The newly formed classes are called derived classes, the classes that we derive from are called base classes. Important benefits of inheritance are code reuse and reduction of complexity of a program. The derived classes (descendants) override or extend the functionality of base classes (ancestors)."
   ]
  },
  {
   "cell_type": "code",
   "execution_count": 12,
   "id": "2ad5e659",
   "metadata": {},
   "outputs": [],
   "source": [
    "class Animal():\n",
    "\n",
    "    def whoAmI(self):\n",
    "        print(\"Animal\")\n",
    "\n",
    "    def eat(self):\n",
    "        print(\"Eating\")\n",
    "\n",
    "\n",
    "class Dog(Animal):\n",
    "    def __init__(self):\n",
    "        Animal.__init__(self)\n",
    "        print(\"Dog created\")\n",
    "\n",
    "    def whoAmI(self):\n",
    "        print(\"Dog\")\n",
    "\n",
    "    def bark(self):\n",
    "        print(\"Woof!\")"
   ]
  },
  {
   "cell_type": "code",
   "execution_count": null,
   "id": "7378ed14",
   "metadata": {},
   "outputs": [],
   "source": [
    "d = Dog()"
   ]
  },
  {
   "cell_type": "code",
   "execution_count": null,
   "id": "7968be55",
   "metadata": {},
   "outputs": [],
   "source": [
    "d.whoAmI()"
   ]
  },
  {
   "cell_type": "code",
   "execution_count": null,
   "id": "93aaf44a",
   "metadata": {},
   "outputs": [],
   "source": [
    "d.eat()"
   ]
  },
  {
   "cell_type": "code",
   "execution_count": null,
   "id": "6b986a67",
   "metadata": {},
   "outputs": [],
   "source": [
    "d.bark()"
   ]
  },
  {
   "cell_type": "markdown",
   "id": "55ebb1bc",
   "metadata": {},
   "source": [
    "##### Default methods"
   ]
  },
  {
   "cell_type": "code",
   "execution_count": 13,
   "id": "d14532ba",
   "metadata": {},
   "outputs": [],
   "source": [
    "class Book(object):\n",
    "    def __init__(self, title, author, pages):\n",
    "        print(\"A book is created\")\n",
    "        self.title = title\n",
    "        self.author = author\n",
    "        self.pages = pages\n",
    "\n",
    "    def __str__(self):\n",
    "        return \"Title:%s , author:%s, pages:%s \" %(self.title, self.author, self.pages)\n",
    "\n",
    "    def __len__(self):\n",
    "        return self.pages\n",
    "\n",
    "    def __del__(self):\n",
    "        print(\"A book is destroyed\")"
   ]
  },
  {
   "cell_type": "code",
   "execution_count": 15,
   "id": "09cd9290",
   "metadata": {},
   "outputs": [
    {
     "name": "stdout",
     "output_type": "stream",
     "text": [
      "A book is created\n",
      "A book is destroyed\n",
      "159\n",
      "A book is destroyed\n"
     ]
    }
   ],
   "source": [
    "book = Book(\"Python Rocks!\", \"Jose Portilla\", 159)\n",
    "\n",
    "# print(book)\n",
    "print(len(book))\n",
    "del book"
   ]
  },
  {
   "cell_type": "markdown",
   "id": "8005a106",
   "metadata": {},
   "source": [
    "### Errors and Exception Handling\n",
    "\n",
    "##### try and except"
   ]
  },
  {
   "cell_type": "code",
   "execution_count": null,
   "id": "c6722d26",
   "metadata": {},
   "outputs": [],
   "source": [
    "try:\n",
    "    f = open('testfile','w')\n",
    "    f.write('Test write this')\n",
    "except IOError:\n",
    "    # This will only check for an IOError exception and then execute this print statement\n",
    "    print(\"Error: Could not find file or read data\")\n",
    "else: # when exception is not excuted\n",
    "    print(\"Content written successfully\")\n",
    "    f.close()"
   ]
  },
  {
   "cell_type": "code",
   "execution_count": null,
   "id": "27f08149",
   "metadata": {},
   "outputs": [],
   "source": [
    "try:\n",
    "    f = open('testfile','r')\n",
    "    f.write('Test write this')\n",
    "except IOError:\n",
    "    # This will only check for an IOError exception and then execute this print statement\n",
    "    print(\"Error: Could not find file or read data\")\n",
    "else:\n",
    "    print(\"Content written successfully\")\n",
    "    f.close()"
   ]
  },
  {
   "cell_type": "code",
   "execution_count": null,
   "id": "6e332406",
   "metadata": {},
   "outputs": [],
   "source": [
    "try:\n",
    "    f = open(\"testfile\", \"w\")\n",
    "    f.write(\"Test write statement\")\n",
    "finally:\n",
    "    print(\"Always execute finally code blocks\")"
   ]
  },
  {
   "cell_type": "markdown",
   "id": "a70a6f3e",
   "metadata": {},
   "source": [
    "### Map\n",
    "\n",
    "map() is a function that takes in two arguments: a function and a sequence iterable. In the form: map(function, sequence)\n",
    "\n",
    "The first argument is the name of a function and the second a sequence (e.g. a list). map() applies the function to all the elements of the sequence. It returns a new list with the elements changed by function."
   ]
  },
  {
   "cell_type": "code",
   "execution_count": null,
   "id": "3151d600",
   "metadata": {},
   "outputs": [],
   "source": [
    "def fahrenheit(T):\n",
    "    return ((float(9)/5)*T + 32)\n",
    "def celsius(T):\n",
    "    return (float(5)/9)*(T-32)\n",
    "    \n",
    "temp = [0, 22.5, 40,100]"
   ]
  },
  {
   "cell_type": "code",
   "execution_count": null,
   "id": "0fec8b4d",
   "metadata": {},
   "outputs": [],
   "source": [
    "F_temps = map(fahrenheit, temp)\n",
    "\n",
    "#Show\n",
    "list(F_temps)"
   ]
  },
  {
   "cell_type": "code",
   "execution_count": null,
   "id": "20f41102",
   "metadata": {},
   "outputs": [],
   "source": [
    "a = map(lambda x: (5.0/9)*(x - 32), F_temps)\n",
    "list(a)"
   ]
  },
  {
   "cell_type": "code",
   "execution_count": null,
   "id": "5fd9aeb9",
   "metadata": {},
   "outputs": [],
   "source": [
    "a = [1,2,3,4]\n",
    "b = [5,6,7,8]\n",
    "c = [9,10,11,12]\n",
    "\n",
    "list(map(lambda x,y:x+y,a,b))"
   ]
  },
  {
   "cell_type": "markdown",
   "id": "23784bae",
   "metadata": {},
   "source": [
    "### Filter\n",
    "\n",
    "The function filter(function, list) offers a convenient way to filter out all the elements of an iterable, for which the function returns True.\n",
    "\n",
    "The function filter(function(),l) needs a function as its first argument. The function needs to return a Boolean value (either True or False). This function will be applied to every element of the iterable. Only if the function returns True will the element of the iterable be included in the result."
   ]
  },
  {
   "cell_type": "code",
   "execution_count": null,
   "id": "8cdc39e5",
   "metadata": {},
   "outputs": [],
   "source": [
    "def even_check(num):\n",
    "    if num%2 ==0:\n",
    "        return True"
   ]
  },
  {
   "cell_type": "code",
   "execution_count": null,
   "id": "5ce25c95",
   "metadata": {},
   "outputs": [],
   "source": [
    "lst =range(20)\n",
    "\n",
    "list(filter(even_check,lst))"
   ]
  },
  {
   "cell_type": "code",
   "execution_count": null,
   "id": "7517636a",
   "metadata": {},
   "outputs": [],
   "source": [
    "list(filter(lambda x: x%2==0,lst))"
   ]
  },
  {
   "cell_type": "markdown",
   "id": "a15d0465",
   "metadata": {},
   "source": [
    "### All() and Any()\n",
    "\n",
    "all() and any() are built-in functions in Python that allow us to conveniently check for boolean matching in an iterable. \n",
    "\n",
    "all() will return True if all elements in an iterable are True. \n",
    "\n",
    "any() will return True if any of the elements in the iterable are True."
   ]
  },
  {
   "cell_type": "code",
   "execution_count": null,
   "id": "0f249ce8",
   "metadata": {},
   "outputs": [],
   "source": [
    "lst = [True,True,False,True]"
   ]
  },
  {
   "cell_type": "code",
   "execution_count": null,
   "id": "a4d4c7df",
   "metadata": {},
   "outputs": [],
   "source": [
    "all(lst)"
   ]
  },
  {
   "cell_type": "code",
   "execution_count": null,
   "id": "45366481",
   "metadata": {},
   "outputs": [],
   "source": [
    "any(lst)"
   ]
  },
  {
   "cell_type": "markdown",
   "id": "c3f34556",
   "metadata": {},
   "source": [
    "### Regex (Regular Expressions)"
   ]
  },
  {
   "cell_type": "markdown",
   "id": "64156bf3",
   "metadata": {},
   "source": [
    "#### Search Patterns"
   ]
  },
  {
   "cell_type": "code",
   "execution_count": null,
   "id": "de0d3653",
   "metadata": {},
   "outputs": [],
   "source": [
    "import re\n",
    "\n",
    "# List of patterns to search for\n",
    "patterns = [ 'NLP', 'data', \"sushil\" ]\n",
    "\n",
    "# Text to parse\n",
    "text = 'NLP stands for Natural Language Processing which is widely used for text data.'\n",
    "\n",
    "for pattern in patterns:\n",
    "    print('Searching for \"%s\" in: \\n\"%s\"' % (pattern, text))\n",
    "    \n",
    "    #Check for match\n",
    "    if re.search(pattern,  text):\n",
    "        print('\\n')\n",
    "        print('Match was found. \\n')\n",
    "    else:\n",
    "        print('\\n')\n",
    "        print('No Match was found.\\n')"
   ]
  },
  {
   "cell_type": "code",
   "execution_count": null,
   "id": "45d74344",
   "metadata": {},
   "outputs": [],
   "source": [
    "pattern = 'Language'\n",
    "\n",
    "match = re.search(pattern,  text)\n",
    "\n",
    "type(match)"
   ]
  },
  {
   "cell_type": "code",
   "execution_count": null,
   "id": "f3701aaf",
   "metadata": {},
   "outputs": [],
   "source": [
    "# Show start of match\n",
    "match.start()"
   ]
  },
  {
   "cell_type": "code",
   "execution_count": null,
   "id": "f83ab0b4",
   "metadata": {},
   "outputs": [],
   "source": [
    "# Show end\n",
    "match.end()"
   ]
  },
  {
   "cell_type": "markdown",
   "id": "2ee40453",
   "metadata": {},
   "source": [
    "#### Splitting Text"
   ]
  },
  {
   "cell_type": "code",
   "execution_count": null,
   "id": "0a67ba22",
   "metadata": {},
   "outputs": [],
   "source": [
    "# Term to split on\n",
    "split_term = 'which'\n",
    "\n",
    "# Split the phrase\n",
    "re.split(split_term,text)"
   ]
  },
  {
   "cell_type": "markdown",
   "id": "b6a3acbb",
   "metadata": {},
   "source": [
    "#### Find all pattern in the given text"
   ]
  },
  {
   "cell_type": "code",
   "execution_count": null,
   "id": "c8e4e1ee",
   "metadata": {},
   "outputs": [],
   "source": [
    "text = \"Machine learning is the best tech now a days. Machine learning is a kind of prediction of the future\"\n",
    "re.findall('Machine', text)"
   ]
  },
  {
   "cell_type": "markdown",
   "id": "c71dd216",
   "metadata": {},
   "source": [
    "#### Pattern re Syntax"
   ]
  },
  {
   "cell_type": "code",
   "execution_count": null,
   "id": "79b9f848",
   "metadata": {},
   "outputs": [],
   "source": [
    "def multi_re_find(patterns,phrase):\n",
    "    '''\n",
    "    Takes in a list of regex patterns\n",
    "    Prints a list of all matches\n",
    "    '''\n",
    "    for pattern in patterns:\n",
    "        print('Searching the phrase using the re check: %s' %pattern)\n",
    "        print(re.findall(pattern,phrase))\n",
    "        print('\\n')"
   ]
  },
  {
   "cell_type": "markdown",
   "id": "f239fee9",
   "metadata": {},
   "source": [
    "##### Repetition Syntax\n",
    "\n",
    "There are five ways to express repetition in a pattern:\n",
    "\n",
    "1.) A pattern followed by the meta-character * is repeated zero or more times. \n",
    "\n",
    "2.) Replace the * with + and the pattern must appear at least once. \n",
    "\n",
    "3.) Using ? means the pattern appears zero or one time. \n",
    "\n",
    "4.) For a specific number of occurrences, use {m} after the pattern, where m is replaced with the number of times the pattern should repeat. \n",
    "\n",
    "5.) Use {m,n} where m is the minimum number of repetitions and n is the maximum. Leaving out n ({m,}) means the value appears at least m times, with no maximum."
   ]
  },
  {
   "cell_type": "code",
   "execution_count": null,
   "id": "47f3e45c",
   "metadata": {},
   "outputs": [],
   "source": [
    "test_phrase = 'sdsd..sssddd...sdddsddd...dsds...dsssss...sdddd'\n",
    "\n",
    "test_patterns = [ 'sd*',     # s followed by zero or more d's\n",
    "                'sd+',          # s followed by one or more d's\n",
    "                'sd?',          # s followed by zero or one d's\n",
    "                'sd{3}',        # s followed by three d's\n",
    "                'sd{2,3}',      # s followed by two to three d's\n",
    "                ]\n",
    "\n",
    "multi_re_find(test_patterns,test_phrase)"
   ]
  },
  {
   "cell_type": "markdown",
   "id": "55dfd518",
   "metadata": {},
   "source": [
    "##### Character Sets\n",
    "\n",
    "Character sets are used when you wish to match any one of a group of characters at a point in the input. Brackets are used to construct character set inputs. For example: the input [ab] searches for occurrences of either a or b. Let's see some examples:"
   ]
  },
  {
   "cell_type": "code",
   "execution_count": null,
   "id": "1adb57d7",
   "metadata": {},
   "outputs": [],
   "source": [
    "test_phrase = 'sdsd..sssddd...sdddsddd...dsds...dsssss...sdddd'\n",
    "\n",
    "test_patterns = [ '[sd]',    # either s or d\n",
    "            's[sd]+']   # s followed by one or more s or d\n",
    "            \n",
    "\n",
    "multi_re_find(test_patterns,test_phrase)"
   ]
  },
  {
   "cell_type": "code",
   "execution_count": null,
   "id": "1060545b",
   "metadata": {},
   "outputs": [],
   "source": [
    "test_phrase = 'This is an example sentence. Lets see if we can find some letters.'\n",
    "\n",
    "test_patterns=[ '[a-z]+',      # sequences of lower case letters\n",
    "                '[A-Z]+',      # sequences of upper case letters\n",
    "                '[a-zA-Z]+',   # sequences of lower or upper case letters\n",
    "                '[A-Z][a-z]+'] # one upper case letter followed by lower case letters\n",
    "                \n",
    "multi_re_find(test_patterns,test_phrase)"
   ]
  },
  {
   "cell_type": "markdown",
   "id": "ae64ea30",
   "metadata": {},
   "source": [
    "##### Escape Codes\n",
    "\n",
    "You can use special escape codes to find specific types of patterns in your data, such as digits, non-digits,whitespace, and more. For example:\n",
    "\n",
    "Code\tMeaning\n",
    "\n",
    "\\d\ta digit\n",
    "\n",
    "\\D\ta non-digit\n",
    "\n",
    "\\s\twhitespace (tab, space, newline, etc.)\n",
    "\n",
    "\\S\tnon-whitespace\n",
    "\n",
    "\\w\talphanumeric\n",
    "\n",
    "\\W\tnon-alphanumeric\n",
    "\n",
    "\n",
    "Escapes are indicated by prefixing the character with a backslash (). Unfortunately, a backslash must itself be escaped in normal Python strings, and that results in expressions that are difficult to read. Using raw strings, created by prefixing the literal value with r, for creating regular expressions eliminates this problem and maintains readability.\n",
    "\n",
    "Personally, I think this use of r to escape a backslash is probably one of the things that block someone who is not familiar with regex in Python from being able to read regex code at first. Hopefully after seeing these examples this syntax will become clear."
   ]
  },
  {
   "cell_type": "code",
   "execution_count": null,
   "id": "8ef05f0f",
   "metadata": {
    "scrolled": false
   },
   "outputs": [],
   "source": [
    "test_phrase = 'This is a string with some numbers 1233 and a symbol #hashtag'\n",
    "\n",
    "test_patterns=[ '\\d+', # sequence of digits\n",
    "                '\\D+', # sequence of non-digits\n",
    "                '\\s+', # sequence of whitespace\n",
    "                '\\S+', # sequence of non-whitespace\n",
    "                '\\w+', # alphanumeric characters\n",
    "                '\\W+', # non-alphanumeric\n",
    "                ]\n",
    "\n",
    "multi_re_find(test_patterns,test_phrase)"
   ]
  },
  {
   "cell_type": "code",
   "execution_count": null,
   "id": "7aca9a0c",
   "metadata": {},
   "outputs": [],
   "source": [
    "a= \" I am  ysd .\"\n",
    "\n",
    "\" \".join([i for i in a.split(\" \")])"
   ]
  },
  {
   "cell_type": "code",
   "execution_count": null,
   "id": "29ad989c",
   "metadata": {},
   "outputs": [],
   "source": []
  }
 ],
 "metadata": {
  "kernelspec": {
   "display_name": "Python 3 (ipykernel)",
   "language": "python",
   "name": "python3"
  },
  "language_info": {
   "codemirror_mode": {
    "name": "ipython",
    "version": 3
   },
   "file_extension": ".py",
   "mimetype": "text/x-python",
   "name": "python",
   "nbconvert_exporter": "python",
   "pygments_lexer": "ipython3",
   "version": "3.9.19"
  }
 },
 "nbformat": 4,
 "nbformat_minor": 5
}
