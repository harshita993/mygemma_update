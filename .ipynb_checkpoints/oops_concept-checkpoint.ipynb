{
 "cells": [
  {
   "cell_type": "code",
   "execution_count": 1,
   "id": "b3be4343",
   "metadata": {},
   "outputs": [
    {
     "name": "stdout",
     "output_type": "stream",
     "text": [
      "10\n",
      "10\n"
     ]
    }
   ],
   "source": [
    "class demo:\n",
    "    a=10\n",
    "ans = demo()\n",
    "ans1 = demo()\n",
    "print(ans.a)\n",
    "print(ans1.a)"
   ]
  },
  {
   "cell_type": "code",
   "execution_count": 3,
   "id": "1c23b9c9",
   "metadata": {},
   "outputs": [
    {
     "name": "stdout",
     "output_type": "stream",
     "text": [
      "hello A\n",
      "hello B\n",
      "hello C\n"
     ]
    }
   ],
   "source": [
    "class A:\n",
    "    def sampleA(self):\n",
    "        print(\"hello A\")\n",
    "class B(A):\n",
    "    def sampleB(self):\n",
    "        print(\"hello B\")\n",
    "class C(B):\n",
    "    def sampleC(self):\n",
    "        print(\"hello C\")\n",
    "obj = C()\n",
    "obj.sampleA()\n",
    "obj.sampleB()\n",
    "obj.sampleC()"
   ]
  },
  {
   "cell_type": "code",
   "execution_count": 11,
   "id": "dfc9b659",
   "metadata": {},
   "outputs": [
    {
     "name": "stdout",
     "output_type": "stream",
     "text": [
      "testing\n"
     ]
    }
   ],
   "source": [
    "class demo:\n",
    "    \n",
    "    def getname(self):\n",
    "        return self.name\n",
    "    \n",
    "    def setname(self, n):\n",
    "        self.name = n\n",
    "\n",
    "obj = demo()\n",
    "obj.setname(\"testing\")\n",
    "name = obj.getname()\n",
    "print(name)      "
   ]
  },
  {
   "cell_type": "code",
   "execution_count": 6,
   "id": "f3724ce5",
   "metadata": {},
   "outputs": [
    {
     "name": "stdout",
     "output_type": "stream",
     "text": [
      "ravi\n",
      "welcome to PYTHON\n"
     ]
    }
   ],
   "source": [
    "class demo1():\n",
    "    __name = \"ravi\"\n",
    "    def __init__(self):\n",
    "        print(self.__name)\n",
    "        self.__display()\n",
    "    def __display(self):\n",
    "        print(\"welcome to PYTHON\")\n",
    "obj = demo1()\n"
   ]
  },
  {
   "cell_type": "code",
   "execution_count": 9,
   "id": "05010d9e",
   "metadata": {},
   "outputs": [
    {
     "name": "stdout",
     "output_type": "stream",
     "text": [
      "hello iip...!\n"
     ]
    }
   ],
   "source": [
    "class ws:\n",
    "    def display(self):\n",
    "        print(\"hello ws...!\")\n",
    "class iip(ws):\n",
    "    def display(self):\n",
    "        print(\"hello iip...!\")\n",
    "    \n",
    "obj = iip()\n",
    "obj.display()  # it override ws class"
   ]
  },
  {
   "cell_type": "code",
   "execution_count": 10,
   "id": "5a9fbc57",
   "metadata": {},
   "outputs": [
    {
     "name": "stdout",
     "output_type": "stream",
     "text": [
      "hello ws...!\n",
      "hello iip...!\n"
     ]
    }
   ],
   "source": [
    "class ws:\n",
    "    def display(self):\n",
    "        print(\"hello ws...!\")\n",
    "class iip(ws):\n",
    "    def display(self):\n",
    "        super().display() #super() is both class aceess\n",
    "        print(\"hello iip...!\")\n",
    "    \n",
    "obj = iip()\n",
    "obj.display()"
   ]
  },
  {
   "cell_type": "code",
   "execution_count": null,
   "id": "447cb4ff",
   "metadata": {},
   "outputs": [],
   "source": []
  }
 ],
 "metadata": {
  "kernelspec": {
   "display_name": "Python 3 (ipykernel)",
   "language": "python",
   "name": "python3"
  },
  "language_info": {
   "codemirror_mode": {
    "name": "ipython",
    "version": 3
   },
   "file_extension": ".py",
   "mimetype": "text/x-python",
   "name": "python",
   "nbconvert_exporter": "python",
   "pygments_lexer": "ipython3",
   "version": "3.9.19"
  }
 },
 "nbformat": 4,
 "nbformat_minor": 5
}
