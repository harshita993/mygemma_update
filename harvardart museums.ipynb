{
 "cells": [
  {
   "cell_type": "code",
   "execution_count": 2,
   "id": "52d882b8",
   "metadata": {},
   "outputs": [],
   "source": [
    "import json\n",
    "import requests\n",
    "import uuid\n",
    "import csv\n",
    "import pandas as pd"
   ]
  },
  {
   "cell_type": "code",
   "execution_count": 3,
   "id": "484002ed",
   "metadata": {},
   "outputs": [],
   "source": [
    "artist_rows = []\n",
    "artwork_rows = []\n",
    "\n",
    "response = requests.get('https://harvardartmuseums.org/browse?q=&load_amount=100&offset=0')\n",
    "data = json.loads(response.content)\n",
    "for record in data['records']:\n",
    "    try:\n",
    "        artist_uuid = uuid.uuid4()\n",
    "        person_id = record['people'][0]['personid']\n",
    "        artist_url = f'https://harvardartmuseums.org/collections/person/{person_id}'\n",
    "       \n",
    "        artist_name = record['people'][0]['name']\n",
    "        birthplace = record['people'][0]['birthplace']\n",
    "        gender = record['people'][0]['gender']\n",
    "      \n",
    "        artist_row = [artist_uuid, person_id, artist_name, birthplace, gender]\n",
    "        artist_rows.append(artist_row)\n",
    "        \n",
    "        response_object = requests.get(f\"https://harvardartmuseums.org/browse?person={person_id}&load_amount=100&offset=0\")\n",
    "        object_data = json.loads(response_object.content)\n",
    "        for object_record in object_data['records']:\n",
    "            try:\n",
    "                object_id = object_record['objectid']\n",
    "                artwork_uuid = uuid.uuid4()\n",
    "                object_url = f\"https://harvardartmuseums.org/collections/object/{object_id}?position=0&context=person&id={person_id}\"\n",
    "                   \n",
    "                object_name = object_record['title']\n",
    "                object_image_url = object_record['images'][0]['baseimageurl']\n",
    "                classification = object_record['classification']\n",
    "                technique = object_record['technique']\n",
    "                description = object_record['description']\n",
    "                culture = object_record['culture']\n",
    "               \n",
    "                artwork_row = [artwork_uuid, object_id, artist_uuid, object_name, object_url, object_image_url, classification, culture, technique, description]\n",
    "                artwork_rows.append(artwork_row)\n",
    "         \n",
    "            except:\n",
    "                pass\n",
    "        \n",
    "        artists_df = pd.DataFrame(artist_rows, columns=['artist_uuid', 'person_id', 'artist_name', 'birthplace', 'gender'])\n",
    "        artworks_df = pd.DataFrame(artwork_rows, columns=['artwork_uuid', 'object_id', 'artist_uuid', 'object_name', 'object_url', 'object_image_url', 'classification', 'culture', 'technique', 'description'])\n",
    "\n",
    "\n",
    "        artists_df.to_csv('artists.csv')\n",
    "        artworks_df.to_csv('artworks.csv')    \n",
    "        \n",
    "    except:\n",
    "        pass"
   ]
  },
  {
   "cell_type": "code",
   "execution_count": null,
   "id": "cfed080c",
   "metadata": {},
   "outputs": [],
   "source": []
  }
 ],
 "metadata": {
  "kernelspec": {
   "display_name": "Python 3 (ipykernel)",
   "language": "python",
   "name": "python3"
  },
  "language_info": {
   "codemirror_mode": {
    "name": "ipython",
    "version": 3
   },
   "file_extension": ".py",
   "mimetype": "text/x-python",
   "name": "python",
   "nbconvert_exporter": "python",
   "pygments_lexer": "ipython3",
   "version": "3.9.19"
  }
 },
 "nbformat": 4,
 "nbformat_minor": 5
}
