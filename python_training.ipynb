{
 "cells": [
  {
   "cell_type": "code",
   "execution_count": 5,
   "id": "8cbbff82",
   "metadata": {
    "scrolled": true
   },
   "outputs": [
    {
     "data": {
      "text/plain": [
       "{'a': 5, 'b': 4, 'c': 9, 'd': 3, 'e': 8}"
      ]
     },
     "execution_count": 5,
     "metadata": {},
     "output_type": "execute_result"
    }
   ],
   "source": [
    "dic1={'a':5,'b':4,'c':9,'d':3,'e':8}\n",
    "dic1"
   ]
  },
  {
   "cell_type": "code",
   "execution_count": 6,
   "id": "c137e5c8",
   "metadata": {},
   "outputs": [
    {
     "data": {
      "text/plain": [
       "dict_values([5, 4, 9, 3, 8])"
      ]
     },
     "execution_count": 6,
     "metadata": {},
     "output_type": "execute_result"
    }
   ],
   "source": [
    "dic1.values()"
   ]
  },
  {
   "cell_type": "code",
   "execution_count": 17,
   "id": "337695cd",
   "metadata": {},
   "outputs": [
    {
     "name": "stdout",
     "output_type": "stream",
     "text": [
      "5\n",
      "4\n",
      "9\n",
      "3\n",
      "8\n"
     ]
    }
   ],
   "source": [
    "dic1={'a':5,'b':4,'c':9,'d':3,'e':8}\n",
    "for i in dic1.values():\n",
    "    print(i)"
   ]
  },
  {
   "cell_type": "markdown",
   "id": "c6f141c6",
   "metadata": {},
   "source": [
    "# 2. Write a Python script to add a key to a dictionary. \n",
    "#Sample Dictionary : {0: 10, 1: 20}\n",
    "#Expected Result : {0: 10, 1: 20, 2: 30}"
   ]
  },
  {
   "cell_type": "code",
   "execution_count": 16,
   "id": "2e0536ca",
   "metadata": {},
   "outputs": [
    {
     "name": "stdout",
     "output_type": "stream",
     "text": [
      "sample dic:  {0: 10, 1: 20}\n",
      "expected result:  {0: 10, 1: 20, 2: 30}\n"
     ]
    }
   ],
   "source": [
    "sample_dic={0:10,1:20}\n",
    "print(\"sample dic: \",sample_dic)\n",
    "sample_dic[2]=30\n",
    "print(\"expected result: \",sample_dic)"
   ]
  },
  {
   "cell_type": "markdown",
   "id": "a4fc7f36",
   "metadata": {},
   "source": [
    "# 3. Write a Python script to concatenate following dictionaries to create a new one. \n",
    "Sample Dictionary :\n",
    "dic1={1:10, 2:20}\n",
    "dic2={3:30, 4:40}\n",
    "dic3={5:50,6:60}\n",
    "Expected Result : {1: 10, 2: 20, 3: 30, 4: 40, 5: 50, 6: 60}\n"
   ]
  },
  {
   "cell_type": "code",
   "execution_count": 32,
   "id": "1b297191",
   "metadata": {},
   "outputs": [
    {
     "name": "stdout",
     "output_type": "stream",
     "text": [
      "{1: 10, 2: 20, 3: 30, 4: 40, 5: 50, 6: 60}\n"
     ]
    }
   ],
   "source": [
    "ex_dic={}\n",
    "dic1={1:10,2:20}\n",
    "dic2={3:30,4:40}\n",
    "dic3={5:50,6:60}\n",
    "ex_dic.update(dic1)\n",
    "ex_dic.update(dic2)\n",
    "ex_dic.update(dic3)\n",
    "print(ex_dic)"
   ]
  },
  {
   "cell_type": "markdown",
   "id": "1208db85",
   "metadata": {},
   "source": [
    "# list ##"
   ]
  },
  {
   "cell_type": "code",
   "execution_count": 33,
   "id": "294f65a4",
   "metadata": {},
   "outputs": [],
   "source": [
    "# 1.Write a Python program to sum all the items in a list."
   ]
  },
  {
   "cell_type": "code",
   "execution_count": 60,
   "id": "6c35fcf2",
   "metadata": {},
   "outputs": [
    {
     "name": "stdout",
     "output_type": "stream",
     "text": [
      "sum is:  35\n"
     ]
    }
   ],
   "source": [
    "list=[1,2,15,7,10]\n",
    "sum=0\n",
    "for i in list:\n",
    "    sum=sum+i\n",
    "print(\"sum is: \",sum)"
   ]
  },
  {
   "cell_type": "code",
   "execution_count": 61,
   "id": "5c4c30d7",
   "metadata": {},
   "outputs": [],
   "source": [
    "# 2.Write a Python program to multiply all the items in a list."
   ]
  },
  {
   "cell_type": "code",
   "execution_count": 62,
   "id": "268d6962",
   "metadata": {},
   "outputs": [
    {
     "name": "stdout",
     "output_type": "stream",
     "text": [
      "multiply is:  2100\n"
     ]
    }
   ],
   "source": [
    "multi=1\n",
    "for i in list:\n",
    "   multi=multi*i\n",
    "print(\"multiply is: \",multi)\n"
   ]
  },
  {
   "cell_type": "code",
   "execution_count": 64,
   "id": "31df7986",
   "metadata": {},
   "outputs": [
    {
     "name": "stdout",
     "output_type": "stream",
     "text": [
      "largest number is : 15\n"
     ]
    }
   ],
   "source": [
    "# 3.Write a Python program to get the largest number from list\n",
    "\n",
    "large=max(list)\n",
    "print(\"largest number is :\",large)\n",
    "\n",
    "    "
   ]
  },
  {
   "cell_type": "code",
   "execution_count": 65,
   "id": "70b9307b",
   "metadata": {},
   "outputs": [
    {
     "name": "stdout",
     "output_type": "stream",
     "text": [
      "smallest number is:  1\n"
     ]
    }
   ],
   "source": [
    "### 4. Write a Python program to get the smallest number from a list.\n",
    "small=min(list)\n",
    "print(\"smallest number is: \",small)"
   ]
  },
  {
   "cell_type": "code",
   "execution_count": 66,
   "id": "29a4f66c",
   "metadata": {},
   "outputs": [],
   "source": [
    "## 5.Write a Python program to count the number of strings where the string length is 2 or more and the first and last character are same from a given list of strings. \n",
    "#Sample List : ['abc', 'xyz', 'aba', '1221']\n",
    "#Expected Result : 2\n"
   ]
  },
  {
   "cell_type": "code",
   "execution_count": 118,
   "id": "c658856a",
   "metadata": {},
   "outputs": [
    {
     "name": "stdout",
     "output_type": "stream",
     "text": [
      "3\n"
     ]
    }
   ],
   "source": [
    "list=['abc','xyx','aba','1221']\n",
    "count=0\n",
    "for i in list:\n",
    "    if len(i)>=2 and i[0]==i[-1]:\n",
    "        count+=1\n",
    "print(count)\n",
    "\n",
    "    "
   ]
  },
  {
   "cell_type": "code",
   "execution_count": null,
   "id": "6e744935",
   "metadata": {},
   "outputs": [],
   "source": [
    "##6.Write a Python program to get a list, sorted in increasing order by the last element in each tuple from a given list of non-empty tuples. \n",
    "#Sample List : [(2, 5), (1, 2), (4, 4), (2, 3), (2, 1)]\n",
    "#Expected Result : [(2, 1), (1, 2), (2, 3), (4, 4), (2, 5)]\n"
   ]
  },
  {
   "cell_type": "code",
   "execution_count": 190,
   "id": "213c7281",
   "metadata": {},
   "outputs": [
    {
     "name": "stdout",
     "output_type": "stream",
     "text": [
      "List of tuples with sorted second elements: [(2, 5), (1, 2), (4, 4), (2, 3), (2, 1)]\n"
     ]
    }
   ],
   "source": [
    "sample_list = [(2, 5), (1, 2), (4, 4), (2, 3), (2, 1)]\n",
    "\n",
    "sorted_list=[(x[0],x[1]) for x in sample_list]                                 ####error\n",
    "\n",
    "print(\"List of tuples with sorted second elements:\", sorted_list)"
   ]
  },
  {
   "cell_type": "code",
   "execution_count": 191,
   "id": "bbc90f91",
   "metadata": {},
   "outputs": [],
   "source": [
    "# 7.Write a Python program to remove duplicates from a list. \n"
   ]
  },
  {
   "cell_type": "code",
   "execution_count": 213,
   "id": "8359941c",
   "metadata": {},
   "outputs": [
    {
     "name": "stdout",
     "output_type": "stream",
     "text": [
      "original list:  [1, 2, 3, 4, 1, 5, 5, 6, 8, 2]\n",
      "new list:  [1, 2, 3, 4, 5, 6, 8]\n"
     ]
    }
   ],
   "source": [
    "sample_list=[1,2,3,4,1,5,5,6,8,2]\n",
    "print(\"original list: \",sample_list)\n",
    "#new=list(set(sample_list))\n",
    "new=[]\n",
    "for i in sample_list:\n",
    "   if i not in new:\n",
    "      new.append(i)\n",
    "print(\"new list: \",new)"
   ]
  },
  {
   "cell_type": "code",
   "execution_count": 214,
   "id": "602aad1b",
   "metadata": {},
   "outputs": [],
   "source": [
    "##8.  Write a Python program to check a list is empty or not. \n"
   ]
  },
  {
   "cell_type": "code",
   "execution_count": 215,
   "id": "345ac382",
   "metadata": {},
   "outputs": [
    {
     "name": "stdout",
     "output_type": "stream",
     "text": [
      "non empty...\n"
     ]
    }
   ],
   "source": [
    "if len(sample_list)==0:\n",
    "    print(\"empty..list\")\n",
    "else:\n",
    "    print(\"non empty...\")"
   ]
  },
  {
   "cell_type": "code",
   "execution_count": 221,
   "id": "db247286",
   "metadata": {},
   "outputs": [
    {
     "name": "stdout",
     "output_type": "stream",
     "text": [
      "result.... False\n"
     ]
    }
   ],
   "source": [
    "sample_list=[1,2,3,4,1,5,5,6,8,2]\n",
    "#sample_list=[]\n",
    "def result(sample_list):\n",
    "    if not sample_list:\n",
    "        return True\n",
    "    else:\n",
    "        return False\n",
    "print(\"result....\",result(sample_list))"
   ]
  },
  {
   "cell_type": "markdown",
   "id": "2c09d6cb",
   "metadata": {},
   "source": [
    "#9. Write a Python program to clone or copy a list. \n"
   ]
  },
  {
   "cell_type": "code",
   "execution_count": 222,
   "id": "fb079993",
   "metadata": {},
   "outputs": [
    {
     "name": "stdout",
     "output_type": "stream",
     "text": [
      "[1, 2, 3, 4, 1, 5, 5, 6, 8, 2]\n"
     ]
    }
   ],
   "source": [
    "new=sample_list.copy()\n",
    "print(new)\n"
   ]
  },
  {
   "cell_type": "code",
   "execution_count": 223,
   "id": "260fff48",
   "metadata": {},
   "outputs": [
    {
     "data": {
      "text/plain": [
       "[1, 2, 3, 4, 1, 5, 5, 6, 8, 2]"
      ]
     },
     "execution_count": 223,
     "metadata": {},
     "output_type": "execute_result"
    }
   ],
   "source": [
    "new=sample_list[:]\n",
    "new"
   ]
  },
  {
   "cell_type": "markdown",
   "id": "e8818af6",
   "metadata": {},
   "source": [
    "# 10. Write a Python program to find the list of words that are longer than n from a given list of words. \n"
   ]
  },
  {
   "cell_type": "code",
   "execution_count": 259,
   "id": "af686363",
   "metadata": {},
   "outputs": [
    {
     "name": "stdout",
     "output_type": "stream",
     "text": [
      "enter number :6\n",
      "['banana', 'watermelon', 'pinapple']\n"
     ]
    }
   ],
   "source": [
    "list=['banana','mango','chiku','kiwi','watermelon','pinapple']\n",
    "n=int(input(\"enter number :\"))\n",
    "long_list=[]\n",
    "for i in list:\n",
    "    if len(i)>=n:\n",
    "        long_list.append(i)\n",
    "        #print(long_list)\n",
    "print(long_list)"
   ]
  },
  {
   "cell_type": "markdown",
   "id": "e4e7e2e6",
   "metadata": {},
   "source": [
    "11. Write a Python function that takes two lists and returns True if they have at least one common member. \n"
   ]
  },
  {
   "cell_type": "code",
   "execution_count": 306,
   "id": "653c8db9",
   "metadata": {},
   "outputs": [
    {
     "name": "stdout",
     "output_type": "stream",
     "text": [
      "True\n"
     ]
    }
   ],
   "source": [
    "list1=['ram','shayam','kishan','ghanshyam']\n",
    "list2=['ena','mina','dika','ram','shyam']\n",
    "for i in list1:\n",
    "    if i in list2:\n",
    "        print(\"True\")\n",
    "        break\n",
    "    else:\n",
    "        print(\"false\")\n",
    "        break"
   ]
  },
  {
   "cell_type": "markdown",
   "id": "f8795769",
   "metadata": {},
   "source": [
    "12. Write a Python program to print a specified list after removing the 0th, 4th and 5th elements. \n",
    "Sample List : ['Red', 'Green', 'White', 'Black', 'Pink', 'Yellow']\n",
    "Expected Output : ['Green', 'White', 'Black']\n"
   ]
  },
  {
   "cell_type": "code",
   "execution_count": 2,
   "id": "d03c2a3d",
   "metadata": {},
   "outputs": [
    {
     "name": "stdout",
     "output_type": "stream",
     "text": [
      "['green', 'white', 'black']\n"
     ]
    }
   ],
   "source": [
    "sample_list=['red','green','white','black','pink','yellow']\n",
    "index_remove=[0,4,5]\n",
    "new_list=[]\n",
    "for i in range(len(sample_list)):\n",
    "    if i not in index_remove:\n",
    "        new_list.append(sample_list[i])\n",
    "print(new_list)\n"
   ]
  },
  {
   "cell_type": "markdown",
   "id": "28adeec7",
   "metadata": {},
   "source": [
    "### 13. Write a Python program to print the numbers of a specified list after removing even numbers from it."
   ]
  },
  {
   "cell_type": "code",
   "execution_count": 1,
   "id": "1fd67b56",
   "metadata": {},
   "outputs": [
    {
     "name": "stdout",
     "output_type": "stream",
     "text": [
      "[1, 5, 9, 15, 13]\n"
     ]
    }
   ],
   "source": [
    "sample_list=[1,10,5,4,6,9,15,50,13,14]\n",
    "new_list=[]\n",
    "for i in sample_list:\n",
    "    #print(i)\n",
    "    if i%2!=0:\n",
    "        new_list.append(i)\n",
    "print(new_list)\n"
   ]
  },
  {
   "cell_type": "markdown",
   "id": "100d2e84",
   "metadata": {},
   "source": [
    "14. Write a Python program to generate and print a list of first and last 5 elements where the values are square of numbers between 1 and 30 (both included). \n"
   ]
  },
  {
   "cell_type": "code",
   "execution_count": 24,
   "id": "953dafed",
   "metadata": {},
   "outputs": [
    {
     "name": "stdout",
     "output_type": "stream",
     "text": [
      "[1, 4, 9, 16, 25, 676, 729, 784, 841, 900]\n"
     ]
    }
   ],
   "source": [
    "new_list=[]\n",
    "for i in range(1,31):\n",
    "    i=i**2\n",
    "    new_list.append(i)\n",
    "first_five=new_list[:5]\n",
    "last_five=new_list[-5:]\n",
    "print(first_five+last_five)\n",
    "    "
   ]
  },
  {
   "cell_type": "markdown",
   "id": "cc3571d2",
   "metadata": {},
   "source": [
    "15. Write a Python program to generate and print a list except for the first 5 elements, where the values are square of numbers between 1 and 30 (both included). \n"
   ]
  },
  {
   "cell_type": "code",
   "execution_count": 25,
   "id": "6803ef06",
   "metadata": {},
   "outputs": [
    {
     "name": "stdout",
     "output_type": "stream",
     "text": [
      "[36, 49, 64, 81, 100, 121, 144, 169, 196, 225, 256, 289, 324, 361, 400, 441, 484, 529, 576, 625, 676, 729, 784, 841, 900]\n"
     ]
    }
   ],
   "source": [
    "new_list=[]\n",
    "for i in range(1,31):\n",
    "    i=i**2\n",
    "    new_list.append(i)\n",
    "print(new_list[5:])"
   ]
  },
  {
   "cell_type": "markdown",
   "id": "a5470674",
   "metadata": {},
   "source": [
    "16. Write a Python program to get the difference between the two lists. \n"
   ]
  },
  {
   "cell_type": "code",
   "execution_count": 38,
   "id": "63167c68",
   "metadata": {},
   "outputs": [
    {
     "data": {
      "text/plain": [
       "[1, 3]"
      ]
     },
     "execution_count": 38,
     "metadata": {},
     "output_type": "execute_result"
    }
   ],
   "source": [
    "list1=[1,5,10,3]\n",
    "list2=[5,4,10]\n",
    "\n",
    "diff=list(set(list1)-set(list2))\n",
    "diff"
   ]
  },
  {
   "cell_type": "markdown",
   "id": "393c8707",
   "metadata": {},
   "source": [
    "#17. Write a Python program access the index of a list. "
   ]
  },
  {
   "cell_type": "code",
   "execution_count": 51,
   "id": "387297cb",
   "metadata": {},
   "outputs": [
    {
     "name": "stdout",
     "output_type": "stream",
     "text": [
      "list[0]  ram\n",
      "list[1]  shyam\n",
      "list[2]  kishan\n"
     ]
    }
   ],
   "source": [
    "\n",
    "list=[\"ram\",'shyam','kishan']\n",
    "for i in range(len(list)):\n",
    "    print(\"list[{}] \".format(i),list[i])"
   ]
  },
  {
   "cell_type": "markdown",
   "id": "6c1e2516",
   "metadata": {},
   "source": [
    "18. Write a Python program to convert a list of characters into a string."
   ]
  },
  {
   "cell_type": "code",
   "execution_count": 60,
   "id": "16872fbc",
   "metadata": {},
   "outputs": [
    {
     "name": "stdout",
     "output_type": "stream",
     "text": [
      "abc\n"
     ]
    }
   ],
   "source": [
    "list=['a','b','c']\n",
    "string=list[0]+list[1]+list[2]\n",
    "print(string)"
   ]
  },
  {
   "cell_type": "markdown",
   "id": "744da70c",
   "metadata": {},
   "source": [
    "19. Write a Python program to append a list to the second list. \n"
   ]
  },
  {
   "cell_type": "code",
   "execution_count": 61,
   "id": "3b583f54",
   "metadata": {},
   "outputs": [
    {
     "name": "stdout",
     "output_type": "stream",
     "text": [
      "[1, 2, 3, ['one', 'two', 'three']]\n"
     ]
    }
   ],
   "source": [
    "list1=['one','two','three']\n",
    "list2=[1,2,3]\n",
    "list2.append(list1)\n",
    "print(list2)"
   ]
  },
  {
   "cell_type": "code",
   "execution_count": 66,
   "id": "606baaf8",
   "metadata": {},
   "outputs": [
    {
     "name": "stdout",
     "output_type": "stream",
     "text": [
      "[1, 2, 3, 'one', 'two', 'three']\n"
     ]
    }
   ],
   "source": [
    "list1=['one','two','three']\n",
    "list2=[1,2,3]\n",
    "for i in range(len(list1)):\n",
    "    list2.append(list1[i])\n",
    "print(list2)"
   ]
  },
  {
   "cell_type": "markdown",
   "id": "63dffe71",
   "metadata": {},
   "source": [
    "20. Write a Python program to find the second smallest number in a list. \n",
    "\n"
   ]
  },
  {
   "cell_type": "code",
   "execution_count": 15,
   "id": "daee934d",
   "metadata": {},
   "outputs": [
    {
     "name": "stdout",
     "output_type": "stream",
     "text": [
      "second samllest number:  5\n"
     ]
    }
   ],
   "source": [
    "n=[5,24,9,13,2,7,10,6]\n",
    "n.sort()\n",
    "print(\"second samllest number: \",n[1])"
   ]
  },
  {
   "cell_type": "markdown",
   "id": "cf0752f5",
   "metadata": {},
   "source": [
    "21.Write a Python program to find the second largest number in a list. \n"
   ]
  },
  {
   "cell_type": "code",
   "execution_count": 18,
   "id": "41e9ff9c",
   "metadata": {},
   "outputs": [
    {
     "name": "stdout",
     "output_type": "stream",
     "text": [
      "Second largest number: 8\n"
     ]
    }
   ],
   "source": [
    "my_list = [5, 2, 8, 1, 9, 3]\n",
    "my_list.sort()\n",
    "print(\"Second largest number:\", my_list[-2])"
   ]
  },
  {
   "cell_type": "markdown",
   "id": "f5cdc7a2",
   "metadata": {},
   "source": [
    "22. Write a Python program to count the number of elements in a list within a specified range. \n"
   ]
  },
  {
   "cell_type": "code",
   "execution_count": 52,
   "id": "e53c51c0",
   "metadata": {},
   "outputs": [
    {
     "name": "stdout",
     "output_type": "stream",
     "text": [
      "range of [1:4] : 2 elements\n"
     ]
    }
   ],
   "source": [
    "list=['mira','ram','kishan','shyam','mohan']\n",
    "lower=1\n",
    "upper=4\n",
    "result=[]\n",
    "for i in range(len(list)):\n",
    "  \n",
    "    if i>lower and i<upper:\n",
    "        result.append(list[i])\n",
    "print(\"range of [{}:{}] : {} elements\".format(lower,upper,len(result)))\n",
    "\n"
   ]
  },
  {
   "cell_type": "markdown",
   "id": "3e719c0b",
   "metadata": {},
   "source": [
    "23. Write a Python program to find common items from two lists. \n"
   ]
  },
  {
   "cell_type": "code",
   "execution_count": 57,
   "id": "acb83d0b",
   "metadata": {},
   "outputs": [
    {
     "name": "stdout",
     "output_type": "stream",
     "text": [
      "5\n",
      "15\n",
      "64\n"
     ]
    }
   ],
   "source": [
    "list1=[1,5,8,15,17,26,64,7,9]\n",
    "list2=[5,6,2,10,5,25,64,4,15]\n",
    "for i in list1:\n",
    "    if i in list2:\n",
    "        print(i)"
   ]
  },
  {
   "cell_type": "markdown",
   "id": "29360644",
   "metadata": {},
   "source": [
    "24.Write a Python program to change the position of every n-th value with the (n+1)th in a list. \n",
    "Sample list: [0,1,2,3,4,5]\n",
    "Expected Output: [1, 0, 3, 2, 5, 4]\n"
   ]
  },
  {
   "cell_type": "code",
   "execution_count": 96,
   "id": "af090a8f",
   "metadata": {},
   "outputs": [
    {
     "name": "stdout",
     "output_type": "stream",
     "text": [
      "[1, 0, 3, 2, 5, 4]\n"
     ]
    }
   ],
   "source": [
    "slist=[0,1,2,3,4,5]\n",
    "for n in range(0,len(slist),2):\n",
    "    slist[n],slist[n+1]=slist[n+1],slist[n]\n",
    "print(slist)\n",
    "    "
   ]
  },
  {
   "cell_type": "markdown",
   "id": "d895e86d",
   "metadata": {},
   "source": [
    "25. Write a Python program to convert a list of multiple integers into a single integer. \n",
    "Sample list: [11, 33, 50]\n",
    "Expected Output: 113350\n"
   ]
  },
  {
   "cell_type": "code",
   "execution_count": 109,
   "id": "e4c64d9b",
   "metadata": {},
   "outputs": [
    {
     "data": {
      "text/plain": [
       "'113050'"
      ]
     },
     "execution_count": 109,
     "metadata": {},
     "output_type": "execute_result"
    }
   ],
   "source": [
    "slist=[11,30,50]\n",
    "str(slist[0])+str(slist[1])+str(slist[2])"
   ]
  },
  {
   "cell_type": "markdown",
   "id": "e094a754",
   "metadata": {},
   "source": [
    "26. Write a Python program to split a list based on first character of word. \n"
   ]
  },
  {
   "cell_type": "code",
   "execution_count": 252,
   "id": "2eeaff31",
   "metadata": {},
   "outputs": [
    {
     "name": "stdout",
     "output_type": "stream",
     "text": [
      "first character a of element:  apple \n",
      "first character b of element:  banana \n",
      "first character b of element:  ball \n",
      "first character c of element:  cat \n",
      "first character d of element:  dog \n",
      "first character e of element:  elephant \n"
     ]
    }
   ],
   "source": [
    "word_list = [\"apple\", \"banana\", \"ball\", \"cat\", \"dog\", \"elephant\"]\n",
    "word_dic=[]\n",
    "for i in word_list:\n",
    "   # print(i)\n",
    "    first_char=i[0]\n",
    "   # print(first_char)\n",
    "    word_dic=i\n",
    "    print(\"first character {} of element:  {} \".format(first_char,word_dic))\n",
    "        "
   ]
  },
  {
   "cell_type": "markdown",
   "id": "2547eaaa",
   "metadata": {},
   "source": [
    "27.Write a Python program to select the odd items of a list.\n"
   ]
  },
  {
   "cell_type": "code",
   "execution_count": 270,
   "id": "cf9c0ab4",
   "metadata": {},
   "outputs": [
    {
     "name": "stdout",
     "output_type": "stream",
     "text": [
      "odd iem:  [1, 3, 5, 17]\n"
     ]
    }
   ],
   "source": [
    "list=[1,2,3,14,5,6,17,8]\n",
    "odd_item=[]\n",
    "for i in list:\n",
    "    if i%2!=0:\n",
    "        odd_item.append(i)\n",
    "print(\"odd iem: \",odd_item)"
   ]
  },
  {
   "cell_type": "markdown",
   "id": "28b5532f",
   "metadata": {},
   "source": [
    "28. Write a Python program to print a nested lists (each list on a new line) using the print() function. \n"
   ]
  },
  {
   "cell_type": "code",
   "execution_count": 273,
   "id": "fe77e23a",
   "metadata": {},
   "outputs": [
    {
     "name": "stdout",
     "output_type": "stream",
     "text": [
      "[1, 2, 3]\n",
      "[4, 5, 6]\n",
      "['seven', 8, 'nine']\n"
     ]
    }
   ],
   "source": [
    "list=[[1,2,3],[4,5,6],['seven',8,'nine']]\n",
    "for i in list:\n",
    "    print(i)"
   ]
  },
  {
   "cell_type": "markdown",
   "id": "34d0561d",
   "metadata": {},
   "source": [
    "29. Write a Python program to insert an element before each element of a list. \n"
   ]
  },
  {
   "cell_type": "code",
   "execution_count": 280,
   "id": "c3a7bdaf",
   "metadata": {},
   "outputs": [
    {
     "name": "stdout",
     "output_type": "stream",
     "text": [
      "enter element to insert: h\n",
      "['h', 1, 'h', 2, 'h', 3, 'h', 4, 'h', 5, 'h', 6]\n"
     ]
    }
   ],
   "source": [
    "list=[1,2,3,4,5,6]\n",
    "element=str(input(\"enter element to insert: \"))\n",
    "new_list=[]\n",
    "for i in list:\n",
    "    new_list.append(element)\n",
    "    new_list.append(i)\n",
    "print(new_list)"
   ]
  },
  {
   "cell_type": "markdown",
   "id": "a3825143",
   "metadata": {},
   "source": [
    "30. Write a Python program to split a list every Nth element. \n",
    "Sample list: ['a', 'b', 'c', 'd', 'e', 'f', 'g', 'h', 'i', 'j', 'k', 'l', 'm', 'n']\n",
    "Expected Output: [['a', 'd', 'g', 'j', 'm'], ['b', 'e', 'h', 'k', 'n'], ['c', 'f', 'i', 'l']]\n"
   ]
  },
  {
   "cell_type": "code",
   "execution_count": 337,
   "id": "b437ec4c",
   "metadata": {},
   "outputs": [
    {
     "name": "stdout",
     "output_type": "stream",
     "text": [
      "[['a', 'd', 'g', 'j', 'm'], ['b', 'e', 'h', 'k', 'n'], ['c', 'f', 'i', 'l']]\n"
     ]
    }
   ],
   "source": [
    "slist=['a', 'b', 'c', 'd', 'e', 'f', 'g', 'h', 'i', 'j', 'k', 'l', 'm', 'n']\n",
    "nlist=[]\n",
    "n=3\n",
    "for i in range(n):\n",
    "    #print(i)\n",
    "    nlist.append(slist[i::3])\n",
    "print(nlist)\n"
   ]
  },
  {
   "cell_type": "markdown",
   "id": "2965d3c8",
   "metadata": {},
   "source": [
    "31. Write a Python program to compute the difference between two lists. \n",
    "Sample data: [\"red\", \"orange\", \"green\", \"blue\", \"white\"], [\"black\", \"yellow\", \"green\", \"blue\"]\n",
    "Expected Output:\n",
    "Color1-Color2: ['white', 'orange', 'red']\n",
    "Color2-Color1: ['black', 'yellow']\n"
   ]
  },
  {
   "cell_type": "code",
   "execution_count": 46,
   "id": "ec072712",
   "metadata": {},
   "outputs": [
    {
     "name": "stdout",
     "output_type": "stream",
     "text": [
      "[{'red', 'orange', 'white'}]\n",
      "{'black', 'yellow'}\n"
     ]
    }
   ],
   "source": [
    "color1=[\"red\", \"orange\", \"green\", \"blue\", \"white\"]\n",
    "color2=[\"black\", \"yellow\", \"green\", \"blue\"]\n",
    "color=[]\n",
    "diff1=set(color1)-set(color2)\n",
    "color.append(diff1)\n",
    "print(color)\n",
    "diff2=set(color2)-set(color1)\n",
    "print(diff2)"
   ]
  },
  {
   "cell_type": "markdown",
   "id": "7ae1bff2",
   "metadata": {},
   "source": [
    "32. Write a Python program to insert a given string at the beginning of all items in a list. \n",
    "Sample list : [1,2,3,4], string : emp\n",
    "Expected output : ['emp1', 'emp2', 'emp3', 'emp4']\n"
   ]
  },
  {
   "cell_type": "code",
   "execution_count": 63,
   "id": "5abe40a6",
   "metadata": {},
   "outputs": [
    {
     "data": {
      "text/plain": [
       "['emp1', 'emp2', 'emp3', 'emp4']"
      ]
     },
     "execution_count": 63,
     "metadata": {},
     "output_type": "execute_result"
    }
   ],
   "source": [
    "slist=[1,2,3,4]\n",
    "\n",
    "string='emp'\n",
    "\n",
    "new_list=[(string)+str(i) for i in slist]    \n",
    "new_list"
   ]
  },
  {
   "cell_type": "markdown",
   "id": "f5463bbf",
   "metadata": {},
   "source": [
    "33. Write a Python program to find the items starts with specific character from a given list. \n",
    "Expected Output:\n",
    "Original list:\n",
    "['abcd', 'abc', 'bcd', 'bkie', 'cder', 'cdsw', 'sdfsd', 'dagfa', 'acjd']\n",
    "Items start with a from the said list:\n",
    "['abcd', 'abc', 'acjd']\n",
    "Items start with d from the said list:\n",
    "['dagfa']\n",
    "Items start with w from the said list:\n",
    "[]"
   ]
  },
  {
   "cell_type": "code",
   "execution_count": 79,
   "id": "f0b213a5",
   "metadata": {},
   "outputs": [
    {
     "name": "stdout",
     "output_type": "stream",
     "text": [
      "start with 'a': ['abcd', 'abc', 'acjd']\n",
      "start with 'a': ['dagfa']\n",
      "start with 'a': []\n"
     ]
    }
   ],
   "source": [
    "original_list = ['abcd', 'abc', 'bcd', 'bkie', 'cder', 'cdsw', 'sdfsd', 'dagfa', 'acjd']\n",
    "a=[i for i in original_list if i.startswith('a')]    \n",
    "print(\"start with 'a':\" ,a)    \n",
    "d=[i for i in original_list if i.startswith('d')]    \n",
    "print(\"start with 'a':\" ,d)     \n",
    "w=[i for i in original_list if i.startswith('w')]    \n",
    "print(\"start with 'a':\" ,w)    "
   ]
  },
  {
   "cell_type": "markdown",
   "id": "22f4225b",
   "metadata": {},
   "source": [
    "34. Write a Python program to insert an element at a specified position into a given list. \n",
    "Original list:\n",
    "[1, 1, 2, 3, 4, 4, 5, 1]\n",
    "After inserting an element at kth position in the said list:\n",
    "[1, 1, 12, 2, 3, 4, 4, 5, 1]"
   ]
  },
  {
   "cell_type": "code",
   "execution_count": 81,
   "id": "11fb48c6",
   "metadata": {},
   "outputs": [
    {
     "name": "stdout",
     "output_type": "stream",
     "text": [
      "enter element to insert: 50\n",
      "enter position: 2\n",
      "[1, 1, '50', 2, 3, 4, 4, 5, 1]\n"
     ]
    }
   ],
   "source": [
    "list1=[1, 1, 2, 3, 4, 4, 5, 1]\n",
    "element=input(\"enter element to insert: \")\n",
    "position=int(input(\"enter position: \"))\n",
    "list1.insert(position,element)\n",
    "print(list1)"
   ]
  },
  {
   "cell_type": "markdown",
   "id": "5429f612",
   "metadata": {},
   "source": [
    "35. Write a Python program to read a square matrix from console and print the sum of matrix primary diagonal. Accept the size of the square matrix and elements for each column separated with a space (for every row) as input from the user. \n",
    "Input the size of the matrix: 3\n",
    "2 3 4\n",
    "4 5 6\n",
    "3 4 7\n",
    "Sum of matrix primary diagonal:\n",
    "14"
   ]
  },
  {
   "cell_type": "code",
   "execution_count": 102,
   "id": "c9318fd7",
   "metadata": {},
   "outputs": [
    {
     "name": "stdout",
     "output_type": "stream",
     "text": [
      "enter row: 2\n",
      "enter colum2\n",
      "enter element: 3\n",
      "enter element: 5\n",
      "[3, 5]\n",
      "enter element: 4\n",
      "enter element: 8\n",
      "[4, 8]\n",
      "[3, 5]\n",
      "[4, 8]\n",
      "Sum of matrix primary diagonal:\n",
      "11\n"
     ]
    }
   ],
   "source": [
    "row=int(input(\"enter row: \"))\n",
    "colum=int(input(\"enter colum\"))\n",
    "matrix=[]\n",
    "for i in range(row):\n",
    "    c_row=[]\n",
    "    for j in range(colum):\n",
    "        n=int(input(\"enter element: \"))\n",
    "        c_row.append(n)\n",
    "    matrix.append(c_row)\n",
    "for array in matrix:\n",
    "    print(array)\n",
    "\n",
    "primary_diagonal_sum = sum(matrix[i][i] for i in range(min(row, colum)))\n",
    "\n",
    "print(\"Sum of matrix primary diagonal:\")\n",
    "print(primary_diagonal_sum)\n",
    "\n"
   ]
  },
  {
   "cell_type": "markdown",
   "id": "12f3a683",
   "metadata": {},
   "source": [
    "36. Write a Python program to Zip two given lists of lists. \n",
    "Original lists:\n",
    "[[1, 3], [5, 7], [9, 11]]\n",
    "[[2, 4], [6, 8], [10, 12, 14]]\n",
    "Zipped list:\n",
    "[[1, 3, 2, 4], [5, 7, 6, 8], [9, 11, 10, 12, 14]]"
   ]
  },
  {
   "cell_type": "code",
   "execution_count": 109,
   "id": "2a9df4ab",
   "metadata": {},
   "outputs": [
    {
     "data": {
      "text/plain": [
       "[[[1, 3, 2, 4]], [[5, 7, 6, 8]], [[9, 11, 10, 12, 14]]]"
      ]
     },
     "execution_count": 109,
     "metadata": {},
     "output_type": "execute_result"
    }
   ],
   "source": [
    "list1=[[1, 3], [5, 7], [9, 11]]\n",
    "list2=[[2, 4], [6, 8], [10, 12, 14]]\n",
    "new_list=[[a+b] for a,b in zip(list1,list2)]\n",
    "\n",
    "new_list"
   ]
  },
  {
   "cell_type": "markdown",
   "id": "66c46dbb",
   "metadata": {},
   "source": [
    "37. Write a Python program to reverse strings in a given list of string values. \n",
    "Original lists:\n",
    "['Red', 'Green', 'Blue', 'White', 'Black']\n",
    "Reverse strings of the said given list:\n",
    "['deR', 'neerG', 'eulB', 'etihW', 'kcalB']"
   ]
  },
  {
   "cell_type": "code",
   "execution_count": 125,
   "id": "ba1ab6d9",
   "metadata": {},
   "outputs": [
    {
     "name": "stdout",
     "output_type": "stream",
     "text": [
      "['deR', 'neerG', 'eulB', 'etihW', 'kcalB']\n"
     ]
    }
   ],
   "source": [
    "list1=['Red', 'Green', 'Blue', 'White', 'Black']\n",
    "rev_list=[s[::-1] for s in list1]\n",
    "print(rev_list)"
   ]
  },
  {
   "cell_type": "markdown",
   "id": "4ab547da",
   "metadata": {},
   "source": [
    "38. Write a Python program to remove specific words from a given list. \n",
    "Original list:\n",
    "['red', 'green', 'blue', 'white', 'black', 'orange']\n",
    "Remove words:\n",
    "['white', 'orange']\n",
    "After removing the specified words from the said list:\n",
    "['red', 'green', 'blue', 'black']"
   ]
  },
  {
   "cell_type": "code",
   "execution_count": 126,
   "id": "21ba1eb4",
   "metadata": {},
   "outputs": [
    {
     "data": {
      "text/plain": [
       "['red', 'green', 'blue', 'black']"
      ]
     },
     "execution_count": 126,
     "metadata": {},
     "output_type": "execute_result"
    }
   ],
   "source": [
    "list1=['red', 'green', 'blue', 'white', 'black', 'orange']\n",
    "list1.remove('white')\n",
    "list1.remove('orange')\n",
    "list1"
   ]
  },
  {
   "cell_type": "markdown",
   "id": "80e6d3cd",
   "metadata": {},
   "source": [
    "39. Write a Python program to find the last occurrence of a specified item in a given list. \n",
    "Original list:\n",
    "['s', 'd', 'f', 's', 'd', 'f', 's', 'f', 'k', 'o', 'p', 'i', 'w', 'e', 'k', 'c']\n",
    "Last occurrence of f in the said list:\n",
    "7\n",
    "Last occurrence of c in the said list:\n",
    "15\n",
    "Last occurrence of k in the said list:\n",
    "14\n",
    "Last occurrence of w in the said list:\n",
    "12"
   ]
  },
  {
   "cell_type": "code",
   "execution_count": 144,
   "id": "97eba8da",
   "metadata": {},
   "outputs": [
    {
     "name": "stdout",
     "output_type": "stream",
     "text": [
      "index  8\n",
      "last occurrence of 'f':  7\n",
      "last occurrence of c:  15\n"
     ]
    }
   ],
   "source": [
    "list1=['s', 'd', 'f', 's', 'd', 'f', 's', 'f', 'k', 'o', 'p', 'i', 'w', 'e', 'k', 'c']\n",
    "f=len(list1)-1-list1[::-1].index('f')\n",
    "c=len(list1)-1-list1[::-1].index('c')\n",
    "index=list1[::-1].index('f')\n",
    "print(\"index \",index)\n",
    "print(\"last occurrence of 'f': \",f)\n",
    "    \n",
    "print(\"last occurrence of c: \",c)"
   ]
  },
  {
   "cell_type": "markdown",
   "id": "f6ae7c6c",
   "metadata": {},
   "source": [
    "# *Dictionary*"
   ]
  },
  {
   "cell_type": "markdown",
   "id": "c735b8c1",
   "metadata": {},
   "source": [
    "1. Write a Python script to sort (ascending and descending) a dictionary by value. \n"
   ]
  },
  {
   "cell_type": "code",
   "execution_count": 27,
   "id": "7904a6d8",
   "metadata": {},
   "outputs": [
    {
     "name": "stdout",
     "output_type": "stream",
     "text": [
      "Ascending order: {3: 5, 6: 7, 4: 9, 1: 10, 5: 13, 2: 15}\n",
      "Descending order: {2: 15, 5: 13, 1: 10, 4: 9, 6: 7, 3: 5}\n"
     ]
    }
   ],
   "source": [
    "my_dict = {1: 10, 2: 15, 3: 5, 4: 9, 5: 13, 6: 7}\n",
    "\n",
    "def get_value(kv_pair):\n",
    "    return kv_pair[1]\n",
    "\n",
    "sorted_items = sorted(my_dict.items(), key=get_value)\n",
    "sorted_dict_asc = {k: v for k, v in sorted_items}\n",
    "print(\"Ascending order:\", sorted_dict_asc)\n",
    "\n",
    "sorted_items_desc = sorted(my_dict.items(), key=get_value, reverse=True)\n",
    "sorted_dict_dsc = {k: v for k, v in sorted_items_desc}\n",
    "print(\"Descending order:\", sorted_dict_dsc)"
   ]
  },
  {
   "cell_type": "code",
   "execution_count": null,
   "id": "39349d53",
   "metadata": {},
   "outputs": [],
   "source": []
  },
  {
   "cell_type": "markdown",
   "id": "b1bd909d",
   "metadata": {},
   "source": [
    "2. Write a Python script to add a key to a dictionary. \n",
    "Sample Dictionary : {0: 10, 1: 20}\n",
    "Expected Result : {0: 10, 1: 20, 2: 30}\n"
   ]
  },
  {
   "cell_type": "code",
   "execution_count": 28,
   "id": "cc8e21ce",
   "metadata": {},
   "outputs": [],
   "source": [
    "my_dict={0:10,1:20}\n",
    "my_dict[2]=30"
   ]
  },
  {
   "cell_type": "code",
   "execution_count": 29,
   "id": "7ba98481",
   "metadata": {},
   "outputs": [
    {
     "name": "stdout",
     "output_type": "stream",
     "text": [
      "{0: 10, 1: 20, 2: 30}\n"
     ]
    }
   ],
   "source": [
    "print(my_dict)"
   ]
  },
  {
   "cell_type": "markdown",
   "id": "db7c1996",
   "metadata": {},
   "source": [
    "3. Write a Python script to concatenate following dictionaries to create a new one. \n",
    "Sample Dictionary :\n",
    "dic1={1:10, 2:20}\n",
    "dic2={3:30, 4:40}\n",
    "dic3={5:50,6:60}\n",
    "Expected Result : {1: 10, 2: 20, 3: 30, 4: 40, 5: 50, 6: 60}\n"
   ]
  },
  {
   "cell_type": "code",
   "execution_count": 43,
   "id": "53660267",
   "metadata": {},
   "outputs": [
    {
     "name": "stdout",
     "output_type": "stream",
     "text": [
      "{1: 10, 2: 20, 3: 30, 4: 40, 5: 50, 6: 60}\n"
     ]
    }
   ],
   "source": [
    "dic1={1:10,2:20}\n",
    "dic2={3:30,4:40}\n",
    "dic3={5:50,6:60}\n",
    "new_dic={}\n",
    "##new_dic=dic1,dic2,dic3\n",
    "new_dic.update(dic1)\n",
    "new_dic.update(dic2)\n",
    "new_dic.update(dic3)\n",
    "print(new_dic)\n"
   ]
  },
  {
   "cell_type": "markdown",
   "id": "2dd4d498",
   "metadata": {},
   "source": [
    "4. Write a Python script to check whether a given key already exists in a dictionary.\n"
   ]
  },
  {
   "cell_type": "code",
   "execution_count": 61,
   "id": "ac3ed102",
   "metadata": {},
   "outputs": [
    {
     "name": "stdout",
     "output_type": "stream",
     "text": [
      "give key: 3\n",
      "already exist in dictionary\n"
     ]
    }
   ],
   "source": [
    "dict1={1:'banana',2:'mango',3:'chiku',4:'kiwi'}\n",
    "key=int(input(\"give key: \"))\n",
    "keys=dict1.keys()\n",
    "if key in keys:\n",
    "    print(\"already exist in dictionary\")\n",
    "else:\n",
    "    print(\"not exist in dictionary\")"
   ]
  },
  {
   "cell_type": "markdown",
   "id": "1939cec8",
   "metadata": {},
   "source": [
    "5.Write a Python script to generate and print a dictionary that contains a number (between 1 and n) in the form (x, x*x). \n",
    "Sample Dictionary ( n = 5) :\n",
    "Expected Output : {1: 1, 2: 4, 3: 9, 4: 16, 5: 25}"
   ]
  },
  {
   "cell_type": "code",
   "execution_count": 77,
   "id": "e6ad36a9",
   "metadata": {},
   "outputs": [
    {
     "name": "stdout",
     "output_type": "stream",
     "text": [
      "enter number :5\n",
      "{1: 1, 2: 4, 3: 9, 4: 16, 5: 25}\n"
     ]
    }
   ],
   "source": [
    "n=int(input(\"enter number :\"))\n",
    "new_dic={}\n",
    "for i in range(1,n+1):\n",
    "    new_dic[i]=i*i\n",
    "print(new_dic)"
   ]
  },
  {
   "cell_type": "markdown",
   "id": "854bf45e",
   "metadata": {},
   "source": [
    "6. Write a Python script to print a dictionary where the keys are numbers between 1 and 15 (both included) and the values are square of keys. \n",
    "Sample Dictionary\n",
    "{1: 1, 2: 4, 3: 9, 4: 16, 5: 25, 6: 36, 7: 49, 8: 64, 9: 81, 10: 100, 11: 121, 12: 144, 13: 169, 14: 196, 15: 225}\n"
   ]
  },
  {
   "cell_type": "code",
   "execution_count": 79,
   "id": "9dcf7cd1",
   "metadata": {},
   "outputs": [
    {
     "name": "stdout",
     "output_type": "stream",
     "text": [
      "{1: 1, 2: 4, 3: 9, 4: 16, 5: 25, 6: 36, 7: 49, 8: 64, 9: 81, 10: 100, 11: 121, 12: 144, 13: 169, 14: 196, 15: 225}\n"
     ]
    }
   ],
   "source": [
    "new_dic={}\n",
    "for i in range(1,15+1):\n",
    "    new_dic[i]=i*i\n",
    "print(new_dic)"
   ]
  },
  {
   "cell_type": "markdown",
   "id": "cc1a8ca3",
   "metadata": {},
   "source": [
    "7. . Write a Python script to merge two Python dictionaries. "
   ]
  },
  {
   "cell_type": "code",
   "execution_count": 82,
   "id": "439b6c1d",
   "metadata": {},
   "outputs": [
    {
     "data": {
      "text/plain": [
       "{1: 'mango', 2: 'kiwi', 3: 'banana', 4: 'chiku'}"
      ]
     },
     "execution_count": 82,
     "metadata": {},
     "output_type": "execute_result"
    }
   ],
   "source": [
    "dic1={1:'mango',2:'kiwi'}\n",
    "dic2={3:'banana',4:'chiku'}\n",
    "fruit={}\n",
    "fruit.update(dic1)              ###update is use to add multi dictionary in one\n",
    "fruit.update(dic2)\n",
    "fruit"
   ]
  },
  {
   "cell_type": "markdown",
   "id": "5a5abecc",
   "metadata": {},
   "source": [
    "8.  Write a Python program to sum all the items in a dictionary.\n"
   ]
  },
  {
   "cell_type": "code",
   "execution_count": 2,
   "id": "9258d063",
   "metadata": {},
   "outputs": [
    {
     "name": "stdout",
     "output_type": "stream",
     "text": [
      "sum of value:  50\n"
     ]
    }
   ],
   "source": [
    "dict1={1:10,2:14,3:5,4:9,5:12}\n",
    "print(\"sum of value: \",sum(dict1.values()))"
   ]
  },
  {
   "cell_type": "code",
   "execution_count": 3,
   "id": "c9da8152",
   "metadata": {},
   "outputs": [
    {
     "name": "stdout",
     "output_type": "stream",
     "text": [
      "sum is : 50\n"
     ]
    }
   ],
   "source": [
    "sum=0\n",
    "for i in dict1.values():\n",
    "    sum=sum+i\n",
    "print(\"sum is :\",sum)"
   ]
  },
  {
   "cell_type": "markdown",
   "id": "6db4c021",
   "metadata": {},
   "source": [
    "9. Write a Python program to multiply all the items in a dictionary."
   ]
  },
  {
   "cell_type": "code",
   "execution_count": 4,
   "id": "b99c1f1a",
   "metadata": {},
   "outputs": [
    {
     "name": "stdout",
     "output_type": "stream",
     "text": [
      "75600\n"
     ]
    }
   ],
   "source": [
    "multiply=1\n",
    "for i in dict1.values():\n",
    "    multiply=multiply*i\n",
    "print(multiply)"
   ]
  },
  {
   "cell_type": "markdown",
   "id": "d72d62e1",
   "metadata": {},
   "source": [
    "10. Write a Python program to remove a key from a dictionary. \n"
   ]
  },
  {
   "cell_type": "code",
   "execution_count": 15,
   "id": "2cb53284",
   "metadata": {},
   "outputs": [
    {
     "name": "stdout",
     "output_type": "stream",
     "text": [
      "{1: 10, 3: 5, 4: 9, 5: 12}\n"
     ]
    }
   ],
   "source": [
    "dict1={1:10,2:14,3:5,4:9,5:12}\n",
    "\n",
    "#dict1.pop(2)\n",
    "del dict1[2]\n",
    "print(dict1)"
   ]
  },
  {
   "cell_type": "markdown",
   "id": "324e8a7c",
   "metadata": {},
   "source": [
    "11. Write a Python program to map two lists into a dictionary. "
   ]
  },
  {
   "cell_type": "code",
   "execution_count": 23,
   "id": "20e539e7",
   "metadata": {},
   "outputs": [
    {
     "name": "stdout",
     "output_type": "stream",
     "text": [
      "{1: 'mango', 2: 'banana', 3: 'kiwi'}\n"
     ]
    }
   ],
   "source": [
    "key=[1,2,3]\n",
    "value=['mango','banana','kiwi']\n",
    "dict1=dict(zip(key,value))              ##### zip fubctin used to join 2 list\n",
    "print(dict1)"
   ]
  },
  {
   "cell_type": "markdown",
   "id": "df6439f0",
   "metadata": {},
   "source": [
    "12. Write a Python program to sort a given dictionary by key."
   ]
  },
  {
   "cell_type": "code",
   "execution_count": 29,
   "id": "e70c2ce1",
   "metadata": {},
   "outputs": [
    {
     "name": "stdout",
     "output_type": "stream",
     "text": [
      "Sorted Dictionary by key: {2: 'ram', 3: 'mohan', 5: 'kishan', 9: 'shyam'}\n"
     ]
    }
   ],
   "source": [
    "my_dict={2:\"ram\",5:\"kishan\",3:\"mohan\",9:\"shyam\"}\n",
    "sorted_dict = {k: my_dict[k] for k in sorted(my_dict)}\n",
    "\n",
    "print(\"Sorted Dictionary by key:\", sorted_dict)\n",
    "\n"
   ]
  },
  {
   "cell_type": "markdown",
   "id": "21a44303",
   "metadata": {},
   "source": [
    "13.  Write a Python program to get the maximum and minimum value in a dictionary. \n"
   ]
  },
  {
   "cell_type": "code",
   "execution_count": 56,
   "id": "cfbfecf4",
   "metadata": {},
   "outputs": [
    {
     "name": "stdout",
     "output_type": "stream",
     "text": [
      "max value:  50\n",
      "min value:  5\n"
     ]
    }
   ],
   "source": [
    "dict1={1:5,2:8,3:15,4:14,5:50}\n",
    "print(\"max value: \",max(dict1.values()))\n",
    "print(\"min value: \",min(dict1.values()))\n"
   ]
  },
  {
   "cell_type": "markdown",
   "id": "571e13b9",
   "metadata": {},
   "source": [
    "14. Write a Python program to remove duplicates from Dictionary. \n"
   ]
  },
  {
   "cell_type": "code",
   "execution_count": 2,
   "id": "2de5ec78",
   "metadata": {},
   "outputs": [
    {
     "name": "stdout",
     "output_type": "stream",
     "text": [
      "after removing duplicate:  {'a': 1, 'b': 2, 'c': 3, 'e': 2}\n"
     ]
    }
   ],
   "source": [
    "my_dict = {'a': 1, 'b': 2, 'c': 1, 'c': 3, 'e': 2}\n",
    "new_dict={}\n",
    "\n",
    "for i,j in my_dict.items():\n",
    "    if i not in new_dict:\n",
    "        new_dict[i]=j\n",
    "\n",
    "print(\"after removing duplicate: \",new_dict)"
   ]
  },
  {
   "cell_type": "markdown",
   "id": "a23f2810",
   "metadata": {},
   "source": [
    "15. Write a Python program to check a dictionary is empty or not."
   ]
  },
  {
   "cell_type": "code",
   "execution_count": 6,
   "id": "67746bf6",
   "metadata": {},
   "outputs": [
    {
     "name": "stdout",
     "output_type": "stream",
     "text": [
      "dictionary is not empty\n"
     ]
    }
   ],
   "source": [
    "my_dict = {'a': 1, 'b': 2, 'c': 1, 'c': 3, 'e': 2}\n",
    "if len(my_dict)==0:\n",
    "    print(\"dictionary is empty\")\n",
    "else:\n",
    "    print(\"dictionary is not empty\")"
   ]
  },
  {
   "cell_type": "markdown",
   "id": "65e8dbe8",
   "metadata": {},
   "source": [
    "16. Write a Python program to combine two dictionary adding values for common keys. \n",
    "d1 = {'a': 100, 'b': 200, 'c':300}\n",
    "d2 = {'a': 300, 'b': 200, 'd':400}\n",
    "Sample output: Counter({'a': 400, 'b': 400, 'd': 400, 'c': 300})\n"
   ]
  },
  {
   "cell_type": "code",
   "execution_count": 14,
   "id": "140b825a",
   "metadata": {},
   "outputs": [
    {
     "name": "stdout",
     "output_type": "stream",
     "text": [
      "{'a': 400, 'd': 400, 'b': 400, 'c': 300}\n"
     ]
    }
   ],
   "source": [
    "d1={'a':100,'b':200,'c':300}\n",
    "d2={'a':300,'b':200,'d':400}\n",
    "counter={}\n",
    "for i,j in d1.items():\n",
    "    d1[i]=j\n",
    "    for x,y in d2.items():\n",
    "        d2[x]=y\n",
    "        if i==x:\n",
    "            j=j+y\n",
    "    counter[i]=j\n",
    "    counter[x]=y   \n",
    "            \n",
    "print(counter)   "
   ]
  },
  {
   "cell_type": "markdown",
   "id": "60fc0378",
   "metadata": {},
   "source": [
    "17. Write a Python program to print all unique values in a dictionary. \n",
    "Sample Data : [{\"V\":\"S001\"}, {\"V\": \"S002\"}, {\"VI\": \"S001\"}, {\"VI\": \"S005\"}, {\"VII\":\"S005\"}, {\"V\":\"S009\"},{\"VIII\":\"S007\"}]\n",
    "Expected Output : Unique Values: {'S005', 'S002', 'S007', 'S001', 'S009'}\n"
   ]
  },
  {
   "cell_type": "code",
   "execution_count": 3,
   "id": "3bae81d9",
   "metadata": {},
   "outputs": [],
   "source": [
    "d1=[{\"V\":\"S001\"}, {\"V\": \"S002\"}, {\"VI\": \"S001\"}, {\"VI\": \"S005\"}, {\"VII\":\"S005\"}, {\"V\":\"S009\"},{\"VIII\":\"S007\"}]\n"
   ]
  },
  {
   "cell_type": "code",
   "execution_count": 7,
   "id": "c0b5cd0d",
   "metadata": {},
   "outputs": [
    {
     "name": "stdout",
     "output_type": "stream",
     "text": [
      "{'S007', 'S001', 'S005', 'S009', 'S002'}\n"
     ]
    }
   ],
   "source": [
    "unique=set()\n",
    "for d in d1:\n",
    "    \n",
    "    for value in d.values():\n",
    "       # print(value)\n",
    "        unique.add(value)\n",
    "print(unique)"
   ]
  },
  {
   "cell_type": "markdown",
   "id": "7d0f3423",
   "metadata": {},
   "source": [
    "18. Write a Python program to find the highest 3 values of corresponding keys in a dictionary. \n"
   ]
  },
  {
   "cell_type": "code",
   "execution_count": 51,
   "id": "02c0f029",
   "metadata": {},
   "outputs": [
    {
     "name": "stdout",
     "output_type": "stream",
     "text": [
      "a:20\n",
      "b:15\n",
      "e:10\n"
     ]
    }
   ],
   "source": [
    "my_dict = {'a': 10, 'c': 5, 'b': 20, 'd': 3, 'e': 15}\n",
    "sort_value=sorted(my_dict.values(),reverse=True)\n",
    "top_3_value=sort_value[:3]\n",
    "#top_3_value\n",
    "keys=[x for x,y in my_dict.items() if y in top_3_value]\n",
    "for i in range(len(top_3_value)):\n",
    "    print(f\"{keys[i]}:{top_3_value[i]}\")\n",
    "    "
   ]
  },
  {
   "cell_type": "markdown",
   "id": "63c8d0a1",
   "metadata": {},
   "source": [
    "19. Write a Python program to sort a list alphabetically in a dictionary."
   ]
  },
  {
   "cell_type": "code",
   "execution_count": 7,
   "id": "2a643193",
   "metadata": {},
   "outputs": [],
   "source": [
    "d = {\n",
    "    'fruits': ['apple', 'banana', 'orange'],\n",
    "    'animals': ['dog', 'cat', 'elephant'],\n",
    "    'colors': ['red', 'blue', 'green']\n",
    "}"
   ]
  },
  {
   "cell_type": "code",
   "execution_count": 17,
   "id": "40de6dbd",
   "metadata": {},
   "outputs": [
    {
     "name": "stdout",
     "output_type": "stream",
     "text": [
      "fruits : ['apple', 'banana', 'orange']\n",
      "animals : ['cat', 'dog', 'elephant']\n",
      "colors : ['blue', 'green', 'red']\n"
     ]
    }
   ],
   "source": [
    "sort_dic={}\n",
    "for i,j in d.items():\n",
    "        if type(j) is list:\n",
    "            sort_dic[i]=sorted(j)\n",
    "        else:\n",
    "            sort_dic[i]=j\n",
    "for i,j in sort_dic.items():\n",
    "    print(i,':',j)\n",
    "    \n",
    "#print(sort_dic)           "
   ]
  },
  {
   "cell_type": "markdown",
   "id": "963f4a58",
   "metadata": {},
   "source": [
    "20.  Write a Python program to get the top three items in a shop. \n",
    "Sample data: {'item1': 45.50, 'item2':35, 'item3': 41.30, 'item4':55, 'item5': 24}\n",
    "Expected Output:\n",
    "item4 55\n",
    "item1 45.5\n",
    "item3 41.3"
   ]
  },
  {
   "cell_type": "code",
   "execution_count": 59,
   "id": "310fe73a",
   "metadata": {},
   "outputs": [
    {
     "name": "stdout",
     "output_type": "stream",
     "text": [
      "item1: 55\n",
      "item3: 45.5\n",
      "item4: 41.3\n"
     ]
    }
   ],
   "source": [
    "d = {'item1': 45.50, 'item2': 35, 'item3': 41.30, 'item4': 55, 'item5': 24}\n",
    "\n",
    "sorted_values = sorted(d.values(), reverse=True)\n",
    "\n",
    "top_values = sorted_values[:3]\n",
    "\n",
    "keys = [key for key, value in d.items() if value in top_values]\n",
    "\n",
    "for i in range(len(top_values)):\n",
    "    print(f\"{keys[i]}: {top_values[i]}\")\n",
    "\n"
   ]
  },
  {
   "cell_type": "markdown",
   "id": "d815e364",
   "metadata": {},
   "source": [
    "21. Write a Python program to get the key, value and item in a dictionary. \n",
    "\n"
   ]
  },
  {
   "cell_type": "code",
   "execution_count": 62,
   "id": "476ccfc0",
   "metadata": {},
   "outputs": [
    {
     "name": "stdout",
     "output_type": "stream",
     "text": [
      "key:  1\n",
      "value:  mango\n",
      "item:  (1, 'mango')\n",
      "\n",
      "key:  2\n",
      "value:  chiku\n",
      "item:  (2, 'chiku')\n",
      "\n",
      "key:  3\n",
      "value:  kiwi\n",
      "item:  (3, 'kiwi')\n",
      "\n"
     ]
    }
   ],
   "source": [
    "d={1:'mango',2:'chiku',3:'kiwi'}\n",
    "for i,j in d.items():\n",
    "    print(\"key: \",i)\n",
    "    print(\"value: \",j)\n",
    "    print(\"item: \",(i,j))\n",
    "    print(\"\")"
   ]
  },
  {
   "cell_type": "markdown",
   "id": "b13b03da",
   "metadata": {},
   "source": [
    "22. Write a Python program to print a dictionary line by line. \n"
   ]
  },
  {
   "cell_type": "code",
   "execution_count": 63,
   "id": "2712c124",
   "metadata": {},
   "outputs": [
    {
     "name": "stdout",
     "output_type": "stream",
     "text": [
      "1 : mango\n",
      "2 : chiku\n",
      "3 : kiwi\n"
     ]
    }
   ],
   "source": [
    "for i,j in d.items():\n",
    "    print(i,\":\",j)"
   ]
  },
  {
   "cell_type": "markdown",
   "id": "869b7453",
   "metadata": {},
   "source": [
    "23.Write a Python program to check multiple keys exists in a dictionary. \n"
   ]
  },
  {
   "cell_type": "code",
   "execution_count": 70,
   "id": "fa4a210c",
   "metadata": {},
   "outputs": [
    {
     "name": "stdout",
     "output_type": "stream",
     "text": [
      "a  is exist\n",
      "g  not exist\n",
      "c  is exist\n"
     ]
    }
   ],
   "source": [
    "my_dict = {'a': 1, 'b': 2, 'c': 3, 'd': 4}\n",
    "key_check=['a','g','c']\n",
    "for k in key_check:\n",
    "    if k in my_dict:\n",
    "        print(k,' is exist')\n",
    "    else:\n",
    "        print(k,' not exist')"
   ]
  },
  {
   "cell_type": "markdown",
   "id": "4a842fb8",
   "metadata": {},
   "source": [
    "24. Write a Python program to count number of items in a dictionary value that is a list"
   ]
  },
  {
   "cell_type": "code",
   "execution_count": 80,
   "id": "9a4b927b",
   "metadata": {
    "scrolled": true
   },
   "outputs": [
    {
     "name": "stdout",
     "output_type": "stream",
     "text": [
      "['b', 'c']\n",
      "['d', 'e', 5]\n",
      "['f', 'g']\n",
      "total item of list:  7\n"
     ]
    }
   ],
   "source": [
    " \n",
    "d={1:'a',2:['b','c'],3:['d','e',5],4:['f','g'],5:10}\n",
    "count=0\n",
    "for j in d.values():\n",
    "    if isinstance(j,list): \n",
    "        print(j)                  ###isinstance() is check value is  list\n",
    "        count+=len(j)\n",
    "print(\"total item of list: \",count)"
   ]
  },
  {
   "cell_type": "markdown",
   "id": "de6780da",
   "metadata": {},
   "source": [
    "25. Write a Python program to replace dictionary values with their average. \n"
   ]
  },
  {
   "cell_type": "code",
   "execution_count": 92,
   "id": "f1d53991",
   "metadata": {},
   "outputs": [
    {
     "name": "stdout",
     "output_type": "stream",
     "text": [
      "{'a': 32.5, 'b': 32.5, 'c': 32.5, 'd': 32.5}\n"
     ]
    }
   ],
   "source": [
    "d={'a':10,'b':20,'c':60,'d':40}\n",
    "average=sum(d.values())/len(d.values())\n",
    "for i,j in d.items():\n",
    "    d[i]=average\n",
    "print(d)\n",
    "    \n",
    "    "
   ]
  },
  {
   "cell_type": "markdown",
   "id": "9b7a62fd",
   "metadata": {},
   "source": [
    "26.Write a Python program to create a dictionary of keys x, y, and z where each key has as value a list from 11-20, 21-30, and 31-40 respectively. Access the fifth value of each key from the dictionary. \n",
    "{'x': [11, 12, 13, 14, 15, 16, 17, 18, 19],\n",
    "'y': [21, 22, 23, 24, 25, 26, 27, 28, 29],\n",
    "'z': [31, 32, 33, 34, 35, 36, 37, 38, 39]}\n",
    "15\n",
    "25\n",
    "35\n",
    "x has value [11, 12, 13, 14, 15, 16, 17, 18, 19]\n",
    "y has value [21, 22, 23, 24, 25, 26, 27, 28, 29]\n",
    "z has value [31, 32, 33, 34, 35, 36, 37, 38, 39]\n"
   ]
  },
  {
   "cell_type": "code",
   "execution_count": 105,
   "id": "dbf92215",
   "metadata": {},
   "outputs": [
    {
     "name": "stdout",
     "output_type": "stream",
     "text": [
      "x has 5th value:  15\n",
      "y has 5th value:  25\n",
      "z has 5th value:  35\n"
     ]
    }
   ],
   "source": [
    "dic={'x': [11, 12, 13, 14, 15, 16, 17, 18, 19],\n",
    "'y': [21, 22, 23, 24, 25, 26, 27, 28, 29],\n",
    "'z': [31, 32, 33, 34, 35, 36, 37, 38, 39]}\n",
    "#for i in dic.items():\n",
    "print(\"x has 5th value: \",dic['x'][4])\n",
    "print(\"y has 5th value: \",dic['y'][4])\n",
    "print(\"z has 5th value: \",dic['z'][4])"
   ]
  },
  {
   "cell_type": "markdown",
   "id": "9d2419c3",
   "metadata": {},
   "source": [
    "27. Write a Python program to convert more than one list to nested dictionary. \n",
    "Original strings:\n",
    "['S001', 'S002', 'S003', 'S004']\n",
    "['Adina Park', 'Leyton Marsh', 'Duncan Boyle', 'Saim Richards']\n",
    "[85, 98, 89, 92]\n",
    "Nested dictionary:\n",
    "[{'S001': {'Adina Park': 85}}, {'S002': {'Leyton Marsh': 98}}, {'S003': {'Duncan Boyle': 89}}, {'S004': {'Saim Richards': 92}}]\n"
   ]
  },
  {
   "cell_type": "code",
   "execution_count": 108,
   "id": "80b08b95",
   "metadata": {},
   "outputs": [
    {
     "name": "stdout",
     "output_type": "stream",
     "text": [
      "[{'S001': {'Adina Park': 85}}, {'S002': {'Leyton Marsh': 98}}, {'S003': {'Duncan Boyle': 89}}, {'S004': {'Saim Richards': 92}}]\n"
     ]
    }
   ],
   "source": [
    "keys = ['S001', 'S002', 'S003', 'S004']\n",
    "names = ['Adina Park', 'Leyton Marsh', 'Duncan Boyle', 'Saim Richards']\n",
    "scores = [85, 98, 89, 92]\n",
    "nested=[]\n",
    "for keys,names,scores in zip(keys,names,scores):\n",
    "    nested.append({keys : {names:scores}})\n",
    "print(nested)\n",
    "    "
   ]
  },
  {
   "cell_type": "markdown",
   "id": "5a90b232",
   "metadata": {},
   "source": [
    "28. Write a Python program to create a dictionary grouping a sequence of key-value pairs into a dictionary of lists. \n",
    "Original list:\n",
    "[('yellow', 1), ('blue', 2), ('yellow', 3), ('blue', 4), ('red', 1)]\n",
    "Grouping a sequence of key-value pairs into a dictionary of lists:\n",
    "{'yellow': [1, 3], 'blue': [2, 4], 'red': [1]}\n"
   ]
  },
  {
   "cell_type": "code",
   "execution_count": 2,
   "id": "b74dd763",
   "metadata": {},
   "outputs": [
    {
     "name": "stdout",
     "output_type": "stream",
     "text": [
      "{'yellow': [1, 3], 'blue': [2, 4], 'red': [1]}\n"
     ]
    }
   ],
   "source": [
    "original_list = [('yellow', 1), ('blue', 2), ('yellow', 3), ('blue', 4), ('red', 1)]\n",
    "\n",
    "grouped_dict = {}\n",
    "\n",
    "for key, value in original_list:\n",
    "    if key in grouped_dict:\n",
    "        grouped_dict[key].append(value) \n",
    "    else:\n",
    "        grouped_dict[key] = [value]  \n",
    "print(grouped_dict)"
   ]
  },
  {
   "cell_type": "markdown",
   "id": "b797c8cf",
   "metadata": {},
   "source": [
    "29.Write a Python program to filter the height and width of students, which are stored in a dictionary. \n",
    "Original Dictionary:\n",
    "{'Cierra Vega': (6.2, 70), 'Alden Cantrell': (5.9, 65), 'Kierra Gentry': (6.0, 68), 'Pierre Cox': (5.8, 66)}\n",
    "Height > 6ft and Weight> 70kg:\n",
    "{'Cierra Vega': (6.2, 70)}\n"
   ]
  },
  {
   "cell_type": "code",
   "execution_count": 14,
   "id": "098cbcda",
   "metadata": {},
   "outputs": [
    {
     "name": "stdout",
     "output_type": "stream",
     "text": [
      "Height > 6ft and Weight > 70kg:\n",
      "{'Cierra Vega': (6.2, 70)}\n"
     ]
    }
   ],
   "source": [
    "students = {\n",
    "    'Cierra Vega': (6.2, 70),\n",
    "    'Alden Cantrell': (5.9, 65),\n",
    "    'Kierra Gentry': (6.0, 68),\n",
    "    'Pierre Cox': (5.8, 66)\n",
    "}\n",
    "\n",
    "\n",
    "filtered_students = {name: (height, weight) for name, (height, weight) in students.items() if height > 6.0 and weight >=70}\n",
    "\n",
    "print(\"Height > 6ft and Weight > 70kg:\")\n",
    "print(filtered_students)"
   ]
  },
  {
   "cell_type": "code",
   "execution_count": 22,
   "id": "7534e689",
   "metadata": {},
   "outputs": [
    {
     "name": "stdout",
     "output_type": "stream",
     "text": [
      "[{'x': 10.12, 'y': 20.23, 'z': 30.0}, {'p': 40.0, 'q': 50.19, 'r': 60.99}]\n"
     ]
    }
   ],
   "source": [
    "#30 .  \n",
    "original_list_float = [{'x': '10.12', 'y': '20.23', 'z': '30'}, {'p': '40.00', 'q': '50.19', 'r': '60.99'}]\n",
    "\n",
    "converted_list_float = [{key: float(value) for key, value in dictionary.items()} for dictionary in original_list_float]\n",
    "\n",
    "\n",
    "print(converted_list_float)\n",
    "\n"
   ]
  },
  {
   "cell_type": "markdown",
   "id": "001f4f66",
   "metadata": {},
   "source": [
    "31. A Python Dictionary contains List as value. Write a Python program to clear the list values in the said dictionary. \n",
    "Original Dictionary:\n",
    "{'C1': [10, 20, 30], 'C2': [20, 30, 40], 'C3': [12, 34]}\n",
    "Clear the list values in the said dictionary:\n",
    "{'C1': [], 'C2': [], 'C3': []}"
   ]
  },
  {
   "cell_type": "code",
   "execution_count": 31,
   "id": "31812dd1",
   "metadata": {},
   "outputs": [
    {
     "name": "stdout",
     "output_type": "stream",
     "text": [
      "{'C1': [], 'C2': [], 'C3': []}\n"
     ]
    }
   ],
   "source": [
    "dic1={'C1': [10, 20, 30], 'C2': [20, 30, 40], 'C3': [12, 34]}\n",
    "for key,value in dic1.items():\n",
    "    #if isinstance(value,list):\n",
    "        dic1[key]=[]  #dic1[key].clear()\n",
    "print(dic1)       "
   ]
  },
  {
   "cell_type": "markdown",
   "id": "dcc59f98",
   "metadata": {},
   "source": [
    "32. Write a Python program to find the length of a given dictionary values. \n",
    "Original Dictionary:\n",
    "{1: 'red', 2: 'green', 3: 'black', 4: 'white', 5: 'black'}\n",
    "Length of dictionary values:\n",
    "{'red': 3, 'green': 5, 'black': 5, 'white': 5}\n",
    "Original Dictionary:\n",
    "{'1': 'Austin Little', '2': 'Natasha Howard', '3': 'Alfred Mullins', '4': 'Jamie Rowe'}\n",
    "Length of dictionary values:\n",
    "{'Austin Little': 13, 'Natasha Howard': 14, 'Alfred Mullins': 14, 'Jamie Rowe': 10}"
   ]
  },
  {
   "cell_type": "code",
   "execution_count": 3,
   "id": "9f9a154b",
   "metadata": {},
   "outputs": [
    {
     "name": "stdout",
     "output_type": "stream",
     "text": [
      "{'red': 3, 'green': 5, 'black': 5, 'white': 5}\n"
     ]
    }
   ],
   "source": [
    "dic1={1: 'red', 2: 'green', 3: 'black', 4: 'white', 5: 'black'}\n",
    "#for value in dic1.values():\n",
    "    #print(f'{value} :', len(value))\n",
    "len={value: len(value) for value in dic1.values()}\n",
    "print(len)"
   ]
  },
  {
   "cell_type": "markdown",
   "id": "bdbb4e58",
   "metadata": {},
   "source": [
    "33. Write a Python program to access dictionary key's element by index. \n",
    "Expected Output:\n",
    "physics\n",
    "math\n",
    "chemistry\n"
   ]
  },
  {
   "cell_type": "code",
   "execution_count": 11,
   "id": "3485a9ee",
   "metadata": {},
   "outputs": [
    {
     "name": "stdout",
     "output_type": "stream",
     "text": [
      "physics\n",
      "math\n",
      "chemistry\n"
     ]
    }
   ],
   "source": [
    "my_dict = {'subject1': 'physics', 'subject2': 'math', 'subject3': 'chemistry'}\n",
    "value=list(my_dict.values())\n",
    "print(value[0])\n",
    "print(value[1])\n",
    "print(value[2])\n"
   ]
  },
  {
   "cell_type": "markdown",
   "id": "a249a157",
   "metadata": {},
   "source": [
    "34.  Write a Python program to convert a given dictionary into a list of lists. \n",
    "Original Dictionary:\n",
    "{1: 'red', 2: 'green', 3: 'black', 4: 'white', 5: 'black'}\n",
    "Convert the said dictionary into a list of lists:\n",
    "[[1, 'red'], [2, 'green'], [3, 'black'], [4, 'white'], [5, 'black']]"
   ]
  },
  {
   "cell_type": "code",
   "execution_count": 4,
   "id": "86a027dd",
   "metadata": {},
   "outputs": [
    {
     "name": "stdout",
     "output_type": "stream",
     "text": [
      "[[1, 'red'], [2, 'green'], [3, 'black'], [4, 'white'], [5, 'black']]\n"
     ]
    }
   ],
   "source": [
    "dic1={1: 'red', 2: 'green', 3: 'black', 4: 'white', 5: 'black'}\n",
    "new_list=[[key,value] for key,value in dic1.items()]\n",
    "print(new_list)"
   ]
  },
  {
   "cell_type": "markdown",
   "id": "0fba2c0f",
   "metadata": {},
   "source": [
    "35. Write a Python program to filter even numbers from a given dictionary values. \n",
    " Write a Python program to filter even numbers from a given dictionary values. \n",
    "Original Dictionary:\n",
    "{'V': [1, 4, 6, 10], 'VI': [1, 4, 12], 'VII': [1, 3, 8]}\n",
    "Filter even numbers from said dictionary values:\n",
    "{'V': [4, 6, 10], 'VI': [4, 12], 'VII': [8]}\n"
   ]
  },
  {
   "cell_type": "code",
   "execution_count": 10,
   "id": "df17e8ab",
   "metadata": {},
   "outputs": [
    {
     "name": "stdout",
     "output_type": "stream",
     "text": [
      "{'V': [4, 6, 10], 'VI': [4, 12], 'VII': [8]}\n"
     ]
    }
   ],
   "source": [
    "dic1 = {'V': [1, 4, 6, 10], 'VI': [1, 4, 12], 'VII': [1, 3, 8]}\n",
    "\n",
    "new_dic = {i: [x for x in j if x%2==0] for i,j in dic1.items()}\n",
    "\n",
    "print(new_dic)"
   ]
  },
  {
   "cell_type": "markdown",
   "id": "4a2a3567",
   "metadata": {},
   "source": [
    "36. Write a Python program to count the frequency in a given dictionary. \n",
    "Original Dictionary:\n",
    "{'V': 10, 'VI': 10, 'VII': 40, 'VIII': 20, 'IX': 70, 'X': 80, 'XI': 40, 'XII': 20}\n",
    "Count the frequency of the said dictionary:\n",
    "Counter({10: 2, 40: 2, 20: 2, 70: 1, 80: 1})"
   ]
  },
  {
   "cell_type": "code",
   "execution_count": 30,
   "id": "6a832e27",
   "metadata": {},
   "outputs": [
    {
     "name": "stdout",
     "output_type": "stream",
     "text": [
      "{10: 2, 40: 2, 20: 2, 70: 1, 80: 1}\n"
     ]
    }
   ],
   "source": [
    "dic1={'V': 10, 'VI': 10, 'VII': 40, 'VIII': 20, 'IX': 70, 'X': 80, 'XI': 40, 'XII': 20}\n",
    "new_dic={}\n",
    "for value in dic1.values():\n",
    "   # print(value)\n",
    "    if value in new_dic:\n",
    "        new_dic[value]+=1\n",
    "    else:\n",
    "        new_dic[value]=1\n",
    "print(new_dic)\n",
    "\n",
    "\n"
   ]
  },
  {
   "cell_type": "markdown",
   "id": "72c7e8a9",
   "metadata": {},
   "source": [
    "37. Write a Python program to combines two or more dictionaries, creating a list of values for each key. \n",
    "Sample Output:\n",
    "Original dictionaries:\n",
    "{'w': 50, 'x': 100, 'y': 'Green', 'z': 400}\n",
    "{'x': 300, 'y': 'Red', 'z': 600}\n",
    "Combined dictionaries, creating a list of values for each key:\n",
    "{'w': [50], 'x': [100, 300], 'y': ['Green', 'Red'], 'z': [400, 600]}"
   ]
  },
  {
   "cell_type": "code",
   "execution_count": 23,
   "id": "e4dad7ad",
   "metadata": {},
   "outputs": [
    {
     "name": "stdout",
     "output_type": "stream",
     "text": [
      "{'w': [50], 'x': [100, 300], 'y': ['Green', 'Red'], 'z': [400, 600]}\n"
     ]
    }
   ],
   "source": [
    "dic1 = {'w': 50, 'x': 100, 'y': 'Green', 'z': 400}\n",
    "dic2 = {'x': 300, 'y': 'Red', 'z': 600}\n",
    "new_dic = {}\n",
    "\n",
    "for d in (dic1, dic2):\n",
    "    for key, value in d.items():\n",
    "        if key in new_dic:\n",
    "            new_dic[key].append(value)\n",
    "        else:\n",
    "            new_dic[key] = [value]\n",
    "\n",
    "print(new_dic)\n",
    "\n",
    "    "
   ]
  },
  {
   "cell_type": "markdown",
   "id": "cff81925",
   "metadata": {},
   "source": [
    "38. . Write a Python program to combine two lists into a dictionary, where the elements of the first one serve as the keys and the elements of the second one serve as the values. The values of the first list need to be unique and hashable. \n",
    "Sample Output:\n",
    "Original lists:\n",
    "['a', 'b', 'c', 'd', 'e', 'f']\n",
    "[1, 2, 3, 4, 5]\n",
    "Combine the values of the said two lists into a dictionary:\n",
    "{'a': 1, 'b': 2, 'c': 3, 'd': 4, 'e': 5}"
   ]
  },
  {
   "cell_type": "code",
   "execution_count": 24,
   "id": "e7e5dcb9",
   "metadata": {},
   "outputs": [
    {
     "name": "stdout",
     "output_type": "stream",
     "text": [
      "{'a': 1, 'b': 2, 'c': 3, 'd': 4, 'e': 5}\n"
     ]
    }
   ],
   "source": [
    "list1=['a', 'b', 'c', 'd', 'e', 'f']\n",
    "list2=[1, 2, 3, 4, 5]\n",
    "new_dic=dict(zip(list1,list2))\n",
    "print(new_dic)"
   ]
  },
  {
   "cell_type": "markdown",
   "id": "c7b01dad",
   "metadata": {},
   "source": [
    "39. Write a Python program to convert given a dictionary to a list of tuples. \n",
    "Sample Output:\n",
    "Original Dictionary:\n",
    "{'Red': 1, 'Green': 3, 'White': 5, 'Black': 2, 'Pink': 4}\n",
    "Convert the said dictionary to a list of tuples:\n",
    "[('Red', 1), ('Green', 3), ('White', 5), ('Black', 2), ('Pink', 4)]"
   ]
  },
  {
   "cell_type": "code",
   "execution_count": 28,
   "id": "3cda418c",
   "metadata": {},
   "outputs": [
    {
     "data": {
      "text/plain": [
       "[('Red', 1), ('Green', 3), ('White', 5), ('Black', 2), ('Pink', 4)]"
      ]
     },
     "execution_count": 28,
     "metadata": {},
     "output_type": "execute_result"
    }
   ],
   "source": [
    "dic1={'Red': 1, 'Green': 3, 'White': 5, 'Black': 2, 'Pink': 4}\n",
    "\n",
    "tpl=[(i,j) for i,j in dic1.items()]\n",
    "tpl"
   ]
  },
  {
   "cell_type": "markdown",
   "id": "fefd7fef",
   "metadata": {},
   "source": [
    "40. Write a Python program to find the key of the maximum value in a dictionary. \n",
    "Sample Output:\n",
    "Original dictionary elements:\n",
    "{'Theodore': 19, 'Roxanne': 22, 'Mathew': 21, 'Betty': 20}\n",
    "Finds the key of the maximum and minimum value of the said dictionary:\n",
    "('Roxanne', 'Theodore')"
   ]
  },
  {
   "cell_type": "code",
   "execution_count": 43,
   "id": "8a98d1fb",
   "metadata": {},
   "outputs": [
    {
     "name": "stdout",
     "output_type": "stream",
     "text": [
      "minimum value of key:  Theodore\n",
      "maximum value of key: Roxanne\n"
     ]
    }
   ],
   "source": [
    "dic1={'Theodore': 19, 'Roxanne': 22, 'Mathew': 21, 'Betty': 20}\n",
    "\n",
    "max_val=max(dic1.values())\n",
    "min_val=min(dic1.values())\n",
    "\n",
    "for key,value in dic1.items():\n",
    "    if max_val==value:\n",
    "        print(\"maximum value of key:\" ,key)\n",
    "    if min_val == value:\n",
    "        print(\"minimum value of key: \",key)"
   ]
  },
  {
   "cell_type": "code",
   "execution_count": 45,
   "id": "74f61754",
   "metadata": {},
   "outputs": [
    {
     "name": "stdout",
     "output_type": "stream",
     "text": [
      "('Theodore', 'Roxanne')\n"
     ]
    }
   ],
   "source": [
    "max_val=max(dic1,key=dic1.get)\n",
    "min_val=min(dic1,key=dic1.get)\n",
    "print((min_val,max_val))"
   ]
  },
  {
   "cell_type": "code",
   "execution_count": null,
   "id": "65331208",
   "metadata": {},
   "outputs": [],
   "source": []
  }
 ],
 "metadata": {
  "kernelspec": {
   "display_name": "Python 3 (ipykernel)",
   "language": "python",
   "name": "python3"
  },
  "language_info": {
   "codemirror_mode": {
    "name": "ipython",
    "version": 3
   },
   "file_extension": ".py",
   "mimetype": "text/x-python",
   "name": "python",
   "nbconvert_exporter": "python",
   "pygments_lexer": "ipython3",
   "version": "3.9.19"
  }
 },
 "nbformat": 4,
 "nbformat_minor": 5
}
