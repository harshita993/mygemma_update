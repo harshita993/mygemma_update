{
 "cells": [
  {
   "cell_type": "code",
   "execution_count": 21,
   "id": "b783a4df",
   "metadata": {},
   "outputs": [
    {
     "name": "stdout",
     "output_type": "stream",
     "text": [
      "john 25 95\n",
      "52\n",
      "john 25 97 52\n",
      "john-25-97-52\n"
     ]
    }
   ],
   "source": [
    "name=\"john\"\n",
    "roll_no=25\n",
    "per=95\n",
    "print(name,roll_no,per)\n",
    "attendance=input()\n",
    "per=97\n",
    "print(name,roll_no,per,attendance)\n",
    "#use separater\n",
    "print(name,roll_no,per,attendance,sep=\"-\")"
   ]
  },
  {
   "cell_type": "code",
   "execution_count": 32,
   "id": "9527894f",
   "metadata": {},
   "outputs": [
    {
     "name": "stdout",
     "output_type": "stream",
     "text": [
      "{'mats': 99, 'science': 98, 'english': 95, 'physics': 56}\n"
     ]
    }
   ],
   "source": [
    "marks={\"mats\":99,\"science\":98,\"english\":95}\n",
    "\n",
    "marks[\"physics\"]=56\n",
    "print(marks)"
   ]
  },
  {
   "cell_type": "code",
   "execution_count": 34,
   "id": "e60bd0a4",
   "metadata": {},
   "outputs": [
    {
     "name": "stdout",
     "output_type": "stream",
     "text": [
      "[99, 95, 94, 96, 56]\n"
     ]
    }
   ],
   "source": [
    "marks=[99,95,94,96]\n",
    "marks.append(56)\n",
    "print(marks)"
   ]
  },
  {
   "cell_type": "code",
   "execution_count": 38,
   "id": "86e17f3e",
   "metadata": {},
   "outputs": [
    {
     "name": "stdout",
     "output_type": "stream",
     "text": [
      "97\n",
      "50\n"
     ]
    }
   ],
   "source": [
    "#to define ascii value\n",
    "print(ord(\"a\"))\n",
    "print(ord('2'))"
   ]
  },
  {
   "cell_type": "code",
   "execution_count": 40,
   "id": "a37445b2",
   "metadata": {},
   "outputs": [
    {
     "name": "stdout",
     "output_type": "stream",
     "text": [
      "first number: 2\n",
      "second number: 3\n",
      "5\n"
     ]
    }
   ],
   "source": [
    "a=int(input(\"first number: \"))\n",
    "b=int(input(\"second number: \"))\n",
    "print(a+b)"
   ]
  },
  {
   "cell_type": "code",
   "execution_count": 50,
   "id": "a779fed2",
   "metadata": {},
   "outputs": [
    {
     "name": "stdout",
     "output_type": "stream",
     "text": [
      "first number: 5\n",
      "second number: 3\n",
      "sum is:  8\n",
      "average is:  2\n",
      "multiply is:  15\n",
      "devide by:  1.6666666666666667\n",
      "persantage is:  2\n",
      "double multiply is:  125\n",
      "double devision is:  1\n",
      "...............................\n",
      "sum is:  11\n",
      "True\n",
      "True\n",
      "False\n"
     ]
    }
   ],
   "source": [
    "a=int(input(\"first number: \"))\n",
    "b=int(input(\"second number: \"))\n",
    "print(\"sum is: \",a+b)\n",
    "print(\"average is: \",a-b)\n",
    "print(\"multiply is: \",a*b)\n",
    "print(\"devide by: \",a/b)\n",
    "print(\"persantage is: \",a%b)\n",
    "print(\"double multiply is: \",a**b)\n",
    "print(\"double devision is: \",a//b)\n",
    "print(\"...............................\")\n",
    "a+=b\n",
    "print(\"sum is: \",a+b)\n",
    "print(a>b)\n",
    "print(a!=b)\n",
    "print(a==b)"
   ]
  },
  {
   "cell_type": "code",
   "execution_count": 52,
   "id": "45e93dd1",
   "metadata": {},
   "outputs": [
    {
     "name": "stdout",
     "output_type": "stream",
     "text": [
      "a: 5\n",
      "b: 3\n",
      "exp1:  False\n",
      "exp2:  True\n",
      "not exp:  True\n"
     ]
    }
   ],
   "source": [
    "a=input(\"a: \")\n",
    "b=input(\"b: \")\n",
    "exp1=a<b\n",
    "exp2=a>b\n",
    "print(\"exp1: \",exp1)\n",
    "print(\"exp2: \",exp2)\n",
    "print(\"not exp: \",not(exp1))"
   ]
  },
  {
   "cell_type": "code",
   "execution_count": 54,
   "id": "9a2c845a",
   "metadata": {},
   "outputs": [
    {
     "name": "stdout",
     "output_type": "stream",
     "text": [
      "a: 5\n",
      "b: 5\n",
      "is op:  True\n",
      "is not op:  False\n"
     ]
    }
   ],
   "source": [
    "#is and is not operator\n",
    "a=input(\"a: \")\n",
    "b=input(\"b: \")\n",
    "print(\"is op: \",a is b)\n",
    "print(\"is not op: \",a is not b)"
   ]
  },
  {
   "cell_type": "code",
   "execution_count": 57,
   "id": "b642a751",
   "metadata": {},
   "outputs": [
    {
     "name": "stdout",
     "output_type": "stream",
     "text": [
      "True\n",
      "False\n"
     ]
    }
   ],
   "source": [
    "#in and not in operator\n",
    "fruit=[\"mango\",\"banana\",\"apple\"]\n",
    "print(\"mango\" in fruit)\n",
    "print(\"mango\" not in fruit)"
   ]
  },
  {
   "cell_type": "code",
   "execution_count": 7,
   "id": "f1490e56",
   "metadata": {},
   "outputs": [
    {
     "name": "stdout",
     "output_type": "stream",
     "text": [
      "and operator:  1\n",
      "or operator:  7\n",
      "xor operator  6\n",
      "not operator:  -4\n"
     ]
    }
   ],
   "source": [
    "#binary operator\n",
    "a=5\n",
    "b=3\n",
    "print(\"and operator: \" ,a & b)\n",
    "print(\"or operator: \", a | b)\n",
    "print(\"xor operator \",a^b)\n",
    "print(\"not operator: \",~ b)"
   ]
  },
  {
   "cell_type": "code",
   "execution_count": 72,
   "id": "db8f2a11",
   "metadata": {},
   "outputs": [
    {
     "name": "stdout",
     "output_type": "stream",
     "text": [
      "enter radious: 2\n",
      "33.50933333333333\n"
     ]
    }
   ],
   "source": [
    "#volume of sphere\n",
    "radious=float(input(\"enter radious: \"))\n",
    "volume=(4/3)*3.1415*(radious**3)\n",
    "print(volume)"
   ]
  },
  {
   "cell_type": "code",
   "execution_count": 77,
   "id": "11ca0c79",
   "metadata": {},
   "outputs": [
    {
     "name": "stdout",
     "output_type": "stream",
     "text": [
      "enter temprature: 20\n",
      "temprature in to fernhit:  68.0\n"
     ]
    }
   ],
   "source": [
    "#convert temprature celcius to fernhit\n",
    "temp_cel=float(input(\"enter temprature: \"))\n",
    "temp_fer=(temp_cel*9/5)+32\n",
    "print(\"temprature in to fernhit: \",temp_fer)"
   ]
  },
  {
   "cell_type": "code",
   "execution_count": 78,
   "id": "a71fb76c",
   "metadata": {},
   "outputs": [
    {
     "name": "stdout",
     "output_type": "stream",
     "text": [
      "2\n"
     ]
    }
   ],
   "source": [
    "print(8//3+4%2)"
   ]
  },
  {
   "cell_type": "code",
   "execution_count": 86,
   "id": "361f45ef",
   "metadata": {},
   "outputs": [
    {
     "name": "stdout",
     "output_type": "stream",
     "text": [
      "2\n"
     ]
    }
   ],
   "source": [
    "print(10%4)"
   ]
  },
  {
   "cell_type": "code",
   "execution_count": 92,
   "id": "e6278e37",
   "metadata": {},
   "outputs": [
    {
     "name": "stdout",
     "output_type": "stream",
     "text": [
      "take a integer: -5\n",
      "nagative\n"
     ]
    }
   ],
   "source": [
    "a=int(input(\"take a integer: \"))\n",
    "if a>0: \n",
    "    print(\"positive\")\n",
    "else:\n",
    "    print(\"nagative\")"
   ]
  },
  {
   "cell_type": "code",
   "execution_count": 96,
   "id": "bcff8eb8",
   "metadata": {},
   "outputs": [
    {
     "name": "stdout",
     "output_type": "stream",
     "text": [
      "take a integer16\n",
      "numer is even\n"
     ]
    }
   ],
   "source": [
    "a=int(input(\"take a integer\"))\n",
    "if a>0:\n",
    "    if a%2==0:\n",
    "        print(\"numer is even\")\n",
    "    else:\n",
    "        print(\"number is odd\")\n",
    "else:\n",
    "    print(\"number is nagative\")"
   ]
  },
  {
   "cell_type": "code",
   "execution_count": 100,
   "id": "4b5d23b4",
   "metadata": {},
   "outputs": [
    {
     "name": "stdout",
     "output_type": "stream",
     "text": [
      "enter cost price: 3000\n",
      "enter sell price: 500\n",
      "you made profit:  2500\n"
     ]
    }
   ],
   "source": [
    "#profit and loss\n",
    "cost_price=int(input(\"enter cost price: \"))\n",
    "sell_price=int(input(\"enter sell price: \"))\n",
    "if cost_price>sell_price:\n",
    "    print(\"you made profit: \",cost_price-sell_price)\n",
    "elif cost_price<sell_price:\n",
    "    print(\"you in loss: \",sell_price-cost_price)\n",
    "else:\n",
    "    print(\"no profit / no loss\")"
   ]
  },
  {
   "cell_type": "code",
   "execution_count": 108,
   "id": "ebfb3b32",
   "metadata": {},
   "outputs": [
    {
     "name": "stdout",
     "output_type": "stream",
     "text": [
      "take a student name: jhj\n",
      "take a percentage: 75\n",
      "good  jhj\n"
     ]
    }
   ],
   "source": [
    "sname=input(\"take a student name: \")\n",
    "per=float(input(\"take a percentage: \"))\n",
    "if per>=81:\n",
    "    print(\"very good \",sname)\n",
    "elif per>=61:\n",
    "    print(\"good \",sname)\n",
    "elif per>=41:\n",
    "    print(\"average \",sname)\n",
    "elif per<=40 and per>=0:\n",
    "    print(\"fail \", sname)\n",
    "else:\n",
    "    print(\"invalid percentage\")"
   ]
  },
  {
   "cell_type": "code",
   "execution_count": 111,
   "id": "27960fc4",
   "metadata": {},
   "outputs": [
    {
     "name": "stdout",
     "output_type": "stream",
     "text": [
      "enter maths marks: 65\n",
      "enter english marks: 65\n",
      "grade = c\n"
     ]
    }
   ],
   "source": [
    "maths=int(input(\"enter maths marks: \"))\n",
    "english=int(input(\"enter english marks: \"))\n",
    "if maths>=80 and english>=80:\n",
    "    print(\"grade = A\")\n",
    "elif maths<80 and english<80:\n",
    "    print(\"grade = c\")\n",
    "else:\n",
    "    print(\"grade = B\")"
   ]
  },
  {
   "cell_type": "code",
   "execution_count": 116,
   "id": "2efcef3b",
   "metadata": {},
   "outputs": [
    {
     "name": "stdout",
     "output_type": "stream",
     "text": [
      "3\n"
     ]
    }
   ],
   "source": [
    "number=\"123\"\n",
    "print(len(number))"
   ]
  },
  {
   "cell_type": "code",
   "execution_count": 117,
   "id": "f66b8a21",
   "metadata": {},
   "outputs": [
    {
     "name": "stdout",
     "output_type": "stream",
     "text": [
      "take a positive integer: 2536\n",
      "its a 4 digit\n"
     ]
    }
   ],
   "source": [
    "number=str(input(\"take a positive integer: \"))\n",
    "if len(number)==4:\n",
    "    print(\"its a 4 digit\")\n",
    "else:\n",
    "    print(\"not\")"
   ]
  },
  {
   "cell_type": "code",
   "execution_count": 2,
   "id": "9af38897",
   "metadata": {},
   "outputs": [
    {
     "name": "stdout",
     "output_type": "stream",
     "text": [
      "input number 1: 5\n",
      "input numer 2:8\n",
      "input number 3:10\n",
      "c is greater than both\n"
     ]
    }
   ],
   "source": [
    "a=int(input(\"input number 1: \"))\n",
    "b=int(input(\"input numer 2:\"))\n",
    "c=int(input(\"input number 3:\"))\n",
    "if a>b and a>c:\n",
    "    print(\"a is greater than b and c.\")\n",
    "elif b>c and b>a:\n",
    "    print(\"b is greater than a and c\")\n",
    "else:\n",
    "    print(\"c is greater than both\")"
   ]
  },
  {
   "cell_type": "code",
   "execution_count": 5,
   "id": "4bdc23de",
   "metadata": {},
   "outputs": [
    {
     "name": "stdout",
     "output_type": "stream",
     "text": [
      "input number 1: 5\n",
      "input numer 2:2\n",
      "input number 3:8\n",
      "c is greatest\n"
     ]
    }
   ],
   "source": [
    "#nested if\n",
    "a=int(input(\"input number 1: \"))\n",
    "b=int(input(\"input numer 2:\"))\n",
    "c=int(input(\"input number 3:\"))\n",
    "if a>b:\n",
    "    if a>c:\n",
    "        print(\"a is greatest\")\n",
    "    else:\n",
    "        print(\"c is greatest\")\n",
    "else:\n",
    "    if b>a:\n",
    "        if b>c:\n",
    "            print(\"b is greatest\")\n",
    "        else:\n",
    "            print(\"c is greatest\")"
   ]
  },
  {
   "cell_type": "code",
   "execution_count": 8,
   "id": "45ef75b2",
   "metadata": {},
   "outputs": [
    {
     "name": "stdout",
     "output_type": "stream",
     "text": [
      "enter number: 20\n",
      "true\n"
     ]
    }
   ],
   "source": [
    "a=int(input(\"enter number: \"))\n",
    "if a%3==0 or a%5==0:\n",
    "    if a%15!=0:\n",
    "        print(\"true\")\n",
    "    else:\n",
    "        print(\"false\")\n",
    "else:\n",
    "    print(\"false\")\n",
    "    "
   ]
  },
  {
   "cell_type": "code",
   "execution_count": 54,
   "id": "14bf98aa",
   "metadata": {},
   "outputs": [
    {
     "ename": "SyntaxError",
     "evalue": "invalid syntax (2175978803.py, line 5)",
     "output_type": "error",
     "traceback": [
      "\u001b[1;36m  Cell \u001b[1;32mIn[54], line 5\u001b[1;36m\u001b[0m\n\u001b[1;33m    match operator:\u001b[0m\n\u001b[1;37m          ^\u001b[0m\n\u001b[1;31mSyntaxError\u001b[0m\u001b[1;31m:\u001b[0m invalid syntax\n"
     ]
    }
   ],
   "source": [
    "a = int(input(\"Enter number 1: \"))\n",
    "b = int(input(\"Enter number 2: \"))\n",
    "operator = input(\"Enter operator: \")\n",
    "\n",
    "match operator:\n",
    "    case '+':\n",
    "        print(\"Sum is:\", a + b)\n",
    "    case '-':\n",
    "        print(\"Difference is:\", a - b)"
   ]
  },
  {
   "cell_type": "code",
   "execution_count": 9,
   "id": "5ca1a857",
   "metadata": {},
   "outputs": [],
   "source": [
    "#######################"
   ]
  },
  {
   "cell_type": "code",
   "execution_count": 33,
   "id": "9af60cb6",
   "metadata": {},
   "outputs": [
    {
     "name": "stdout",
     "output_type": "stream",
     "text": [
      "enter number: 6\n",
      "number is even\n"
     ]
    }
   ],
   "source": [
    "num=int(input(\"enter number: \"))\n",
    "print(\"number is even\" if num%2==0 else \"odd\")"
   ]
  },
  {
   "cell_type": "code",
   "execution_count": 36,
   "id": "98d51572",
   "metadata": {},
   "outputs": [
    {
     "name": "stdout",
     "output_type": "stream",
     "text": [
      "enter a: 5\n",
      "enter b: 7\n",
      "sum is:  not valid\n"
     ]
    }
   ],
   "source": [
    "a=int(input(\"enter a: \"))\n",
    "b=int(input(\"enter b: \"))\n",
    "print(\"sum is: \",a+b if a>b else \"not valid\")"
   ]
  },
  {
   "cell_type": "code",
   "execution_count": 37,
   "id": "34487335",
   "metadata": {},
   "outputs": [],
   "source": [
    "#for loop \n",
    "#range(strat,end,step)"
   ]
  },
  {
   "cell_type": "code",
   "execution_count": 49,
   "id": "e8260a0d",
   "metadata": {},
   "outputs": [
    {
     "name": "stdout",
     "output_type": "stream",
     "text": [
      "1 hello\n",
      "3 hello\n",
      "5 hello\n",
      "7 hello\n",
      "9 hello\n"
     ]
    }
   ],
   "source": [
    "for i in range(1,10,2):\n",
    "    print(i, \"hello\")"
   ]
  },
  {
   "cell_type": "code",
   "execution_count": 55,
   "id": "17e765c5",
   "metadata": {},
   "outputs": [
    {
     "name": "stdout",
     "output_type": "stream",
     "text": [
      "1\n",
      "2\n",
      "3\n",
      "banana\n",
      "mango\n",
      "apple\n"
     ]
    }
   ],
   "source": [
    "list=['1','2','3']\n",
    "fruits=['banana','mango','apple']\n",
    "for i in list:\n",
    "    print(i)\n",
    "for f in fruits:\n",
    "    print(f)\n"
   ]
  },
  {
   "cell_type": "code",
   "execution_count": 2,
   "id": "276b90a7",
   "metadata": {},
   "outputs": [
    {
     "name": "stdout",
     "output_type": "stream",
     "text": [
      "1\n",
      "3\n",
      "5\n",
      "7\n",
      "9\n",
      "11\n",
      "13\n",
      "15\n"
     ]
    }
   ],
   "source": [
    "j=1\n",
    "while j<=15:\n",
    "    print(j)\n",
    "    j+=2\n"
   ]
  },
  {
   "cell_type": "code",
   "execution_count": null,
   "id": "d17fb878",
   "metadata": {},
   "outputs": [],
   "source": [
    "i=1\n",
    "while i==1:\n",
    "    print(i)\n",
    "    i=i-1\n"
   ]
  },
  {
   "cell_type": "code",
   "execution_count": 2,
   "id": "e2613120",
   "metadata": {},
   "outputs": [
    {
     "name": "stdout",
     "output_type": "stream",
     "text": [
      "-1 5\n"
     ]
    }
   ],
   "source": [
    "x=0\n",
    "y=4\n",
    "while x>=0:\n",
    "    x-=1\n",
    "    y+=1\n",
    "    if x==y:\n",
    "        continue\n",
    "    else:\n",
    "        print(x,y)"
   ]
  },
  {
   "cell_type": "code",
   "execution_count": 5,
   "id": "05f0cb5c",
   "metadata": {},
   "outputs": [
    {
     "name": "stdout",
     "output_type": "stream",
     "text": [
      "*****\n"
     ]
    }
   ],
   "source": [
    "for n in range(1):\n",
    "    print('*****')"
   ]
  },
  {
   "cell_type": "code",
   "execution_count": null,
   "id": "0d5a8f31",
   "metadata": {},
   "outputs": [],
   "source": [
    "for n in range(2):\n",
    "    print('*****')"
   ]
  },
  {
   "cell_type": "code",
   "execution_count": 4,
   "id": "250135c5",
   "metadata": {},
   "outputs": [
    {
     "name": "stdout",
     "output_type": "stream",
     "text": [
      "*****\n",
      "*****\n"
     ]
    }
   ],
   "source": [
    "i=1\n",
    "while i<=2:\n",
    "    print(\"*****\")\n",
    "    i=i+1\n",
    "    "
   ]
  },
  {
   "cell_type": "code",
   "execution_count": 6,
   "id": "274769a0",
   "metadata": {},
   "outputs": [
    {
     "name": "stdout",
     "output_type": "stream",
     "text": [
      "enter number: 5\n",
      "*****\n",
      "*****\n",
      "*****\n",
      "*****\n",
      "*****\n"
     ]
    }
   ],
   "source": [
    "n=int(input(\"enter number: \"))\n",
    "for i in range(n):\n",
    "    print(\"*\" * 5)"
   ]
  },
  {
   "cell_type": "code",
   "execution_count": 29,
   "id": "090722e4",
   "metadata": {},
   "outputs": [
    {
     "name": "stdout",
     "output_type": "stream",
     "text": [
      "enter number: 5\n",
      "12345\n",
      "12345\n",
      "12345\n",
      "12345\n",
      "12345\n"
     ]
    }
   ],
   "source": [
    "n=int(input(\"enter number: \"))\n",
    "for i in range(n):\n",
    "    for j in range(1,n+1):\n",
    "        print(j,end=\"\")\n",
    "    print()\n"
   ]
  },
  {
   "cell_type": "code",
   "execution_count": 32,
   "id": "e95fa949",
   "metadata": {},
   "outputs": [
    {
     "name": "stdout",
     "output_type": "stream",
     "text": [
      "enter number: 5\n",
      "1\n",
      "12\n",
      "123\n",
      "1234\n",
      "12345\n"
     ]
    }
   ],
   "source": [
    "n=int(input(\"enter number: \"))\n",
    "for i in range(1,n+1):\n",
    "    for j in range(1,i+1):\n",
    "        print(j,end=\"\")\n",
    "    print()\n"
   ]
  },
  {
   "cell_type": "code",
   "execution_count": 67,
   "id": "38818632",
   "metadata": {},
   "outputs": [
    {
     "name": "stdout",
     "output_type": "stream",
     "text": [
      "enter number: 5\n",
      "\n",
      "A\n",
      "BC\n",
      "DEF\n",
      "GHIJ\n"
     ]
    }
   ],
   "source": [
    "n=int(input(\"enter number: \"))\n",
    "n1=65\n",
    "for i in range(n):\n",
    "    for j in range(1,i+1):\n",
    "        ch=chr(n1)\n",
    "        print(ch,end=\"\")\n",
    "        n1=n1+1\n",
    "    print()\n"
   ]
  },
  {
   "cell_type": "code",
   "execution_count": 35,
   "id": "de752656",
   "metadata": {},
   "outputs": [
    {
     "name": "stdout",
     "output_type": "stream",
     "text": [
      "a\n"
     ]
    }
   ],
   "source": [
    "print(chr(97))"
   ]
  },
  {
   "cell_type": "code",
   "execution_count": 8,
   "id": "b42aba8c",
   "metadata": {},
   "outputs": [
    {
     "name": "stdout",
     "output_type": "stream",
     "text": [
      "enter number: 5\n",
      "         1\n",
      "       123\n",
      "     12345\n",
      "   1234567\n",
      " 123456789\n"
     ]
    }
   ],
   "source": [
    "\n",
    "n=int(input(\"enter number: \"))\n",
    "for i in range(1,n+1):\n",
    "    print(\"  \"*(n-i),end=\" \")\n",
    "    for j in range(1,2*i):\n",
    "        print(j,end=\"\")\n",
    "        \n",
    "    print()\n"
   ]
  },
  {
   "cell_type": "code",
   "execution_count": null,
   "id": "52d53587",
   "metadata": {},
   "outputs": [],
   "source": [
    "#insert #append #extend######"
   ]
  },
  {
   "cell_type": "code",
   "execution_count": 38,
   "id": "dc980980",
   "metadata": {},
   "outputs": [
    {
     "name": "stdout",
     "output_type": "stream",
     "text": [
      "['mango', 'apple', 'chiku']\n",
      "['mango', 'kiwi', 'chiku']\n",
      "['mango', 'kiwi', 'chiku', 'watermelon']\n",
      "['mango', 'kiwi', 'grapes', 'chiku', 'watermelon']\n",
      "['mango', 'kiwi', 'grapes', 'chiku', 'watermelon', 'pinapple', 'cherry']\n",
      "['kiwi', 'grapes', 'chiku', 'watermelon', 'pinapple', 'cherry']\n"
     ]
    }
   ],
   "source": [
    "fruits=[\"mango\",\"apple\",\"chiku\"]\n",
    "print(fruits)\n",
    "fruits[1]=\"kiwi\"\n",
    "print(fruits)\n",
    "fruits.append(\"watermelon\")\n",
    "print(fruits)\n",
    "fruits.insert(2,\"grapes\")\n",
    "print(fruits)\n",
    "fruit1=[\"pinapple\",\"cherry\"]\n",
    "fruits.extend(fruit1)\n",
    "print(fruits)\n",
    "fruits.remove(\"mango\")\n",
    "print(fruits)"
   ]
  },
  {
   "cell_type": "code",
   "execution_count": 28,
   "id": "61339cb9",
   "metadata": {},
   "outputs": [
    {
     "name": "stdout",
     "output_type": "stream",
     "text": [
      "mango is present...!\n"
     ]
    }
   ],
   "source": [
    "if \"mango\" in fruits:\n",
    "    print(\"mango is present...!\")\n",
    "else:\n",
    "    print(\"not present \")"
   ]
  },
  {
   "cell_type": "code",
   "execution_count": 29,
   "id": "5e6d831a",
   "metadata": {},
   "outputs": [],
   "source": [
    "#indexing list#####"
   ]
  },
  {
   "cell_type": "code",
   "execution_count": 30,
   "id": "711bcf98",
   "metadata": {},
   "outputs": [
    {
     "name": "stdout",
     "output_type": "stream",
     "text": [
      "['kiwi', 'grapes', 'chiku']\n"
     ]
    }
   ],
   "source": [
    "print(fruits[1:4])"
   ]
  },
  {
   "cell_type": "code",
   "execution_count": 31,
   "id": "fa79cd32",
   "metadata": {},
   "outputs": [
    {
     "name": "stdout",
     "output_type": "stream",
     "text": [
      "['mango', 'kiwi', 'grapes']\n"
     ]
    }
   ],
   "source": [
    "print(fruits[-5:-2])"
   ]
  },
  {
   "cell_type": "code",
   "execution_count": 37,
   "id": "74c55739",
   "metadata": {},
   "outputs": [
    {
     "name": "stdout",
     "output_type": "stream",
     "text": [
      "['grapes', 'chiku', 'watermelon', 'pinapple', 'cherry']\n"
     ]
    }
   ],
   "source": [
    "fruits.remove(\"kiwi\")\n",
    "print(fruits)"
   ]
  },
  {
   "cell_type": "code",
   "execution_count": 39,
   "id": "b5b92962",
   "metadata": {},
   "outputs": [
    {
     "name": "stdout",
     "output_type": "stream",
     "text": [
      "['kiwi', 'grapes', 'watermelon', 'pinapple', 'cherry']\n"
     ]
    }
   ],
   "source": [
    "fruits.pop(2)\n",
    "print(fruits)"
   ]
  },
  {
   "cell_type": "code",
   "execution_count": null,
   "id": "7e364eba",
   "metadata": {},
   "outputs": [],
   "source": [
    "##change list value"
   ]
  },
  {
   "cell_type": "code",
   "execution_count": 40,
   "id": "79988711",
   "metadata": {},
   "outputs": [
    {
     "name": "stdout",
     "output_type": "stream",
     "text": [
      "['kiwi', 'grapes', 'mango', 'pinapple', 'cherry']\n"
     ]
    }
   ],
   "source": [
    "fruits[2]=\"mango\"\n",
    "print(fruits)"
   ]
  },
  {
   "cell_type": "code",
   "execution_count": 41,
   "id": "800f9d23",
   "metadata": {},
   "outputs": [
    {
     "name": "stdout",
     "output_type": "stream",
     "text": [
      "['banana', 'chiku', 'mango', 'pinapple', 'cherry']\n"
     ]
    }
   ],
   "source": [
    "fruits[0:2]=(\"banana\",\"chiku\")\n",
    "print(fruits)"
   ]
  },
  {
   "cell_type": "code",
   "execution_count": 51,
   "id": "10ef8e00",
   "metadata": {},
   "outputs": [
    {
     "name": "stdout",
     "output_type": "stream",
     "text": [
      "[11, 'a', 'm', 'a', 'n', 14, 15]\n"
     ]
    }
   ],
   "source": [
    "num=[11,12,13,14,15]\n",
    "num[1:3]=\"aman\"\n",
    "print(num)"
   ]
  },
  {
   "cell_type": "code",
   "execution_count": null,
   "id": "b8b5b020",
   "metadata": {},
   "outputs": [],
   "source": [
    "###ascending and decending order#####"
   ]
  },
  {
   "cell_type": "code",
   "execution_count": 58,
   "id": "6f523747",
   "metadata": {},
   "outputs": [
    {
     "name": "stdout",
     "output_type": "stream",
     "text": [
      "['banana', 'cherry', 'chiku', 'mango', 'pinapple']\n",
      "['pinapple', 'mango', 'chiku', 'cherry', 'banana']\n"
     ]
    }
   ],
   "source": [
    "fruits.sort()\n",
    "print(fruits)\n",
    "fruits.reverse()\n",
    "print(fruits)"
   ]
  },
  {
   "cell_type": "code",
   "execution_count": 59,
   "id": "f0787228",
   "metadata": {},
   "outputs": [
    {
     "name": "stdout",
     "output_type": "stream",
     "text": [
      "['pinapple', 'mango', 'chiku', 'cherry', 'banana']\n",
      "['banana', 'cherry', 'chiku', 'mango', 'pinapple']\n"
     ]
    }
   ],
   "source": [
    "fruits.sort(reverse=True)\n",
    "print(fruits)\n",
    "fruits.reverse()\n",
    "print(fruits)"
   ]
  },
  {
   "cell_type": "code",
   "execution_count": null,
   "id": "de1e8f60",
   "metadata": {},
   "outputs": [],
   "source": [
    "####filtering ###"
   ]
  },
  {
   "cell_type": "code",
   "execution_count": 67,
   "id": "56f98339",
   "metadata": {},
   "outputs": [
    {
     "name": "stdout",
     "output_type": "stream",
     "text": [
      "['banana', 'mango', 'pinapple']\n"
     ]
    }
   ],
   "source": [
    "new_fruit=[fruit for fruit in fruits if \"a\" in fruit]\n",
    "print(new_fruit)\n"
   ]
  },
  {
   "cell_type": "code",
   "execution_count": 69,
   "id": "7c67eb48",
   "metadata": {},
   "outputs": [
    {
     "name": "stdout",
     "output_type": "stream",
     "text": [
      "['banana', 'cherry', 'chiku', 'mango', 'pinapple']\n"
     ]
    }
   ],
   "source": [
    "new=fruits.copy()\n",
    "print(new)"
   ]
  },
  {
   "cell_type": "code",
   "execution_count": 70,
   "id": "ffcf9ac9",
   "metadata": {},
   "outputs": [
    {
     "name": "stdout",
     "output_type": "stream",
     "text": [
      "['banana', 'cherry', 'chiku', 'mango', 'pinapple', 'banana', 'cherry', 'chiku', 'mango', 'pinapple']\n"
     ]
    }
   ],
   "source": [
    "merge=fruits+new\n",
    "print(merge)"
   ]
  },
  {
   "cell_type": "code",
   "execution_count": 71,
   "id": "6fd323aa",
   "metadata": {},
   "outputs": [
    {
     "name": "stdout",
     "output_type": "stream",
     "text": [
      "[1, 2, [3, 4], 5]\n"
     ]
    }
   ],
   "source": [
    "num=[1,2,[3,4],5]\n",
    "print(num)"
   ]
  },
  {
   "cell_type": "code",
   "execution_count": 72,
   "id": "8b0744c4",
   "metadata": {},
   "outputs": [
    {
     "name": "stdout",
     "output_type": "stream",
     "text": [
      "[3, 4]\n"
     ]
    }
   ],
   "source": [
    "print(num[2])"
   ]
  },
  {
   "cell_type": "code",
   "execution_count": 74,
   "id": "864274d6",
   "metadata": {},
   "outputs": [
    {
     "name": "stdout",
     "output_type": "stream",
     "text": [
      "3\n"
     ]
    }
   ],
   "source": [
    "print(num[2][0])"
   ]
  },
  {
   "cell_type": "code",
   "execution_count": 83,
   "id": "0aed777a",
   "metadata": {},
   "outputs": [
    {
     "name": "stdout",
     "output_type": "stream",
     "text": [
      "[1, 2, [6, 7], 6, [6, 7], '6', [3, 4], 5]\n"
     ]
    }
   ],
   "source": [
    "num.insert(4,[6,7])\n",
    "print(num)"
   ]
  },
  {
   "cell_type": "code",
   "execution_count": 85,
   "id": "1890218e",
   "metadata": {},
   "outputs": [
    {
     "name": "stdout",
     "output_type": "stream",
     "text": [
      "[19, 65, 19, 90]\n"
     ]
    }
   ],
   "source": [
    "num=[23,65,19,90]\n",
    "num[0]=num[2]\n",
    "num[2]=num[0]\n",
    "print(num)"
   ]
  },
  {
   "cell_type": "code",
   "execution_count": 90,
   "id": "6f222cfb",
   "metadata": {},
   "outputs": [
    {
     "name": "stdout",
     "output_type": "stream",
     "text": [
      "[19, 65, 23, 90]\n"
     ]
    }
   ],
   "source": [
    "num=[23,65,19,90]\n",
    "temp=num[2]\n",
    "num[2]=num[0]\n",
    "num[0]=temp\n",
    "print(num)"
   ]
  },
  {
   "cell_type": "code",
   "execution_count": 92,
   "id": "fac884d8",
   "metadata": {},
   "outputs": [
    {
     "name": "stdout",
     "output_type": "stream",
     "text": [
      "[1, 5, 3, 4, 2]\n"
     ]
    }
   ],
   "source": [
    "list=[1,2,3,4,5]\n",
    "temp=list[1]\n",
    "list[1]=list[4]\n",
    "list[4]=temp\n",
    "print(list)"
   ]
  },
  {
   "cell_type": "code",
   "execution_count": 101,
   "id": "a1973cee",
   "metadata": {},
   "outputs": [
    {
     "name": "stdout",
     "output_type": "stream",
     "text": [
      "enter size of list: 3\n",
      "enter num:2\n",
      "enter num:3\n",
      "enter num:5\n",
      "enter idx1: 2\n",
      "enter idx2: 1\n",
      "[2, 5, 3]\n"
     ]
    }
   ],
   "source": [
    "size=int(input(\"enter size of list: \"))\n",
    "list=[]\n",
    "for i in range(size):\n",
    "    num=int(input('enter num:'))\n",
    "    list.append(num)\n",
    "index1=int(input(\"enter idx1: \"))\n",
    "index2=int(input(\"enter idx2: \"))\n",
    "temp=list[index1]\n",
    "list[index1]=list[index2]\n",
    "list[index2]=temp\n",
    "print(list)"
   ]
  },
  {
   "cell_type": "code",
   "execution_count": 106,
   "id": "07083f55",
   "metadata": {},
   "outputs": [
    {
     "name": "stdout",
     "output_type": "stream",
     "text": [
      "('red', 'green', 'yellow', 'brown')\n",
      "red\n",
      "green\n",
      "yellow\n",
      "brown\n"
     ]
    }
   ],
   "source": [
    "colour=(\"red\",\"green\")\n",
    "more_colour=(\"yellow\",\"brown\")\n",
    "colour=colour+more_colour\n",
    "print(colour)\n",
    "for i in colour:\n",
    "    print(i)"
   ]
  },
  {
   "cell_type": "code",
   "execution_count": 109,
   "id": "67cb295f",
   "metadata": {},
   "outputs": [
    {
     "name": "stdout",
     "output_type": "stream",
     "text": [
      "red green yellow brown\n"
     ]
    }
   ],
   "source": [
    "col1,col2,col3,col4=colour\n",
    "print(col1,col2,col3,col4)"
   ]
  },
  {
   "cell_type": "code",
   "execution_count": 20,
   "id": "55e808be",
   "metadata": {},
   "outputs": [
    {
     "name": "stdout",
     "output_type": "stream",
     "text": [
      "('d', 'c', 'b', 'a')\n"
     ]
    }
   ],
   "source": [
    "input_tuple=('a','b','c','d')\n",
    "my_list=[]\n",
    "for i in reversed(input_tuple):\n",
    "    my_list.append(i)\n",
    "output=tuple(my_list)\n",
    "print(output)"
   ]
  },
  {
   "cell_type": "code",
   "execution_count": 15,
   "id": "63955705",
   "metadata": {},
   "outputs": [
    {
     "name": "stdout",
     "output_type": "stream",
     "text": [
      "(4, 3, 2, 1)\n"
     ]
    }
   ],
   "source": [
    "input_tuple = (1, 2, 3, 4)\n",
    "my_list = []\n",
    "for i in reversed(input_tuple):\n",
    "    my_list.append(i)\n",
    "output = tuple(my_list)\n",
    "print(output)"
   ]
  },
  {
   "cell_type": "code",
   "execution_count": 23,
   "id": "9d83e0e5",
   "metadata": {},
   "outputs": [],
   "source": [
    "list={'a','b','c'}"
   ]
  },
  {
   "cell_type": "code",
   "execution_count": 31,
   "id": "9185caf5",
   "metadata": {},
   "outputs": [
    {
     "name": "stdout",
     "output_type": "stream",
     "text": [
      "{'e', 'd'}\n"
     ]
    }
   ],
   "source": [
    "list.add('d')\n",
    "print(list)"
   ]
  },
  {
   "cell_type": "code",
   "execution_count": 32,
   "id": "72dda349",
   "metadata": {},
   "outputs": [
    {
     "name": "stdout",
     "output_type": "stream",
     "text": [
      "{'e'}\n"
     ]
    }
   ],
   "source": [
    "list.remove('d')\n",
    "print(list)"
   ]
  },
  {
   "cell_type": "code",
   "execution_count": 33,
   "id": "ad913707",
   "metadata": {},
   "outputs": [],
   "source": [
    "name={'sia','tia','mina'}"
   ]
  },
  {
   "cell_type": "code",
   "execution_count": 34,
   "id": "5b863fdb",
   "metadata": {},
   "outputs": [
    {
     "name": "stdout",
     "output_type": "stream",
     "text": [
      "{'sia', 'mina', 'tia'}\n"
     ]
    }
   ],
   "source": [
    "print(name)"
   ]
  },
  {
   "cell_type": "code",
   "execution_count": 35,
   "id": "9ada9f54",
   "metadata": {},
   "outputs": [
    {
     "name": "stdout",
     "output_type": "stream",
     "text": [
      "sia\n",
      "mina\n",
      "tia\n"
     ]
    }
   ],
   "source": [
    "for x in name:\n",
    "    print(x)"
   ]
  },
  {
   "cell_type": "code",
   "execution_count": 22,
   "id": "925de677",
   "metadata": {},
   "outputs": [
    {
     "name": "stdout",
     "output_type": "stream",
     "text": [
      "{'dika', 'mina', 'shyam', 'ram', 'ena'}\n",
      "{'dika', 'mina', 'shyam', 'ena'}\n"
     ]
    }
   ],
   "source": [
    "name={'ena','mina','dika'}\n",
    "new_name=['ram','shyam']\n",
    "name.update(new_name)    ##to merge list in set\n",
    "print(name)\n",
    "name.discard(\"ram\")  ##to remove use discard()## if value is not exist discard cant display error\n",
    "print(name)"
   ]
  },
  {
   "cell_type": "code",
   "execution_count": 16,
   "id": "8ffeb3c7",
   "metadata": {},
   "outputs": [
    {
     "name": "stdout",
     "output_type": "stream",
     "text": [
      "enter size of list: 3\n",
      "enter name: hjffd\n",
      "enter name: dfjdjf\\\n",
      "enter name: kfdk\n",
      "['hjffd', 'dfjdjf\\\\', 'kfdk', 'ram', 'shyam']\n",
      "ram is exist\n"
     ]
    }
   ],
   "source": [
    "size=int(input(\"enter size of list: \"))\n",
    "list=[]\n",
    "for i in range(size):\n",
    "    name=input(\"enter name: \")\n",
    "    list.append(name)\n",
    "new_list=['ram','shyam']\n",
    "list.extend(new_list)     ##merge two list\n",
    "print(list)\n",
    "if \"ram\" in list:\n",
    "        print(\"ram is exist\")\n",
    "else:\n",
    "        print(\"ram not exist\")\n"
   ]
  },
  {
   "cell_type": "code",
   "execution_count": 20,
   "id": "0b3a6b80",
   "metadata": {},
   "outputs": [
    {
     "name": "stdout",
     "output_type": "stream",
     "text": [
      "{'a', 'x', 'c', 'b', 'd'} {'x', 'y', 'a', 'z'}\n",
      "{'a', 'x'}\n"
     ]
    }
   ],
   "source": [
    "a={'a','b','c','d','x'}\n",
    "b={'x','y','z','a'}\n",
    "print(a,b)\n",
    "##c=a.union(b) ## merge two sets #\n",
    "#print(c)\n",
    "#a.update(b)\n",
    "#print(a)\n",
    "a.intersection_update(b) ##only duplicate value join\n",
    "print(a)\n"
   ]
  },
  {
   "cell_type": "code",
   "execution_count": 21,
   "id": "492ddfa9",
   "metadata": {},
   "outputs": [
    {
     "name": "stdout",
     "output_type": "stream",
     "text": [
      "{'y', 'z', 'c', 'b', 'd'}\n"
     ]
    }
   ],
   "source": [
    "a={'a','b','c','d','x'}\n",
    "b={'x','y','z','a'}\n",
    "a.symmetric_difference_update(b)### except duplicate, value joint #\n",
    "print(a)\n"
   ]
  },
  {
   "cell_type": "code",
   "execution_count": 44,
   "id": "5daabb8e",
   "metadata": {},
   "outputs": [
    {
     "name": "stdout",
     "output_type": "stream",
     "text": [
      "{'7', '80', '20'}\n",
      "{'80', '20'}\n"
     ]
    }
   ],
   "source": [
    "a={'1','5','10','20','40','80','7'}\n",
    "b={'6','7','20','80','100'}\n",
    "c={'3','4','15','20','30','70','80','120'}\n",
    "d=a.intersection(b) ##only duplicate value join ##\n",
    "print(d)\n",
    "new=d.intersection(c)\n",
    "print(new)"
   ]
  },
  {
   "cell_type": "code",
   "execution_count": 39,
   "id": "de327e24",
   "metadata": {},
   "outputs": [
    {
     "name": "stdout",
     "output_type": "stream",
     "text": [
      "{'maths': 97, 'english': 90}\n",
      "{'maths': 56, 'english': 90}\n",
      "{'maths': 56, 'english': 90, 'science': 80}\n",
      "maths 56\n",
      "english 90\n",
      "science 80\n"
     ]
    }
   ],
   "source": [
    "marks={'maths' :97,'english' :90}\n",
    "print(marks)\n",
    "#marks['maths']=95\n",
    "marks['maths']=56\n",
    "print(marks)\n",
    "# print(marks.keys()) only keys\n",
    "marks['science']=80\n",
    "print(marks)\n",
    "##marks.pop('maths')     ## remove at specific value\n",
    "#marks.popitem()     ##remove last added item\n",
    "#print(marks)\n",
    "#marks.clear()      #empty the dictionary\n",
    "#print(marks)\n",
    "for i in marks:\n",
    "#for i,j in marks.items():\n",
    "   # print(i)                   #print only keys\n",
    "    #print(marks[i])            #print only value\n",
    "    print(i,marks[i])\n",
    "   # print(i,j)"
   ]
  },
  {
   "cell_type": "code",
   "execution_count": 1,
   "id": "02c7d763",
   "metadata": {},
   "outputs": [
    {
     "name": "stdout",
     "output_type": "stream",
     "text": [
      "ram :6556565\n"
     ]
    }
   ],
   "source": [
    "names={'ram','shyam'}\n",
    "number={9851144455,55828522588}\n",
    "print(\"ram :{}\".format(6556565))"
   ]
  },
  {
   "cell_type": "code",
   "execution_count": 37,
   "id": "e003ba41",
   "metadata": {},
   "outputs": [
    {
     "name": "stdout",
     "output_type": "stream",
     "text": [
      "enter name :jgj\n",
      "enter number :565\n",
      "enter name :jghjg\n",
      "enter number :55656\n",
      "jgj : 565 jghjg : 55656 \n"
     ]
    }
   ],
   "source": [
    "result=\"\"\n",
    "for i in range(2):\n",
    "    name=str(input(\"enter name :\"))\n",
    "    number=input(\"enter number :\")\n",
    "    result+=name+\" : \"+number+\" \"\n",
    "    \n",
    "print(result)\n",
    "\n"
   ]
  },
  {
   "cell_type": "code",
   "execution_count": 19,
   "id": "33a8156b",
   "metadata": {},
   "outputs": [
    {
     "name": "stdout",
     "output_type": "stream",
     "text": [
      "Enter name: ghhjhj\n",
      "Enter number: 2232\n",
      "Enter name: jhghj\n",
      "Enter number: 2323\n",
      "Enter name: jhgj\n",
      "Enter number: 2123\n",
      "Concatenated string: ghhjhj:2232 jhghj:2323 jhgj:2123 \n"
     ]
    }
   ],
   "source": [
    "result = \"\"\n",
    "for i in range(3):  # Using '_' as a convention when the loop variable is not used\n",
    "    name = input(\"Enter name: \")\n",
    "    number = input(\"Enter number: \")\n",
    "    result += name+\":\" + number + \" \"  # Concatenating name, number, and a space\n",
    "print(\"Concatenated string:\",result)"
   ]
  },
  {
   "cell_type": "code",
   "execution_count": 1,
   "id": "9cacfc56",
   "metadata": {},
   "outputs": [
    {
     "name": "stdout",
     "output_type": "stream",
     "text": [
      "(1, 2, 3, 4)\n"
     ]
    }
   ],
   "source": [
    "print((1,2)+(3,4))"
   ]
  },
  {
   "cell_type": "code",
   "execution_count": 6,
   "id": "c49fb690",
   "metadata": {},
   "outputs": [
    {
     "name": "stdout",
     "output_type": "stream",
     "text": [
      "enter number :5\n",
      "15\n"
     ]
    }
   ],
   "source": [
    "n=int(input(\"enter number :\"))\n",
    "sum=0\n",
    "for i in range(1,n+1):\n",
    "    sum=sum+i\n",
    "print(sum)"
   ]
  },
  {
   "cell_type": "markdown",
   "id": "6cf658d4",
   "metadata": {},
   "source": [
    "# user define function"
   ]
  },
  {
   "cell_type": "code",
   "execution_count": 3,
   "id": "5b842963",
   "metadata": {},
   "outputs": [
    {
     "name": "stdout",
     "output_type": "stream",
     "text": [
      "hello world...!\n"
     ]
    }
   ],
   "source": [
    "def message():\n",
    "    print(\"hello world...!\")\n",
    "message()"
   ]
  },
  {
   "cell_type": "code",
   "execution_count": 16,
   "id": "690ab278",
   "metadata": {},
   "outputs": [
    {
     "name": "stdout",
     "output_type": "stream",
     "text": [
      "enter number1: 3\n",
      "enter number2: 2\n",
      "enter number3: 5\n",
      "sum is:  10\n"
     ]
    }
   ],
   "source": [
    "n1=int(input(\"enter number1: \"))\n",
    "n2=int(input(\"enter number2: \"))\n",
    "n3=int(input(\"enter number3: \"))\n",
    "def sum(n1,n2,n3):\n",
    "    print(\"sum is: \",n1+n2+n3)\n",
    "sum(n1,n2,n3)"
   ]
  },
  {
   "cell_type": "code",
   "execution_count": 24,
   "id": "9f5a788c",
   "metadata": {},
   "outputs": [
    {
     "name": "stdout",
     "output_type": "stream",
     "text": [
      "enter number1: 5\n",
      "enter number2: 3\n",
      "enter number3: 6\n",
      "sum is:  14\n"
     ]
    }
   ],
   "source": [
    "n1=int(input(\"enter number1: \"))\n",
    "n2=int(input(\"enter number2: \"))\n",
    "n3=int(input(\"enter number3: \"))\n",
    "def sum(n1,n2,n3):\n",
    "    add=n1+n2+n3\n",
    "    return add\n",
    "print(\"sum is: \",sum(n1,n2,n3))"
   ]
  },
  {
   "cell_type": "code",
   "execution_count": 23,
   "id": "e33896ec",
   "metadata": {},
   "outputs": [
    {
     "name": "stdout",
     "output_type": "stream",
     "text": [
      "output : 15\n"
     ]
    }
   ],
   "source": [
    "def allnumbers(*args):\n",
    "    sum=0\n",
    "    for i in args:\n",
    "        sum+=i\n",
    "    return sum\n",
    "output=allnumbers(1,2,3,4,5)\n",
    "print(\"output :\",output)"
   ]
  },
  {
   "cell_type": "code",
   "execution_count": 20,
   "id": "79c6103f",
   "metadata": {},
   "outputs": [
    {
     "name": "stdout",
     "output_type": "stream",
     "text": [
      "{'name': 'harshu', 'age': 25, 'phone': 9624672940}\n"
     ]
    }
   ],
   "source": [
    "def studentinfo(**kwargs):\n",
    "    return kwargs\n",
    "student_detail=studentinfo(name='harshu',age=25,phone=9624672940)\n",
    "print(student_detail)   "
   ]
  },
  {
   "cell_type": "markdown",
   "id": "4c8c3a4b",
   "metadata": {},
   "source": [
    "# nested function"
   ]
  },
  {
   "cell_type": "code",
   "execution_count": 29,
   "id": "af144efc",
   "metadata": {},
   "outputs": [
    {
     "name": "stdout",
     "output_type": "stream",
     "text": [
      "output:  3\n"
     ]
    }
   ],
   "source": [
    "def outer():\n",
    "    x=1\n",
    "    def inner():\n",
    "        y=2\n",
    "        sum=x+y\n",
    "        return sum\n",
    "    return inner()\n",
    "output=outer()\n",
    "print(\"output: \",output)"
   ]
  },
  {
   "cell_type": "code",
   "execution_count": 10,
   "id": "48fcec49",
   "metadata": {},
   "outputs": [
    {
     "name": "stdout",
     "output_type": "stream",
     "text": [
      "20\n"
     ]
    }
   ],
   "source": [
    "x=20\n",
    "def func(x):\n",
    "    x=10\n",
    "\n",
    "func(x)\n",
    "print(x)"
   ]
  },
  {
   "cell_type": "code",
   "execution_count": 18,
   "id": "feecc3ce",
   "metadata": {},
   "outputs": [
    {
     "name": "stdout",
     "output_type": "stream",
     "text": [
      "30\n",
      "20\n"
     ]
    }
   ],
   "source": [
    "x=20\n",
    "def func(x):\n",
    "    x+=10\n",
    "    print(x)\n",
    "func(x)\n",
    "print(x)"
   ]
  },
  {
   "cell_type": "code",
   "execution_count": 3,
   "id": "801ee310",
   "metadata": {},
   "outputs": [
    {
     "name": "stdout",
     "output_type": "stream",
     "text": [
      "Number of local variables: 0\n"
     ]
    }
   ],
   "source": [
    "def count_local_variables():\n",
    "    local_vars = locals()\n",
    "    return len(local_vars)\n",
    "\n",
    "# Test the function\n",
    "print(\"Number of local variables:\", count_local_variables())\n",
    "\n"
   ]
  },
  {
   "cell_type": "code",
   "execution_count": 4,
   "id": "2fdf76f4",
   "metadata": {},
   "outputs": [
    {
     "name": "stdout",
     "output_type": "stream",
     "text": [
      "4\n"
     ]
    }
   ],
   "source": [
    "def example():\n",
    "    a=1\n",
    "    b=2\n",
    "    c='ram'\n",
    "    d=4343\n",
    "    local_vars = locals()\n",
    "    return len(local_vars)\n",
    "print(example())\n"
   ]
  },
  {
   "cell_type": "code",
   "execution_count": 12,
   "id": "d8397bf9",
   "metadata": {},
   "outputs": [
    {
     "name": "stdout",
     "output_type": "stream",
     "text": [
      "Factorial of 5 is: 120\n"
     ]
    }
   ],
   "source": [
    "def factorial(n):\n",
    "    \n",
    "        result = 1\n",
    "        for i in range(1, n + 1):\n",
    "            result *= i\n",
    "        return result\n",
    "\n",
    "number = 5\n",
    "print(\"Factorial of\", number, \"is:\", factorial(number))"
   ]
  },
  {
   "cell_type": "markdown",
   "id": "fdfd556a",
   "metadata": {},
   "source": [
    "# recursion function"
   ]
  },
  {
   "cell_type": "code",
   "execution_count": 23,
   "id": "9cd6eb53",
   "metadata": {},
   "outputs": [
    {
     "name": "stdout",
     "output_type": "stream",
     "text": [
      "120\n"
     ]
    }
   ],
   "source": [
    "\n",
    "def factorial(n):\n",
    "    \n",
    "    if n==0:\n",
    "        return 1\n",
    "    \n",
    "        ans=1\n",
    "    ans=n*factorial(n-1)\n",
    "    return ans\n",
    "print(factorial(5))\n",
    "    \n",
    "    "
   ]
  },
  {
   "cell_type": "code",
   "execution_count": 15,
   "id": "35850e26",
   "metadata": {},
   "outputs": [
    {
     "name": "stdout",
     "output_type": "stream",
     "text": [
      "5\n",
      "4\n",
      "3\n",
      "2\n",
      "1\n"
     ]
    }
   ],
   "source": [
    "# to print n to 1\n",
    "def number(n):\n",
    "    if n ==0:\n",
    "        return\n",
    "    print(n)\n",
    "    number(n - 1)\n",
    "\n",
    "number(5)"
   ]
  },
  {
   "cell_type": "code",
   "execution_count": 16,
   "id": "47d246c8",
   "metadata": {},
   "outputs": [
    {
     "name": "stdout",
     "output_type": "stream",
     "text": [
      "1\n",
      "2\n",
      "3\n",
      "4\n",
      "5\n"
     ]
    }
   ],
   "source": [
    "# to print 1 to n\n",
    "def number(n):\n",
    "    if n ==0:\n",
    "        return\n",
    "    number(n - 1)\n",
    "    print(n)\n",
    "number(5)"
   ]
  },
  {
   "cell_type": "code",
   "execution_count": 2,
   "id": "ff283ade",
   "metadata": {},
   "outputs": [
    {
     "data": {
      "text/plain": [
       "55"
      ]
     },
     "execution_count": 2,
     "metadata": {},
     "output_type": "execute_result"
    }
   ],
   "source": [
    "def sum_of_n(n):\n",
    "    if n==1:\n",
    "        return 1\n",
    "    sum=n+sum_of_n(n-1)\n",
    "    \n",
    "    return sum\n",
    "sum_of_n(10)"
   ]
  },
  {
   "cell_type": "code",
   "execution_count": 4,
   "id": "ccd7f54f",
   "metadata": {},
   "outputs": [
    {
     "data": {
      "text/plain": [
       "8"
      ]
     },
     "execution_count": 4,
     "metadata": {},
     "output_type": "execute_result"
    }
   ],
   "source": [
    "# a raised to power b\n",
    "def raised(a,b):\n",
    "    if b==0:\n",
    "        return 1\n",
    "    ans=a*raised(a,b-1)\n",
    "    return ans\n",
    "raised(2,3)"
   ]
  },
  {
   "cell_type": "code",
   "execution_count": 3,
   "id": "1ee5c57a",
   "metadata": {},
   "outputs": [
    {
     "name": "stdout",
     "output_type": "stream",
     "text": [
      "8\n"
     ]
    }
   ],
   "source": [
    "a=2\n",
    "b=3\n",
    "ans=a**b\n",
    "print(ans)"
   ]
  },
  {
   "cell_type": "code",
   "execution_count": 10,
   "id": "262a3382",
   "metadata": {},
   "outputs": [
    {
     "name": "stdout",
     "output_type": "stream",
     "text": [
      "0\n",
      "1\n",
      "1\n",
      "2\n",
      "3\n"
     ]
    }
   ],
   "source": [
    "# febonacci sequance\n",
    "def febo(n):\n",
    "    if n==1:\n",
    "        return 0\n",
    "    elif n==2:\n",
    "        return 1\n",
    "    else:\n",
    "        ans=febo(n-1)+febo(n-2)\n",
    "        return ans\n",
    "n=5        \n",
    "for i in range(1,n+1):\n",
    "    print(febo(i))"
   ]
  },
  {
   "cell_type": "code",
   "execution_count": 9,
   "id": "d66ef2d0",
   "metadata": {},
   "outputs": [
    {
     "name": "stdout",
     "output_type": "stream",
     "text": [
      "hello world mr.bodar is very handsome and creative man\n",
      "hello world...! \n",
      "welcome to our world\n"
     ]
    }
   ],
   "source": [
    "#string creating\n",
    "#with ''\n",
    "a='hello world'\n",
    "#with \"\"\n",
    "b=\"mr.bodar is very handsome and creative man\"\n",
    "#with ''' ''' is used to print malti line paragraph\n",
    "c='''hello world...! \n",
    "welcome to our world'''\n",
    "print(a,b)\n",
    "print(c)\n"
   ]
  },
  {
   "cell_type": "code",
   "execution_count": 39,
   "id": "9effa8e3",
   "metadata": {},
   "outputs": [
    {
     "name": "stdout",
     "output_type": "stream",
     "text": [
      "e\n",
      "d\n"
     ]
    }
   ],
   "source": [
    "string=\"Hello World\"\n",
    "print(string[1])\n",
    "print(string[-1])"
   ]
  },
  {
   "cell_type": "code",
   "execution_count": 40,
   "id": "3ceeb1f8",
   "metadata": {},
   "outputs": [
    {
     "name": "stdout",
     "output_type": "stream",
     "text": [
      "10\n"
     ]
    }
   ],
   "source": [
    "print(string.find('d'))"
   ]
  },
  {
   "cell_type": "code",
   "execution_count": 41,
   "id": "99f39722",
   "metadata": {},
   "outputs": [
    {
     "name": "stdout",
     "output_type": "stream",
     "text": [
      "10\n"
     ]
    }
   ],
   "source": [
    "print(string.index('d'))"
   ]
  },
  {
   "cell_type": "code",
   "execution_count": 42,
   "id": "72245df3",
   "metadata": {},
   "outputs": [
    {
     "name": "stdout",
     "output_type": "stream",
     "text": [
      "o W\n"
     ]
    }
   ],
   "source": [
    "print(string[4:7])"
   ]
  },
  {
   "cell_type": "code",
   "execution_count": 43,
   "id": "7558d8a5",
   "metadata": {},
   "outputs": [
    {
     "data": {
      "text/plain": [
       "'Hell'"
      ]
     },
     "execution_count": 43,
     "metadata": {},
     "output_type": "execute_result"
    }
   ],
   "source": [
    "string[:4]"
   ]
  },
  {
   "cell_type": "code",
   "execution_count": 44,
   "id": "90a663b7",
   "metadata": {},
   "outputs": [
    {
     "data": {
      "text/plain": [
       "'orld'"
      ]
     },
     "execution_count": 44,
     "metadata": {},
     "output_type": "execute_result"
    }
   ],
   "source": [
    "string[7:]"
   ]
  },
  {
   "cell_type": "code",
   "execution_count": 45,
   "id": "e1514df5",
   "metadata": {},
   "outputs": [
    {
     "data": {
      "text/plain": [
       "'loWr'"
      ]
     },
     "execution_count": 45,
     "metadata": {},
     "output_type": "execute_result"
    }
   ],
   "source": [
    "string[2:9:2]"
   ]
  },
  {
   "cell_type": "code",
   "execution_count": 46,
   "id": "acfe79ec",
   "metadata": {},
   "outputs": [
    {
     "data": {
      "text/plain": [
       "'Hello Wo'"
      ]
     },
     "execution_count": 46,
     "metadata": {},
     "output_type": "execute_result"
    }
   ],
   "source": [
    "string[-11:-3]"
   ]
  },
  {
   "cell_type": "code",
   "execution_count": 47,
   "id": "4ea7315f",
   "metadata": {},
   "outputs": [
    {
     "data": {
      "text/plain": [
       "'HELLO WORLD'"
      ]
     },
     "execution_count": 47,
     "metadata": {},
     "output_type": "execute_result"
    }
   ],
   "source": [
    "string.upper()"
   ]
  },
  {
   "cell_type": "code",
   "execution_count": 49,
   "id": "897b64e7",
   "metadata": {},
   "outputs": [
    {
     "data": {
      "text/plain": [
       "'hello world'"
      ]
     },
     "execution_count": 49,
     "metadata": {},
     "output_type": "execute_result"
    }
   ],
   "source": [
    "string.lower()"
   ]
  },
  {
   "cell_type": "code",
   "execution_count": 50,
   "id": "3845a250",
   "metadata": {},
   "outputs": [
    {
     "data": {
      "text/plain": [
       "'Hello world'"
      ]
     },
     "execution_count": 50,
     "metadata": {},
     "output_type": "execute_result"
    }
   ],
   "source": [
    "string.capitalize()      #first character of string capital"
   ]
  },
  {
   "cell_type": "code",
   "execution_count": 54,
   "id": "74592234",
   "metadata": {},
   "outputs": [
    {
     "data": {
      "text/plain": [
       "['Hello', 'World']"
      ]
     },
     "execution_count": 54,
     "metadata": {},
     "output_type": "execute_result"
    }
   ],
   "source": [
    "string.split()"
   ]
  },
  {
   "cell_type": "code",
   "execution_count": 76,
   "id": "0c83eedb",
   "metadata": {},
   "outputs": [],
   "source": [
    "string=\"ena,mina,dika,kiya\"\n",
    "#string.split()"
   ]
  },
  {
   "cell_type": "code",
   "execution_count": 77,
   "id": "66c0f1cf",
   "metadata": {},
   "outputs": [
    {
     "data": {
      "text/plain": [
       "['ena,mina,dika,kiya']"
      ]
     },
     "execution_count": 77,
     "metadata": {},
     "output_type": "execute_result"
    }
   ],
   "source": [
    "string.split()"
   ]
  },
  {
   "cell_type": "code",
   "execution_count": 78,
   "id": "81d34583",
   "metadata": {},
   "outputs": [
    {
     "data": {
      "text/plain": [
       "['ena', 'mina', 'dika,kiya']"
      ]
     },
     "execution_count": 78,
     "metadata": {},
     "output_type": "execute_result"
    }
   ],
   "source": [
    "string.split(\",\",2)"
   ]
  },
  {
   "cell_type": "code",
   "execution_count": 79,
   "id": "e9a2c39e",
   "metadata": {},
   "outputs": [
    {
     "data": {
      "text/plain": [
       "['ena', 'mina', 'dika', 'kiya']"
      ]
     },
     "execution_count": 79,
     "metadata": {},
     "output_type": "execute_result"
    }
   ],
   "source": [
    "string.split(\",\")"
   ]
  },
  {
   "cell_type": "code",
   "execution_count": 104,
   "id": "3beeef81",
   "metadata": {},
   "outputs": [],
   "source": [
    "string=\"this is minu's  happy house always\""
   ]
  },
  {
   "cell_type": "code",
   "execution_count": 105,
   "id": "3d7c9c50",
   "metadata": {},
   "outputs": [
    {
     "name": "stdout",
     "output_type": "stream",
     "text": [
      "this is minu's  happy house always\n"
     ]
    }
   ],
   "source": [
    "print(string)"
   ]
  },
  {
   "cell_type": "code",
   "execution_count": 106,
   "id": "204d03df",
   "metadata": {},
   "outputs": [
    {
     "name": "stdout",
     "output_type": "stream",
     "text": [
      "34\n"
     ]
    }
   ],
   "source": [
    "print(len(string))"
   ]
  },
  {
   "cell_type": "code",
   "execution_count": 107,
   "id": "4d3e91de",
   "metadata": {},
   "outputs": [
    {
     "data": {
      "text/plain": [
       "18"
      ]
     },
     "execution_count": 107,
     "metadata": {},
     "output_type": "execute_result"
    }
   ],
   "source": [
    "string.find('pp')"
   ]
  },
  {
   "cell_type": "code",
   "execution_count": 108,
   "id": "6d081000",
   "metadata": {},
   "outputs": [
    {
     "data": {
      "text/plain": [
       "'this is mi'"
      ]
     },
     "execution_count": 108,
     "metadata": {},
     "output_type": "execute_result"
    }
   ],
   "source": [
    "string[0:10]"
   ]
  },
  {
   "cell_type": "code",
   "execution_count": 109,
   "id": "3c3983d0",
   "metadata": {},
   "outputs": [
    {
     "data": {
      "text/plain": [
       "\"this is minu's  happy house never\""
      ]
     },
     "execution_count": 109,
     "metadata": {},
     "output_type": "execute_result"
    }
   ],
   "source": [
    "string.replace('always','never')"
   ]
  },
  {
   "cell_type": "code",
   "execution_count": 115,
   "id": "9ae43410",
   "metadata": {},
   "outputs": [],
   "source": [
    "text=\" what matter to do\"\n",
    "string+=text"
   ]
  },
  {
   "cell_type": "code",
   "execution_count": 116,
   "id": "8dd687c6",
   "metadata": {},
   "outputs": [
    {
     "data": {
      "text/plain": [
       "\"this is minu's  happy house alwayswhat matter to do what matter to do\""
      ]
     },
     "execution_count": 116,
     "metadata": {},
     "output_type": "execute_result"
    }
   ],
   "source": [
    "string"
   ]
  },
  {
   "cell_type": "code",
   "execution_count": 118,
   "id": "3bab2c5d",
   "metadata": {},
   "outputs": [
    {
     "name": "stdout",
     "output_type": "stream",
     "text": [
      "this is minu's  happy house alwayswhat matter to do what matter to do\n"
     ]
    }
   ],
   "source": [
    "print(string)"
   ]
  },
  {
   "cell_type": "code",
   "execution_count": 119,
   "id": "3cc58f02",
   "metadata": {},
   "outputs": [
    {
     "data": {
      "text/plain": [
       "'h'"
      ]
     },
     "execution_count": 119,
     "metadata": {},
     "output_type": "execute_result"
    }
   ],
   "source": [
    "first=\"hello\"\n",
    "first[0]"
   ]
  },
  {
   "cell_type": "markdown",
   "id": "db8bb377",
   "metadata": {},
   "source": [
    "# lambda function"
   ]
  },
  {
   "cell_type": "code",
   "execution_count": 120,
   "id": "45f9b1fb",
   "metadata": {},
   "outputs": [
    {
     "data": {
      "text/plain": [
       "5"
      ]
     },
     "execution_count": 120,
     "metadata": {},
     "output_type": "execute_result"
    }
   ],
   "source": [
    "sum=lambda x,y: x+y\n",
    "sum(2,3)"
   ]
  },
  {
   "cell_type": "code",
   "execution_count": 125,
   "id": "785c26c5",
   "metadata": {},
   "outputs": [
    {
     "data": {
      "text/plain": [
       "81"
      ]
     },
     "execution_count": 125,
     "metadata": {},
     "output_type": "execute_result"
    }
   ],
   "source": [
    "power=lambda x,y: x**y\n",
    "power(9,2)"
   ]
  },
  {
   "cell_type": "code",
   "execution_count": 15,
   "id": "0474ace3",
   "metadata": {},
   "outputs": [
    {
     "name": "stdout",
     "output_type": "stream",
     "text": [
      "input number10\n",
      "10  is even\n"
     ]
    }
   ],
   "source": [
    "even=lambda x: x%2==0\n",
    "n=int(input(\"input number\"))\n",
    "if even(n)==True:\n",
    "    print(n,\" is even\")\n",
    "else:\n",
    "    print(n,\" is odd\")"
   ]
  },
  {
   "cell_type": "code",
   "execution_count": 14,
   "id": "215eab6b",
   "metadata": {},
   "outputs": [
    {
     "data": {
      "text/plain": [
       "False"
      ]
     },
     "execution_count": 14,
     "metadata": {},
     "output_type": "execute_result"
    }
   ],
   "source": [
    "positive=lambda x: x>=0\n",
    "positive(-5)"
   ]
  },
  {
   "cell_type": "code",
   "execution_count": 2,
   "id": "78c47e31",
   "metadata": {},
   "outputs": [
    {
     "name": "stdout",
     "output_type": "stream",
     "text": [
      "55\n"
     ]
    }
   ],
   "source": [
    "number=lambda n: sum(range(1,n+1))\n",
    "n=10\n",
    "ans=number(n)\n",
    "print(ans)"
   ]
  },
  {
   "cell_type": "code",
   "execution_count": 13,
   "id": "749afc2b",
   "metadata": {},
   "outputs": [
    {
     "name": "stdout",
     "output_type": "stream",
     "text": [
      "{1: 2, 3: 4, 5: 6, 7: 8}\n"
     ]
    }
   ],
   "source": [
    "number=1,2,3,4,5,6,7,8\n",
    "d={}\n",
    "for i in range(0,len(number),2):\n",
    "    d[number[i]]=number[i+1]\n",
    "print(d)"
   ]
  },
  {
   "cell_type": "code",
   "execution_count": 18,
   "id": "5022c6b1",
   "metadata": {},
   "outputs": [
    {
     "data": {
      "text/plain": [
       "2"
      ]
     },
     "execution_count": 18,
     "metadata": {},
     "output_type": "execute_result"
    }
   ],
   "source": [
    "min(d.values())"
   ]
  },
  {
   "cell_type": "code",
   "execution_count": 25,
   "id": "10ee0955",
   "metadata": {},
   "outputs": [
    {
     "data": {
      "text/plain": [
       "[4, 8, 12, 16]"
      ]
     },
     "execution_count": 25,
     "metadata": {},
     "output_type": "execute_result"
    }
   ],
   "source": [
    "list1=[2,4,6,8]\n",
    "double=map(lambda x: x+x,list1)\n",
    "list(double)"
   ]
  },
  {
   "cell_type": "code",
   "execution_count": 48,
   "id": "986af4d4",
   "metadata": {},
   "outputs": [
    {
     "data": {
      "text/plain": [
       "['HELLO WORLD']"
      ]
     },
     "execution_count": 48,
     "metadata": {},
     "output_type": "execute_result"
    }
   ],
   "source": [
    "string=[\"hello world\"]\n",
    "cap=map(lambda x: x.upper(),string)\n",
    "list(cap)"
   ]
  },
  {
   "cell_type": "code",
   "execution_count": 49,
   "id": "bc085a81",
   "metadata": {},
   "outputs": [
    {
     "data": {
      "text/plain": [
       "['ello']"
      ]
     },
     "execution_count": 49,
     "metadata": {},
     "output_type": "execute_result"
    }
   ],
   "source": [
    "ran=map(lambda x: x[1:5],string)\n",
    "list(ran)"
   ]
  },
  {
   "cell_type": "code",
   "execution_count": 50,
   "id": "d6f22857",
   "metadata": {},
   "outputs": [
    {
     "data": {
      "text/plain": [
       "[3]"
      ]
     },
     "execution_count": 50,
     "metadata": {},
     "output_type": "execute_result"
    }
   ],
   "source": [
    "count=map(lambda x: x.count('l'),string)\n",
    "list(count)"
   ]
  },
  {
   "cell_type": "code",
   "execution_count": 57,
   "id": "e1e974a8",
   "metadata": {},
   "outputs": [
    {
     "name": "stdout",
     "output_type": "stream",
     "text": [
      "5\n"
     ]
    }
   ],
   "source": [
    "string=\"hello\"\n",
    "count=lambda x: len(x)\n",
    "c=count(string)\n",
    "print(c)"
   ]
  },
  {
   "cell_type": "code",
   "execution_count": 2,
   "id": "cd3b8add",
   "metadata": {},
   "outputs": [
    {
     "data": {
      "text/plain": [
       "[8, 16, 20, 35, 45, 65]"
      ]
     },
     "execution_count": 2,
     "metadata": {},
     "output_type": "execute_result"
    }
   ],
   "source": [
    "list1=[35,65,8,16,20,45]\n",
    "#n=sorted(list1)\n",
    "#n\n",
    "list1.sort(key=lambda x: x+1)\n",
    "list1"
   ]
  },
  {
   "cell_type": "code",
   "execution_count": 66,
   "id": "be4e8d2d",
   "metadata": {},
   "outputs": [
    {
     "data": {
      "text/plain": [
       "[65, 45, 35, 20, 16, 8]"
      ]
     },
     "execution_count": 66,
     "metadata": {},
     "output_type": "execute_result"
    }
   ],
   "source": [
    "sorted(list1,reverse=True)"
   ]
  },
  {
   "cell_type": "code",
   "execution_count": 76,
   "id": "53e3a0b1",
   "metadata": {},
   "outputs": [],
   "source": [
    "class1=[('9a',20),('9b',52),('9c',16)]"
   ]
  },
  {
   "cell_type": "code",
   "execution_count": 81,
   "id": "943fa494",
   "metadata": {},
   "outputs": [
    {
     "data": {
      "text/plain": [
       "[('9c', 16), ('9a', 20), ('9b', 52)]"
      ]
     },
     "execution_count": 81,
     "metadata": {},
     "output_type": "execute_result"
    }
   ],
   "source": [
    "s=sorted(class1,key=lambda x: x[1])\n",
    "s"
   ]
  },
  {
   "cell_type": "code",
   "execution_count": 4,
   "id": "548662eb",
   "metadata": {},
   "outputs": [
    {
     "data": {
      "text/plain": [
       "[35, 45, 65]"
      ]
     },
     "execution_count": 4,
     "metadata": {},
     "output_type": "execute_result"
    }
   ],
   "source": [
    "f=filter(lambda x: x>=30,list1)\n",
    "list(f)"
   ]
  },
  {
   "cell_type": "code",
   "execution_count": 6,
   "id": "d988f61a",
   "metadata": {},
   "outputs": [
    {
     "data": {
      "text/plain": [
       "['india', 'france', 'peris']"
      ]
     },
     "execution_count": 6,
     "metadata": {},
     "output_type": "execute_result"
    }
   ],
   "source": [
    "countries=[\"india\",\"uk\",\"france\",\"us\",\"peris\"]\n",
    "ans=filter(lambda x: len(x)>3,countries)\n",
    "list(ans)"
   ]
  },
  {
   "cell_type": "code",
   "execution_count": 1,
   "id": "ab5d9f58",
   "metadata": {},
   "outputs": [
    {
     "name": "stdout",
     "output_type": "stream",
     "text": [
      "10\n",
      "20\n",
      "30\n",
      "40\n"
     ]
    }
   ],
   "source": [
    "\n",
    "is_even_list = [lambda arg=x: arg * 10 for x in range(1, 5)]\n",
    "for item in is_even_list:\n",
    "    print(item())\n",
    "\n"
   ]
  },
  {
   "cell_type": "code",
   "execution_count": 4,
   "id": "35b31b9d",
   "metadata": {},
   "outputs": [],
   "source": [
    "a = 20\n",
    "b = 20"
   ]
  },
  {
   "cell_type": "code",
   "execution_count": 5,
   "id": "73374f48",
   "metadata": {},
   "outputs": [
    {
     "data": {
      "text/plain": [
       "40"
      ]
     },
     "execution_count": 5,
     "metadata": {},
     "output_type": "execute_result"
    }
   ],
   "source": [
    "a+b"
   ]
  },
  {
   "cell_type": "code",
   "execution_count": 8,
   "id": "01d1b2a9",
   "metadata": {},
   "outputs": [],
   "source": [
    "def abc(a,b):\n",
    "    c = a+b\n",
    "    d = a-b\n",
    "    return c, d"
   ]
  },
  {
   "cell_type": "code",
   "execution_count": 9,
   "id": "4e63c6d3",
   "metadata": {},
   "outputs": [
    {
     "data": {
      "text/plain": [
       "(30, -10)"
      ]
     },
     "execution_count": 9,
     "metadata": {},
     "output_type": "execute_result"
    }
   ],
   "source": [
    "abc(10,20)"
   ]
  },
  {
   "cell_type": "code",
   "execution_count": 12,
   "id": "7f1af245",
   "metadata": {},
   "outputs": [
    {
     "name": "stdout",
     "output_type": "stream",
     "text": [
      "6\n"
     ]
    }
   ],
   "source": [
    "\n",
    "Max = lambda a, b : a if(a > b) else b\n",
    "print(Max(4, 6))\n"
   ]
  },
  {
   "cell_type": "code",
   "execution_count": 25,
   "id": "f112ec8d",
   "metadata": {},
   "outputs": [
    {
     "data": {
      "text/plain": [
       "15"
      ]
     },
     "execution_count": 25,
     "metadata": {},
     "output_type": "execute_result"
    }
   ],
   "source": [
    "def data(x,y=20):\n",
    "    c=x+y\n",
    "    return c\n",
    "ans=data(10,5)\n",
    "ans"
   ]
  },
  {
   "cell_type": "code",
   "execution_count": 28,
   "id": "d5c44dd9",
   "metadata": {},
   "outputs": [
    {
     "name": "stdout",
     "output_type": "stream",
     "text": [
      "(25, 10)\n"
     ]
    }
   ],
   "source": [
    "def square(x):\n",
    "    return x*x,x*2\n",
    "print(square(5))"
   ]
  },
  {
   "cell_type": "code",
   "execution_count": 8,
   "id": "c0648504",
   "metadata": {},
   "outputs": [
    {
     "name": "stdout",
     "output_type": "stream",
     "text": [
      "even number\n"
     ]
    }
   ],
   "source": [
    "a=8\n",
    "if a%2 == 0:\n",
    "    print(\"even number\")\n",
    "else:\n",
    "    print(\"not even\")"
   ]
  },
  {
   "cell_type": "code",
   "execution_count": 12,
   "id": "2b66d01b",
   "metadata": {},
   "outputs": [
    {
     "name": "stdout",
     "output_type": "stream",
     "text": [
      "enter number of table: 5\n",
      "5  *  1 =  5\n",
      "5  *  2 =  10\n",
      "5  *  3 =  15\n",
      "5  *  4 =  20\n",
      "5  *  5 =  25\n",
      "5  *  6 =  30\n",
      "5  *  7 =  35\n",
      "5  *  8 =  40\n",
      "5  *  9 =  45\n",
      "5  *  10 =  50\n"
     ]
    }
   ],
   "source": [
    "x=int(input(\"enter number of table: \"))\n",
    "#y=int(input(\"enter number of table: \"))\n",
    "for n in range(1,11):\n",
    "    print(x,\" * \",n,\"= \",x*n)"
   ]
  },
  {
   "cell_type": "code",
   "execution_count": 38,
   "id": "a5127554",
   "metadata": {},
   "outputs": [
    {
     "name": "stdout",
     "output_type": "stream",
     "text": [
      "o\n",
      "e\n",
      "ello\n",
      "world welcome\n",
      "el ol ecm\n",
      "emoc\n"
     ]
    }
   ],
   "source": [
    "string=\"hello world welcome\"\n",
    "print(string[4])\n",
    "print(string[-1])\n",
    "print(string[1:5])\n",
    "print(string[6:])\n",
    "print(string[1::2])\n",
    "print(string[-1:-5:-1])"
   ]
  },
  {
   "cell_type": "code",
   "execution_count": 39,
   "id": "87f96073",
   "metadata": {},
   "outputs": [
    {
     "name": "stdout",
     "output_type": "stream",
     "text": [
      "h\n",
      "e\n",
      "l\n",
      "l\n",
      "o\n",
      " \n",
      "w\n",
      "o\n",
      "r\n",
      "l\n",
      "d\n",
      " \n",
      "w\n",
      "e\n",
      "l\n",
      "c\n",
      "o\n",
      "m\n",
      "e\n"
     ]
    }
   ],
   "source": [
    "for i in range(len(string)):\n",
    "    print(string[i])"
   ]
  },
  {
   "cell_type": "code",
   "execution_count": 40,
   "id": "bdf622fd",
   "metadata": {},
   "outputs": [
    {
     "name": "stdout",
     "output_type": "stream",
     "text": [
      "h\n",
      "e\n",
      "l\n",
      "l\n",
      "o\n",
      " \n",
      "w\n",
      "o\n",
      "r\n",
      "l\n",
      "d\n",
      " \n",
      "w\n",
      "e\n",
      "l\n",
      "c\n",
      "o\n",
      "m\n",
      "e\n"
     ]
    }
   ],
   "source": [
    "for i in string:\n",
    "    print(i)"
   ]
  },
  {
   "cell_type": "code",
   "execution_count": 41,
   "id": "8727ca30",
   "metadata": {},
   "outputs": [
    {
     "data": {
      "text/plain": [
       "'HELLO WORLD WELCOME'"
      ]
     },
     "execution_count": 41,
     "metadata": {},
     "output_type": "execute_result"
    }
   ],
   "source": [
    "string.upper()"
   ]
  },
  {
   "cell_type": "code",
   "execution_count": 42,
   "id": "235d98fa",
   "metadata": {},
   "outputs": [
    {
     "data": {
      "text/plain": [
       "'hello world welcome'"
      ]
     },
     "execution_count": 42,
     "metadata": {},
     "output_type": "execute_result"
    }
   ],
   "source": [
    "string.lower()"
   ]
  },
  {
   "cell_type": "code",
   "execution_count": 43,
   "id": "b467f81c",
   "metadata": {},
   "outputs": [
    {
     "data": {
      "text/plain": [
       "'Hello world welcome'"
      ]
     },
     "execution_count": 43,
     "metadata": {},
     "output_type": "execute_result"
    }
   ],
   "source": [
    "string.capitalize()"
   ]
  },
  {
   "cell_type": "code",
   "execution_count": 44,
   "id": "07436dd0",
   "metadata": {},
   "outputs": [
    {
     "data": {
      "text/plain": [
       "'Hello World Welcome'"
      ]
     },
     "execution_count": 44,
     "metadata": {},
     "output_type": "execute_result"
    }
   ],
   "source": [
    "string.title()"
   ]
  },
  {
   "cell_type": "code",
   "execution_count": 49,
   "id": "4b84cbad",
   "metadata": {},
   "outputs": [
    {
     "data": {
      "text/plain": [
       "13"
      ]
     },
     "execution_count": 49,
     "metadata": {},
     "output_type": "execute_result"
    }
   ],
   "source": [
    "string.find('e',2)"
   ]
  },
  {
   "cell_type": "code",
   "execution_count": 61,
   "id": "47cd4343",
   "metadata": {},
   "outputs": [
    {
     "data": {
      "text/plain": [
       "True"
      ]
     },
     "execution_count": 61,
     "metadata": {},
     "output_type": "execute_result"
    }
   ],
   "source": [
    "string=\"hello\"\n",
    "string.isalpha()"
   ]
  },
  {
   "cell_type": "code",
   "execution_count": 62,
   "id": "a1caf149",
   "metadata": {},
   "outputs": [
    {
     "data": {
      "text/plain": [
       "False"
      ]
     },
     "execution_count": 62,
     "metadata": {},
     "output_type": "execute_result"
    }
   ],
   "source": [
    "string.isdigit()"
   ]
  },
  {
   "cell_type": "code",
   "execution_count": 63,
   "id": "68ca1d6c",
   "metadata": {},
   "outputs": [
    {
     "data": {
      "text/plain": [
       "True"
      ]
     },
     "execution_count": 63,
     "metadata": {},
     "output_type": "execute_result"
    }
   ],
   "source": [
    "string.isalnum()"
   ]
  },
  {
   "cell_type": "code",
   "execution_count": 70,
   "id": "efdf2918",
   "metadata": {},
   "outputs": [
    {
     "name": "stdout",
     "output_type": "stream",
     "text": [
      "*****         10 *         20         \n"
     ]
    }
   ],
   "source": [
    "x=10\n",
    "y=20\n",
    "print(\"***** {:>10} *{:^20}\".format(x,y))"
   ]
  },
  {
   "cell_type": "code",
   "execution_count": 75,
   "id": "da84f23d",
   "metadata": {},
   "outputs": [
    {
     "data": {
      "text/plain": [
       "5"
      ]
     },
     "execution_count": 75,
     "metadata": {},
     "output_type": "execute_result"
    }
   ],
   "source": [
    "l=[1,2,3,[4,5,6],7]\n",
    "l[3][1]"
   ]
  },
  {
   "cell_type": "code",
   "execution_count": 76,
   "id": "c56ca23a",
   "metadata": {},
   "outputs": [
    {
     "data": {
      "text/plain": [
       "[3, [4, 5, 6]]"
      ]
     },
     "execution_count": 76,
     "metadata": {},
     "output_type": "execute_result"
    }
   ],
   "source": [
    "l[2:4]"
   ]
  },
  {
   "cell_type": "code",
   "execution_count": 77,
   "id": "c11ae2f6",
   "metadata": {},
   "outputs": [
    {
     "data": {
      "text/plain": [
       "[1, 3, 7]"
      ]
     },
     "execution_count": 77,
     "metadata": {},
     "output_type": "execute_result"
    }
   ],
   "source": [
    "l[::2]"
   ]
  },
  {
   "cell_type": "code",
   "execution_count": 103,
   "id": "d340bede",
   "metadata": {},
   "outputs": [],
   "source": [
    "l=[10,50,30,40,80,90]\n",
    "t=len(l)"
   ]
  },
  {
   "cell_type": "code",
   "execution_count": 93,
   "id": "ca0be731",
   "metadata": {},
   "outputs": [
    {
     "data": {
      "text/plain": [
       "6"
      ]
     },
     "execution_count": 93,
     "metadata": {},
     "output_type": "execute_result"
    }
   ],
   "source": [
    "t"
   ]
  },
  {
   "cell_type": "code",
   "execution_count": 102,
   "id": "b493f9a2",
   "metadata": {},
   "outputs": [
    {
     "name": "stdout",
     "output_type": "stream",
     "text": [
      "90\n",
      "80\n",
      "40\n",
      "30\n",
      "50\n",
      "10\n"
     ]
    }
   ],
   "source": [
    "l=[10,50,30,40,80,90]\n",
    "t=len(l)\n",
    "for i in range(t-1,-1,-1):\n",
    "    print(l[i])\n"
   ]
  },
  {
   "cell_type": "code",
   "execution_count": 104,
   "id": "ba627f3e",
   "metadata": {},
   "outputs": [],
   "source": [
    "del l[2]"
   ]
  },
  {
   "cell_type": "code",
   "execution_count": 105,
   "id": "86d3cf86",
   "metadata": {},
   "outputs": [
    {
     "data": {
      "text/plain": [
       "[10, 50, 40, 80, 90]"
      ]
     },
     "execution_count": 105,
     "metadata": {},
     "output_type": "execute_result"
    }
   ],
   "source": [
    "l"
   ]
  },
  {
   "cell_type": "code",
   "execution_count": 106,
   "id": "d90b5203",
   "metadata": {},
   "outputs": [
    {
     "data": {
      "text/plain": [
       "80"
      ]
     },
     "execution_count": 106,
     "metadata": {},
     "output_type": "execute_result"
    }
   ],
   "source": [
    "l.pop(3)"
   ]
  },
  {
   "cell_type": "code",
   "execution_count": 111,
   "id": "8058e6c2",
   "metadata": {},
   "outputs": [
    {
     "data": {
      "text/plain": [
       "[40, 90]"
      ]
     },
     "execution_count": 111,
     "metadata": {},
     "output_type": "execute_result"
    }
   ],
   "source": [
    "l.remove(50)\n",
    "l"
   ]
  },
  {
   "cell_type": "code",
   "execution_count": 112,
   "id": "811edd97",
   "metadata": {},
   "outputs": [
    {
     "data": {
      "text/plain": [
       "0"
      ]
     },
     "execution_count": 112,
     "metadata": {},
     "output_type": "execute_result"
    }
   ],
   "source": [
    "l.count(10)"
   ]
  },
  {
   "cell_type": "code",
   "execution_count": 126,
   "id": "0952f49b",
   "metadata": {},
   "outputs": [],
   "source": [
    "l.append(10)"
   ]
  },
  {
   "cell_type": "code",
   "execution_count": 127,
   "id": "9bacbb25",
   "metadata": {},
   "outputs": [],
   "source": [
    "l.append(40)"
   ]
  },
  {
   "cell_type": "code",
   "execution_count": 128,
   "id": "141b8fe4",
   "metadata": {},
   "outputs": [
    {
     "data": {
      "text/plain": [
       "[10, 40, 40, 90, 10, 40]"
      ]
     },
     "execution_count": 128,
     "metadata": {},
     "output_type": "execute_result"
    }
   ],
   "source": [
    "l"
   ]
  },
  {
   "cell_type": "code",
   "execution_count": 129,
   "id": "43533a5d",
   "metadata": {},
   "outputs": [
    {
     "data": {
      "text/plain": [
       "3"
      ]
     },
     "execution_count": 129,
     "metadata": {},
     "output_type": "execute_result"
    }
   ],
   "source": [
    "l.count(40)"
   ]
  },
  {
   "cell_type": "code",
   "execution_count": 130,
   "id": "9cef03b2",
   "metadata": {},
   "outputs": [
    {
     "data": {
      "text/plain": [
       "90"
      ]
     },
     "execution_count": 130,
     "metadata": {},
     "output_type": "execute_result"
    }
   ],
   "source": [
    "max(l)"
   ]
  },
  {
   "cell_type": "code",
   "execution_count": 131,
   "id": "c2befa9b",
   "metadata": {},
   "outputs": [
    {
     "data": {
      "text/plain": [
       "10"
      ]
     },
     "execution_count": 131,
     "metadata": {},
     "output_type": "execute_result"
    }
   ],
   "source": [
    "min(l)"
   ]
  },
  {
   "cell_type": "code",
   "execution_count": 132,
   "id": "296c4d32",
   "metadata": {},
   "outputs": [
    {
     "data": {
      "text/plain": [
       "'world'"
      ]
     },
     "execution_count": 132,
     "metadata": {},
     "output_type": "execute_result"
    }
   ],
   "source": [
    "list1=[\"hello\",\"world\",\"earth\"]\n",
    "max(list1)"
   ]
  },
  {
   "cell_type": "code",
   "execution_count": 133,
   "id": "fed73acf",
   "metadata": {},
   "outputs": [
    {
     "data": {
      "text/plain": [
       "'earth'"
      ]
     },
     "execution_count": 133,
     "metadata": {},
     "output_type": "execute_result"
    }
   ],
   "source": [
    "min(list1)"
   ]
  },
  {
   "cell_type": "code",
   "execution_count": 135,
   "id": "fb3e4e4f",
   "metadata": {},
   "outputs": [
    {
     "data": {
      "text/plain": [
       "[10, 10, 40, 40, 40, 90]"
      ]
     },
     "execution_count": 135,
     "metadata": {},
     "output_type": "execute_result"
    }
   ],
   "source": [
    "l.sort()\n",
    "l"
   ]
  },
  {
   "cell_type": "code",
   "execution_count": 136,
   "id": "fd5518c6",
   "metadata": {},
   "outputs": [
    {
     "data": {
      "text/plain": [
       "['earth', 'hello', 'world']"
      ]
     },
     "execution_count": 136,
     "metadata": {},
     "output_type": "execute_result"
    }
   ],
   "source": [
    "list1.sort()\n",
    "list1"
   ]
  },
  {
   "cell_type": "code",
   "execution_count": 138,
   "id": "a6d6fe43",
   "metadata": {},
   "outputs": [
    {
     "data": {
      "text/plain": [
       "[90, 40, 40, 40, 10, 10]"
      ]
     },
     "execution_count": 138,
     "metadata": {},
     "output_type": "execute_result"
    }
   ],
   "source": [
    "l.reverse()\n",
    "l"
   ]
  },
  {
   "cell_type": "code",
   "execution_count": 140,
   "id": "c83a0d10",
   "metadata": {},
   "outputs": [
    {
     "name": "stdout",
     "output_type": "stream",
     "text": [
      "[(90, 'earth'), (40, 'hello'), (40, 'world')]\n"
     ]
    }
   ],
   "source": [
    "m=zip(l,list1)\n",
    "print(list(m))"
   ]
  },
  {
   "cell_type": "code",
   "execution_count": 141,
   "id": "2d81af47",
   "metadata": {},
   "outputs": [
    {
     "data": {
      "text/plain": [
       "['hello', 'bodar']"
      ]
     },
     "execution_count": 141,
     "metadata": {},
     "output_type": "execute_result"
    }
   ],
   "source": [
    "n=\"hello bodar\"\n",
    "n.split()"
   ]
  },
  {
   "cell_type": "code",
   "execution_count": 2,
   "id": "a8441d87",
   "metadata": {},
   "outputs": [
    {
     "name": "stdout",
     "output_type": "stream",
     "text": [
      "enter value: \n",
      "                    1. push\n",
      "                    2.pop\n",
      "                    3.peek\n",
      "                    4.display\n",
      "                    5.exit: \n",
      "                    1\n",
      "enter value: 35\n",
      "['35']\n",
      "enter value: \n",
      "                    1. push\n",
      "                    2.pop\n",
      "                    3.peek\n",
      "                    4.display\n",
      "                    5.exit: \n",
      "                    1\n",
      "enter value: 20\n",
      "['35', '20']\n",
      "enter value: \n",
      "                    1. push\n",
      "                    2.pop\n",
      "                    3.peek\n",
      "                    4.display\n",
      "                    5.exit: \n",
      "                    1\n",
      "enter value: 16\n",
      "['35', '20', '16']\n",
      "enter value: \n",
      "                    1. push\n",
      "                    2.pop\n",
      "                    3.peek\n",
      "                    4.display\n",
      "                    5.exit: \n",
      "                    1\n",
      "enter value: 70\n",
      "['35', '20', '16', '70']\n",
      "enter value: \n",
      "                    1. push\n",
      "                    2.pop\n",
      "                    3.peek\n",
      "                    4.display\n",
      "                    5.exit: \n",
      "                    2\n",
      "70\n",
      "enter value: \n",
      "                    1. push\n",
      "                    2.pop\n",
      "                    3.peek\n",
      "                    4.display\n",
      "                    5.exit: \n",
      "                    3\n",
      "last stack value:  16\n",
      "enter value: \n",
      "                    1. push\n",
      "                    2.pop\n",
      "                    3.peek\n",
      "                    4.display\n",
      "                    5.exit: \n",
      "                    4\n",
      "full stack:  ['35', '20', '16']\n",
      "enter value: \n",
      "                    1. push\n",
      "                    2.pop\n",
      "                    3.peek\n",
      "                    4.display\n",
      "                    5.exit: \n",
      "                    5\n",
      "exit....!\n"
     ]
    }
   ],
   "source": [
    "l=[]\n",
    "while True:\n",
    "    c=int(input('''enter value: \n",
    "                    1. push\n",
    "                    2.pop\n",
    "                    3.peek\n",
    "                    4.display\n",
    "                    5.exit: \n",
    "                    '''))\n",
    "    if c==1:\n",
    "         n=input(\"enter value: \")\n",
    "         l.append(n)\n",
    "         print(l)\n",
    "    elif c==2:\n",
    "        if len(l)==0:\n",
    "            print(\"empty list...!\")\n",
    "        else:\n",
    "            p=l.pop() \n",
    "            print(p)\n",
    "    elif c==3:\n",
    "        if len(l)==0:\n",
    "            print(\"empty stack\")\n",
    "        else:\n",
    "            print(\"last stack value: \",l[-1])\n",
    "    elif c==4:\n",
    "        print(\"full stack: \",l)\n",
    "    else:\n",
    "        print(\"exit....!\")\n",
    "        break;"
   ]
  },
  {
   "cell_type": "code",
   "execution_count": 9,
   "id": "c0f812a2",
   "metadata": {},
   "outputs": [
    {
     "name": "stdout",
     "output_type": "stream",
     "text": [
      "name = ram\n",
      "age = 25\n",
      "hobby = music\n"
     ]
    }
   ],
   "source": [
    "d={'name':'ram','age':25,'hobby':'music'}\n",
    "for i in d:\n",
    "    print(i,'=',d[i])"
   ]
  },
  {
   "cell_type": "code",
   "execution_count": 10,
   "id": "467374f0",
   "metadata": {},
   "outputs": [
    {
     "data": {
      "text/plain": [
       "'ram'"
      ]
     },
     "execution_count": 10,
     "metadata": {},
     "output_type": "execute_result"
    }
   ],
   "source": [
    "d['name']"
   ]
  },
  {
   "cell_type": "code",
   "execution_count": 11,
   "id": "eb45e3eb",
   "metadata": {},
   "outputs": [
    {
     "data": {
      "text/plain": [
       "25"
      ]
     },
     "execution_count": 11,
     "metadata": {},
     "output_type": "execute_result"
    }
   ],
   "source": [
    "d.get('age')"
   ]
  },
  {
   "cell_type": "code",
   "execution_count": 15,
   "id": "3ce63ed8",
   "metadata": {},
   "outputs": [
    {
     "name": "stdout",
     "output_type": "stream",
     "text": [
      "name = ram\n",
      "age = 25\n",
      "hobby = music\n"
     ]
    }
   ],
   "source": [
    "for i,j in d.items():\n",
    "    print(i,'=',j)"
   ]
  },
  {
   "cell_type": "code",
   "execution_count": 22,
   "id": "df263dc0",
   "metadata": {},
   "outputs": [
    {
     "name": "stdout",
     "output_type": "stream",
     "text": [
      "{'name': 'shyam', 'fees': 5000}\n"
     ]
    }
   ],
   "source": [
    "\n",
    "d = dict(name='shyam', fees=5000)\n",
    "\n",
    "print(d)"
   ]
  },
  {
   "cell_type": "code",
   "execution_count": 23,
   "id": "fbc65305",
   "metadata": {},
   "outputs": [
    {
     "data": {
      "text/plain": [
       "90"
      ]
     },
     "execution_count": 23,
     "metadata": {},
     "output_type": "execute_result"
    }
   ],
   "source": [
    "t=(10,20,15,25,20)\n",
    "sum(t)"
   ]
  },
  {
   "cell_type": "code",
   "execution_count": 24,
   "id": "488cd2fa",
   "metadata": {},
   "outputs": [
    {
     "data": {
      "text/plain": [
       "110"
      ]
     },
     "execution_count": 24,
     "metadata": {},
     "output_type": "execute_result"
    }
   ],
   "source": [
    "sum(t,20)"
   ]
  },
  {
   "cell_type": "code",
   "execution_count": 25,
   "id": "41009b73",
   "metadata": {},
   "outputs": [
    {
     "data": {
      "text/plain": [
       "15"
      ]
     },
     "execution_count": 25,
     "metadata": {},
     "output_type": "execute_result"
    }
   ],
   "source": [
    "t[2]"
   ]
  },
  {
   "cell_type": "code",
   "execution_count": 26,
   "id": "70ef8112",
   "metadata": {},
   "outputs": [],
   "source": [
    "s={10,20,50,30}"
   ]
  },
  {
   "cell_type": "code",
   "execution_count": 27,
   "id": "16a65a88",
   "metadata": {},
   "outputs": [],
   "source": [
    "s.add(40)"
   ]
  },
  {
   "cell_type": "code",
   "execution_count": 28,
   "id": "1bee4b76",
   "metadata": {},
   "outputs": [
    {
     "data": {
      "text/plain": [
       "{10, 20, 30, 40, 50}"
      ]
     },
     "execution_count": 28,
     "metadata": {},
     "output_type": "execute_result"
    }
   ],
   "source": [
    "s"
   ]
  },
  {
   "cell_type": "code",
   "execution_count": 29,
   "id": "ad0eed74",
   "metadata": {},
   "outputs": [
    {
     "data": {
      "text/plain": [
       "{10, 20, 30, 40, 50, 60}"
      ]
     },
     "execution_count": 29,
     "metadata": {},
     "output_type": "execute_result"
    }
   ],
   "source": [
    "s.add(60)\n",
    "s"
   ]
  },
  {
   "cell_type": "code",
   "execution_count": 31,
   "id": "3866bf3b",
   "metadata": {},
   "outputs": [
    {
     "data": {
      "text/plain": [
       "40"
      ]
     },
     "execution_count": 31,
     "metadata": {},
     "output_type": "execute_result"
    }
   ],
   "source": [
    "s.pop()"
   ]
  },
  {
   "cell_type": "code",
   "execution_count": 34,
   "id": "2eb8d10a",
   "metadata": {},
   "outputs": [],
   "source": [
    "s.remove(50)"
   ]
  },
  {
   "cell_type": "code",
   "execution_count": 35,
   "id": "c158f856",
   "metadata": {},
   "outputs": [
    {
     "data": {
      "text/plain": [
       "{10, 20, 30, 60}"
      ]
     },
     "execution_count": 35,
     "metadata": {},
     "output_type": "execute_result"
    }
   ],
   "source": [
    "s"
   ]
  },
  {
   "cell_type": "code",
   "execution_count": 36,
   "id": "3b29e911",
   "metadata": {},
   "outputs": [
    {
     "data": {
      "text/plain": [
       "{10, 20, 30, 40, 50, 60, 70, 80}"
      ]
     },
     "execution_count": 36,
     "metadata": {},
     "output_type": "execute_result"
    }
   ],
   "source": [
    "l=[40,10,50,70,80]\n",
    "s.update(l)\n",
    "s"
   ]
  },
  {
   "cell_type": "code",
   "execution_count": 38,
   "id": "7c5b725a",
   "metadata": {},
   "outputs": [
    {
     "name": "stdout",
     "output_type": "stream",
     "text": [
      "30\n"
     ]
    }
   ],
   "source": [
    "def data(a,b):\n",
    "    c=a+b\n",
    "    return c\n",
    "n=data(10,20)\n",
    "print(n)"
   ]
  },
  {
   "cell_type": "code",
   "execution_count": 44,
   "id": "74b3a3e5",
   "metadata": {},
   "outputs": [
    {
     "name": "stdout",
     "output_type": "stream",
     "text": [
      "30\n"
     ]
    }
   ],
   "source": [
    "x=lambda i,j: i+j\n",
    "y=x(20,10)\n",
    "print(y)"
   ]
  },
  {
   "cell_type": "code",
   "execution_count": 54,
   "id": "323ad6f5",
   "metadata": {},
   "outputs": [
    {
     "name": "stdout",
     "output_type": "stream",
     "text": [
      "['kota', 'delhi', 'jaipur', 'bombey', 'afghanistan']\n"
     ]
    }
   ],
   "source": [
    "city=['jaipur','kota','delhi','bombey','afghanistan']\n",
    "def length(city):\n",
    "    return(len(city))\n",
    "sort=sorted(city,key=length)\n",
    "print(sort)"
   ]
  },
  {
   "cell_type": "code",
   "execution_count": 58,
   "id": "24d6d315",
   "metadata": {},
   "outputs": [
    {
     "name": "stdout",
     "output_type": "stream",
     "text": [
      "['afghanistan', 'jaipur', 'bombey', 'delhi', 'kota']\n"
     ]
    }
   ],
   "source": [
    "city=['jaipur','kota','delhi','bombey','afghanistan']\n",
    "sort=sorted(city,key=lambda x: len(x),reverse=True)\n",
    "print(sort)"
   ]
  },
  {
   "cell_type": "code",
   "execution_count": 74,
   "id": "c77f3871",
   "metadata": {},
   "outputs": [
    {
     "name": "stdout",
     "output_type": "stream",
     "text": [
      "[3, 5]\n",
      "{'ram': 3, 'shyam': 5}\n"
     ]
    }
   ],
   "source": [
    "l=['ram','shyam']\n",
    "length=lambda x: len(x)\n",
    "result = list(map(length,l))\n",
    "print(result)\n",
    "merge=zip(l,result)\n",
    "print(dict(merge))"
   ]
  },
  {
   "cell_type": "code",
   "execution_count": 3,
   "id": "237c82ad",
   "metadata": {},
   "outputs": [
    {
     "name": "stdout",
     "output_type": "stream",
     "text": [
      "enter your age: 30\n"
     ]
    }
   ],
   "source": [
    "age =input(\"enter your age: \")\n",
    "f = open(\"data.txt\",\"w\")\n",
    "\n",
    "f.write(age)\n",
    "f.close()"
   ]
  },
  {
   "cell_type": "code",
   "execution_count": null,
   "id": "129d2dc8",
   "metadata": {},
   "outputs": [],
   "source": []
  }
 ],
 "metadata": {
  "kernelspec": {
   "display_name": "Python 3 (ipykernel)",
   "language": "python",
   "name": "python3"
  },
  "language_info": {
   "codemirror_mode": {
    "name": "ipython",
    "version": 3
   },
   "file_extension": ".py",
   "mimetype": "text/x-python",
   "name": "python",
   "nbconvert_exporter": "python",
   "pygments_lexer": "ipython3",
   "version": "3.9.19"
  }
 },
 "nbformat": 4,
 "nbformat_minor": 5
}
