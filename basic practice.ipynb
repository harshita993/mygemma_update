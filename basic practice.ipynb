{
 "cells": [
  {
   "cell_type": "code",
   "execution_count": 5,
   "id": "7287ae35",
   "metadata": {},
   "outputs": [
    {
     "name": "stdout",
     "output_type": "stream",
     "text": [
      "first:a,second:b,third:c\n"
     ]
    }
   ],
   "source": [
    "print(\"first:{},second:{},third:{}\".format('a','b','c'))"
   ]
  },
  {
   "cell_type": "code",
   "execution_count": 4,
   "id": "7ecc4bd9",
   "metadata": {},
   "outputs": [
    {
     "name": "stdout",
     "output_type": "stream",
     "text": [
      "first:1,second:3,third:5\n"
     ]
    }
   ],
   "source": [
    "print(\"first:{},second:{},third:{}\".format(1,3,5))"
   ]
  },
  {
   "cell_type": "code",
   "execution_count": 6,
   "id": "ac975db1",
   "metadata": {},
   "outputs": [
    {
     "name": "stdout",
     "output_type": "stream",
     "text": [
      "first:5,second:3,third:1\n"
     ]
    }
   ],
   "source": [
    "print(\"first:{2},second:{1},third:{0}\".format(1,3,5))"
   ]
  },
  {
   "cell_type": "code",
   "execution_count": 7,
   "id": "d9d388de",
   "metadata": {},
   "outputs": [
    {
     "name": "stdout",
     "output_type": "stream",
     "text": [
      "first:3,second:3,third:1\n"
     ]
    }
   ],
   "source": [
    "print(\"first:{1},second:{1},third:{0}\".format(1,3,5))"
   ]
  },
  {
   "cell_type": "code",
   "execution_count": 8,
   "id": "b79a3a85",
   "metadata": {},
   "outputs": [
    {
     "name": "stdout",
     "output_type": "stream",
     "text": [
      "first:1,second:3\n"
     ]
    }
   ],
   "source": [
    "print(\"first:{},second:{}\".format(1,3,5))"
   ]
  },
  {
   "cell_type": "code",
   "execution_count": 16,
   "id": "bda2c2e1",
   "metadata": {},
   "outputs": [
    {
     "name": "stdout",
     "output_type": "stream",
     "text": [
      "number 1..456,number 2..mr.hitu\n"
     ]
    }
   ],
   "source": [
    "a=[123,456]\n",
    "print(\"number 1..{},number 2..{}\".format(a[1],\"mr.hitu\"))"
   ]
  },
  {
   "cell_type": "code",
   "execution_count": 21,
   "id": "c0f8f1f7",
   "metadata": {},
   "outputs": [
    {
     "name": "stdout",
     "output_type": "stream",
     "text": [
      "first:{'bodar', 'hitu'},second{'bodar', 'hitu'}\n"
     ]
    }
   ],
   "source": [
    "print(\"first:{0},second{0}\".format({\"hitu\",\"bodar\"}))"
   ]
  },
  {
   "cell_type": "code",
   "execution_count": 37,
   "id": "0e6823b6",
   "metadata": {},
   "outputs": [
    {
     "name": "stdout",
     "output_type": "stream",
     "text": [
      "hello... world\n"
     ]
    }
   ],
   "source": [
    "#a=\"hello\"\n",
    "#print(\"{}... world\".format(a))\n",
    "print(\"{a}... world\".format(a=\"hello\"))"
   ]
  },
  {
   "cell_type": "code",
   "execution_count": 42,
   "id": "e880e462",
   "metadata": {},
   "outputs": [
    {
     "name": "stdout",
     "output_type": "stream",
     "text": [
      "welcome hello world\n"
     ]
    }
   ],
   "source": [
    "d=\"hello world\"\n",
    "print('welcome %s' %(d))\n"
   ]
  },
  {
   "cell_type": "code",
   "execution_count": 34,
   "id": "2dd7d275",
   "metadata": {},
   "outputs": [
    {
     "name": "stdout",
     "output_type": "stream",
     "text": [
      "name 1 is: tina name 2 is: mina\n"
     ]
    }
   ],
   "source": [
    "a=\"tina\"\n",
    "b=\"mina\"\n",
    "print(\"name 1 is: %s name 2 is: %s\" %(a,b))\n",
    "print(\"name 1 is: %r name 2 is: %r\" %(a,b)) ### %r and %s both are represent string ###"
   ]
  },
  {
   "cell_type": "code",
   "execution_count": 35,
   "id": "63b1a198",
   "metadata": {},
   "outputs": [
    {
     "name": "stdout",
     "output_type": "stream",
     "text": [
      "number is      12.00\n",
      "number is 13.14801\n",
      "number is 13.148\n"
     ]
    }
   ],
   "source": [
    "a=13.148012\n",
    "print(\"number is %10.2f\" %12)\n",
    "print(\"number is %5.5f\" %a)\n",
    "print(\"number is %2.3f\"%a) ##%f reprent float value"
   ]
  },
  {
   "cell_type": "code",
   "execution_count": 12,
   "id": "82280dfd",
   "metadata": {},
   "outputs": [
    {
     "name": "stdout",
     "output_type": "stream",
     "text": [
      "['one', 'two', 3, 4, 5]\n"
     ]
    }
   ],
   "source": [
    "my_list=[\"one\",\"two\",3,4,5]\n",
    "my_list+['new item']\n",
    "print(my_list)"
   ]
  },
  {
   "cell_type": "code",
   "execution_count": 44,
   "id": "25314cac",
   "metadata": {},
   "outputs": [
    {
     "data": {
      "text/plain": [
       "['one', 'two', 3, 4, 5, 'seven']"
      ]
     },
     "execution_count": 44,
     "metadata": {},
     "output_type": "execute_result"
    }
   ],
   "source": [
    "my_list+[\"seven\"]"
   ]
  },
  {
   "cell_type": "code",
   "execution_count": 45,
   "id": "50c2bf6a",
   "metadata": {},
   "outputs": [
    {
     "data": {
      "text/plain": [
       "['one', 'two', 3, 4, 5, 'one', 'two', 3, 4, 5]"
      ]
     },
     "execution_count": 45,
     "metadata": {},
     "output_type": "execute_result"
    }
   ],
   "source": [
    "my_list * 2"
   ]
  },
  {
   "cell_type": "code",
   "execution_count": 52,
   "id": "c7df89e5",
   "metadata": {},
   "outputs": [
    {
     "data": {
      "text/plain": [
       "[3, 4, 5]"
      ]
     },
     "execution_count": 52,
     "metadata": {},
     "output_type": "execute_result"
    }
   ],
   "source": [
    "my_list[2:5]"
   ]
  },
  {
   "cell_type": "code",
   "execution_count": 53,
   "id": "e7f05e17",
   "metadata": {},
   "outputs": [
    {
     "data": {
      "text/plain": [
       "['two', 3, 4]"
      ]
     },
     "execution_count": 53,
     "metadata": {},
     "output_type": "execute_result"
    }
   ],
   "source": [
    "my_list[-4:-1]"
   ]
  },
  {
   "cell_type": "code",
   "execution_count": 63,
   "id": "c0043311",
   "metadata": {},
   "outputs": [
    {
     "data": {
      "text/plain": [
       "[5, 4, 3, 'two', 'one']"
      ]
     },
     "execution_count": 63,
     "metadata": {},
     "output_type": "execute_result"
    }
   ],
   "source": [
    "my_list[::-1] #reverse"
   ]
  },
  {
   "cell_type": "code",
   "execution_count": 57,
   "id": "0f2ef7c4",
   "metadata": {},
   "outputs": [
    {
     "data": {
      "text/plain": [
       "['one', 3, 5]"
      ]
     },
     "execution_count": 57,
     "metadata": {},
     "output_type": "execute_result"
    }
   ],
   "source": [
    "my_list[0:5:2]"
   ]
  },
  {
   "cell_type": "code",
   "execution_count": 59,
   "id": "45cbe181",
   "metadata": {},
   "outputs": [
    {
     "data": {
      "text/plain": [
       "['one', 3]"
      ]
     },
     "execution_count": 59,
     "metadata": {},
     "output_type": "execute_result"
    }
   ],
   "source": [
    "my_list[:4:2]"
   ]
  },
  {
   "cell_type": "code",
   "execution_count": 12,
   "id": "fdb27b57",
   "metadata": {},
   "outputs": [
    {
     "data": {
      "text/plain": [
       "['one', 'two', 3, 4, 5, 'six']"
      ]
     },
     "execution_count": 12,
     "metadata": {},
     "output_type": "execute_result"
    }
   ],
   "source": [
    "my_list=['one','two',3,4,5]\n",
    "my_list.append(\"six\")\n",
    "my_list"
   ]
  },
  {
   "cell_type": "code",
   "execution_count": 13,
   "id": "1b1d9def",
   "metadata": {},
   "outputs": [
    {
     "data": {
      "text/plain": [
       "['one', 'two', 3, 4, 5, 'six', 'seven', 8, 9]"
      ]
     },
     "execution_count": 13,
     "metadata": {},
     "output_type": "execute_result"
    }
   ],
   "source": [
    "new_list=['seven',8,9]\n",
    "my_list.extend(new_list)\n",
    "my_list"
   ]
  },
  {
   "cell_type": "code",
   "execution_count": 19,
   "id": "c654b003",
   "metadata": {},
   "outputs": [
    {
     "data": {
      "text/plain": [
       "['one', 'two', 3, 4, 5, 10, 'ten', 'six', 'seven', 8, 9, 5, 5]"
      ]
     },
     "execution_count": 19,
     "metadata": {},
     "output_type": "execute_result"
    }
   ],
   "source": [
    "my_list.insert(5,10)\n",
    "my_list"
   ]
  },
  {
   "cell_type": "code",
   "execution_count": 21,
   "id": "bbb367ab",
   "metadata": {},
   "outputs": [
    {
     "data": {
      "text/plain": [
       "['one', 'two', 3, 4, 10, 'ten', 'six', 'seven', 8, 9, 5]"
      ]
     },
     "execution_count": 21,
     "metadata": {},
     "output_type": "execute_result"
    }
   ],
   "source": [
    "my_list.remove(5)\n",
    "my_list"
   ]
  },
  {
   "cell_type": "code",
   "execution_count": 13,
   "id": "6dc5041c",
   "metadata": {},
   "outputs": [
    {
     "data": {
      "text/plain": [
       "[5, 4, 3, 'two', 'one']"
      ]
     },
     "execution_count": 13,
     "metadata": {},
     "output_type": "execute_result"
    }
   ],
   "source": [
    "my_list.reverse()\n",
    "my_list"
   ]
  },
  {
   "cell_type": "code",
   "execution_count": 35,
   "id": "8f5da228",
   "metadata": {},
   "outputs": [
    {
     "data": {
      "text/plain": [
       "['a', 'b', 'c']"
      ]
     },
     "execution_count": 35,
     "metadata": {},
     "output_type": "execute_result"
    }
   ],
   "source": [
    "my_list=['a','b','c']\n",
    "my_list.sort()\n",
    "my_list\n"
   ]
  },
  {
   "cell_type": "code",
   "execution_count": 40,
   "id": "7137968b",
   "metadata": {},
   "outputs": [
    {
     "data": {
      "text/plain": [
       "[9, 8, 7, 5, 3, 2, 1]"
      ]
     },
     "execution_count": 40,
     "metadata": {},
     "output_type": "execute_result"
    }
   ],
   "source": [
    "my_list=[1,2,3,5,7,9,8]\n",
    "my_list.sort(reverse=True)\n",
    "my_list"
   ]
  },
  {
   "cell_type": "code",
   "execution_count": 41,
   "id": "54f08444",
   "metadata": {},
   "outputs": [
    {
     "data": {
      "text/plain": [
       "1"
      ]
     },
     "execution_count": 41,
     "metadata": {},
     "output_type": "execute_result"
    }
   ],
   "source": [
    "my_list.pop(-1)\n"
   ]
  },
  {
   "cell_type": "code",
   "execution_count": 42,
   "id": "111a8fae",
   "metadata": {},
   "outputs": [
    {
     "data": {
      "text/plain": [
       "6"
      ]
     },
     "execution_count": 42,
     "metadata": {},
     "output_type": "execute_result"
    }
   ],
   "source": [
    "len(my_list)"
   ]
  },
  {
   "cell_type": "code",
   "execution_count": 45,
   "id": "a023335c",
   "metadata": {},
   "outputs": [
    {
     "data": {
      "text/plain": [
       "1"
      ]
     },
     "execution_count": 45,
     "metadata": {},
     "output_type": "execute_result"
    }
   ],
   "source": [
    "my_list.count(5)"
   ]
  },
  {
   "cell_type": "code",
   "execution_count": 54,
   "id": "48092abe",
   "metadata": {},
   "outputs": [
    {
     "data": {
      "text/plain": [
       "4"
      ]
     },
     "execution_count": 54,
     "metadata": {},
     "output_type": "execute_result"
    }
   ],
   "source": [
    "my_list=\"hitesh harshita\"\n",
    "my_list.count('h')"
   ]
  },
  {
   "cell_type": "code",
   "execution_count": 64,
   "id": "36bcd37f",
   "metadata": {},
   "outputs": [
    {
     "data": {
      "text/plain": [
       "[[1, 2, 3], [4, 5, 6], [7, 8, 9]]"
      ]
     },
     "execution_count": 64,
     "metadata": {},
     "output_type": "execute_result"
    }
   ],
   "source": [
    "list1=[1,2,3]\n",
    "list2=[4,5,6]   #### nested if ####\n",
    "list3=[7,8,9]\n",
    "matrix=[list1,list2,list3]\n",
    "matrix"
   ]
  },
  {
   "cell_type": "code",
   "execution_count": 59,
   "id": "d645821b",
   "metadata": {},
   "outputs": [
    {
     "data": {
      "text/plain": [
       "6"
      ]
     },
     "execution_count": 59,
     "metadata": {},
     "output_type": "execute_result"
    }
   ],
   "source": [
    "matrix[1][-1]"
   ]
  },
  {
   "cell_type": "code",
   "execution_count": 69,
   "id": "70c3398b",
   "metadata": {},
   "outputs": [
    {
     "data": {
      "text/plain": [
       "3"
      ]
     },
     "execution_count": 69,
     "metadata": {},
     "output_type": "execute_result"
    }
   ],
   "source": [
    "len(matrix)"
   ]
  },
  {
   "cell_type": "code",
   "execution_count": 72,
   "id": "0ae4a9f1",
   "metadata": {},
   "outputs": [
    {
     "name": "stdout",
     "output_type": "stream",
     "text": [
      "[4, 5, 6]\n",
      "[7, 8, 9]\n"
     ]
    }
   ],
   "source": [
    "for a in matrix[1:3]:\n",
    "    print(a)"
   ]
  },
  {
   "cell_type": "code",
   "execution_count": 78,
   "id": "b4a84953",
   "metadata": {},
   "outputs": [
    {
     "name": "stdout",
     "output_type": "stream",
     "text": [
      "0\n",
      "1\n",
      "2\n",
      "3\n",
      "4\n"
     ]
    }
   ],
   "source": [
    "for a in range(0,5):\n",
    "    print(a)"
   ]
  },
  {
   "cell_type": "code",
   "execution_count": 83,
   "id": "384287e7",
   "metadata": {},
   "outputs": [
    {
     "data": {
      "text/plain": [
       "[0, 1, 2, 3, 4]"
      ]
     },
     "execution_count": 83,
     "metadata": {},
     "output_type": "execute_result"
    }
   ],
   "source": [
    "new=[a for a in range(0,5)]\n",
    "new\n"
   ]
  },
  {
   "cell_type": "code",
   "execution_count": 1,
   "id": "0d5f9125",
   "metadata": {},
   "outputs": [
    {
     "data": {
      "text/plain": [
       "[2, 3, 4, 5, 6]"
      ]
     },
     "execution_count": 1,
     "metadata": {},
     "output_type": "execute_result"
    }
   ],
   "source": [
    "new=[a+2 for a in range(0,5)]\n",
    "new"
   ]
  },
  {
   "cell_type": "code",
   "execution_count": 85,
   "id": "ebc2a3f2",
   "metadata": {},
   "outputs": [
    {
     "data": {
      "text/plain": [
       "[0, 2, 4, 6, 8]"
      ]
     },
     "execution_count": 85,
     "metadata": {},
     "output_type": "execute_result"
    }
   ],
   "source": [
    "new=[a*2 for a in range(0,5)]\n",
    "new"
   ]
  },
  {
   "cell_type": "code",
   "execution_count": 89,
   "id": "7ea8aca8",
   "metadata": {},
   "outputs": [
    {
     "data": {
      "text/plain": [
       "[0, 2, 4]"
      ]
     },
     "execution_count": 89,
     "metadata": {},
     "output_type": "execute_result"
    }
   ],
   "source": [
    "new=[a for a in range(0,5) if a%2==0]\n",
    "new"
   ]
  },
  {
   "cell_type": "code",
   "execution_count": 95,
   "id": "2fdff03b",
   "metadata": {},
   "outputs": [
    {
     "name": "stdout",
     "output_type": "stream",
     "text": [
      "126.5\n",
      "122.0\n",
      "89.6\n"
     ]
    }
   ],
   "source": [
    "celcious=[52.5,50,32]\n",
    "for i in celcious:\n",
    "    f=float(9/5*i+32)\n",
    "    print(f)"
   ]
  },
  {
   "cell_type": "code",
   "execution_count": 96,
   "id": "b718e28b",
   "metadata": {},
   "outputs": [
    {
     "data": {
      "text/plain": [
       "[126.5, 122.0, 89.6]"
      ]
     },
     "execution_count": 96,
     "metadata": {},
     "output_type": "execute_result"
    }
   ],
   "source": [
    "celcious=[52.5,50,32]\n",
    "f=[(float(9/5*temp+32)) for temp in celcious]\n",
    "f"
   ]
  },
  {
   "cell_type": "code",
   "execution_count": 24,
   "id": "58a61fff",
   "metadata": {},
   "outputs": [
    {
     "name": "stdout",
     "output_type": "stream",
     "text": [
      "{'name1': 'ram', 'name2': 'shyam'}\n"
     ]
    }
   ],
   "source": [
    "list={\"name1\": \"ram\",\"name2\": \"shyam\"}\n",
    "print(list)"
   ]
  },
  {
   "cell_type": "code",
   "execution_count": 25,
   "id": "c89fef48",
   "metadata": {},
   "outputs": [
    {
     "name": "stdout",
     "output_type": "stream",
     "text": [
      "{'name1': 'ram', 'name2': 'kishan'}\n"
     ]
    }
   ],
   "source": [
    "list[\"name2\"]=\"kishan\"\n",
    "print(list)"
   ]
  },
  {
   "cell_type": "code",
   "execution_count": 31,
   "id": "5d4ddd2c",
   "metadata": {},
   "outputs": [
    {
     "name": "stdout",
     "output_type": "stream",
     "text": [
      "RAM\n"
     ]
    }
   ],
   "source": [
    "print(list[\"name1\"].upper())"
   ]
  },
  {
   "cell_type": "code",
   "execution_count": 10,
   "id": "61802a98",
   "metadata": {},
   "outputs": [
    {
     "name": "stdout",
     "output_type": "stream",
     "text": [
      "{'f0': 'mango', 'f1': 'kiwi', 'f2': 'banana', 'f3': 'mango'}\n"
     ]
    }
   ],
   "source": [
    "d={}\n",
    "d[\"f0\"]=\"mango\"\n",
    "d[\"f1\"]=\"kiwi\"\n",
    "d[\"f2\"]=\"banana\"\n",
    "d[\"f3\"]=\"mango\"\n",
    "print(d)"
   ]
  },
  {
   "cell_type": "code",
   "execution_count": 11,
   "id": "f9a138bf",
   "metadata": {},
   "outputs": [
    {
     "data": {
      "text/plain": [
       "{'animal': 'elephant', 'answer': [45, 44]}"
      ]
     },
     "execution_count": 11,
     "metadata": {},
     "output_type": "execute_result"
    }
   ],
   "source": [
    "d = {}\n",
    "d['animal'] = 'Dog'\n",
    "d['answer'] = 44\n",
    "d['answer'] = [45,44]\n",
    "d['animal']='elephant'\n",
    "d"
   ]
  },
  {
   "cell_type": "code",
   "execution_count": 4,
   "id": "b499e62a",
   "metadata": {},
   "outputs": [
    {
     "name": "stdout",
     "output_type": "stream",
     "text": [
      "{'keys': {'new_keys': {'latest': 'value'}}}\n"
     ]
    }
   ],
   "source": [
    "i={'keys':{'new_keys':{'latest':\"value\"}}}\n",
    "print(i)"
   ]
  },
  {
   "cell_type": "code",
   "execution_count": 27,
   "id": "eef8cfee",
   "metadata": {},
   "outputs": [
    {
     "name": "stdout",
     "output_type": "stream",
     "text": [
      "value\n"
     ]
    }
   ],
   "source": [
    "print(i['keys']['new_keys']['latest'])"
   ]
  },
  {
   "cell_type": "code",
   "execution_count": 15,
   "id": "8aa21b0c",
   "metadata": {},
   "outputs": [
    {
     "name": "stdout",
     "output_type": "stream",
     "text": [
      "{'new_keys': {'latest': 'value'}}\n",
      "{'latest': 'value'}\n",
      "value\n"
     ]
    }
   ],
   "source": [
    "for x in i.values():\n",
    "    print(x)\n",
    "    for y in x.values():\n",
    "        print(y)\n",
    "        for z in y.values():\n",
    "            print(z)"
   ]
  },
  {
   "cell_type": "code",
   "execution_count": 18,
   "id": "dd404a8c",
   "metadata": {},
   "outputs": [
    {
     "name": "stdout",
     "output_type": "stream",
     "text": [
      "{'new_keys': {'latest': 'value'}}\n"
     ]
    }
   ],
   "source": [
    "print(i['keys'])"
   ]
  },
  {
   "cell_type": "code",
   "execution_count": 2,
   "id": "6b23581d",
   "metadata": {},
   "outputs": [
    {
     "name": "stdout",
     "output_type": "stream",
     "text": [
      "dict_values([25, 80, 75])\n"
     ]
    }
   ],
   "source": [
    "number={'a':25,'b':80,'c':75}\n",
    "print(number.values())"
   ]
  },
  {
   "cell_type": "code",
   "execution_count": 3,
   "id": "bca0090a",
   "metadata": {},
   "outputs": [
    {
     "name": "stdout",
     "output_type": "stream",
     "text": [
      "180\n"
     ]
    }
   ],
   "source": [
    "print(sum(number.values()))\n",
    "#sum=number['a']+number['b']+number['c']\n",
    "#sum"
   ]
  },
  {
   "cell_type": "code",
   "execution_count": 21,
   "id": "4d21e3a6",
   "metadata": {},
   "outputs": [
    {
     "name": "stdout",
     "output_type": "stream",
     "text": [
      "{'ab': 1, 'bc': 2, 'c': 3}\n"
     ]
    }
   ],
   "source": [
    "l1=['ab','bc','c']\n",
    "l2=[1,2,3]\n",
    "print(dict(zip(l1,l2)))   ###create dictionary using Zip function"
   ]
  },
  {
   "cell_type": "code",
   "execution_count": 22,
   "id": "8c613855",
   "metadata": {},
   "outputs": [],
   "source": [
    "#n=int(input(\"enter range: \"))\n",
    "#or i in range(n):\n",
    "   # string=str(input(\"input name: \"))\n",
    "    #phoneno=input(\"enter phoneno.: \")\n",
    "    #print(dict(zip(string,phoneno)))\n",
    "\n",
    "    "
   ]
  },
  {
   "cell_type": "code",
   "execution_count": 27,
   "id": "6a6451f9",
   "metadata": {},
   "outputs": [
    {
     "name": "stdout",
     "output_type": "stream",
     "text": [
      "enter string: sjssjk\n",
      "enter number: 5\n",
      "result:  sjssqp\n"
     ]
    }
   ],
   "source": [
    "string=str(input(\"enter string: \"))\n",
    "n=int(input(\"enter number: \"))\n",
    "\n",
    "alphabet=\"abcdefghijklmnopqrstuvwxyz\"\n",
    "rev=alphabet[::-1]\n",
    "dic1=dict(zip(alphabet,rev))\n",
    "prefix=string[0:n-1]\n",
    "suffix=string[n-1:]\n",
    "mirror=\"\"\n",
    "for i in range(0,len(suffix)) :\n",
    "    mirror=mirror+dic1[suffix[i]]\n",
    "result=prefix+mirror\n",
    "print(\"result: \",result)    "
   ]
  },
  {
   "cell_type": "code",
   "execution_count": 27,
   "id": "ca65d168",
   "metadata": {},
   "outputs": [],
   "source": [
    "def sort_dict_by_value(dictionary, reverse=False):\n",
    "    sorted_dict = dict(sorted(dictionary.items(), key=lambda item: item[1], reverse=reverse))\n",
    "    return sorted_dict\n",
    "\n",
    "# Sample dictionary\n",
    "sample_dict = {'a': 3, 'b': 1, 'c': 5, 'd': 2}\n",
    "\n",
    "# Sorting in ascending order\n",
    "ascending_sorted_dict = sort_dict_by_value(sample_dict)\n",
    "print(\"Ascending order:\", ascending_sorted_dict)\n",
    "\n",
    "# Sorting in descending order\n",
    "descending_sorted_dict = sort_dict_by_value(sample_dict, reverse=True)\n",
    "print(\"Descending order:\", descending_sorted_dict)"
   ]
  },
  {
   "cell_type": "code",
   "execution_count": null,
   "id": "72d0adef",
   "metadata": {},
   "outputs": [],
   "source": []
  }
 ],
 "metadata": {
  "kernelspec": {
   "display_name": "Python 3 (ipykernel)",
   "language": "python",
   "name": "python3"
  },
  "language_info": {
   "codemirror_mode": {
    "name": "ipython",
    "version": 3
   },
   "file_extension": ".py",
   "mimetype": "text/x-python",
   "name": "python",
   "nbconvert_exporter": "python",
   "pygments_lexer": "ipython3",
   "version": "3.9.19"
  }
 },
 "nbformat": 4,
 "nbformat_minor": 5
}
