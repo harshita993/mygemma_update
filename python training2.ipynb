{
 "cells": [
  {
   "cell_type": "markdown",
   "id": "8de8bb60",
   "metadata": {},
   "source": [
    "1. Write a Python function to find the Max of three numbers\n"
   ]
  },
  {
   "cell_type": "code",
   "execution_count": 3,
   "id": "040ef5fa",
   "metadata": {},
   "outputs": [
    {
     "name": "stdout",
     "output_type": "stream",
     "text": [
      "max no. of 3:  80\n"
     ]
    }
   ],
   "source": [
    "a=20\n",
    "b=80\n",
    "c=50\n",
    "def maximum(a,b,c):\n",
    "    if a>b and a>c:\n",
    "        return a\n",
    "    elif b>a and b>c:\n",
    "        return b\n",
    "    else:\n",
    "        return c\n",
    "print(\"max no. of 3: \",maximum(a,b,c))\n",
    "            "
   ]
  },
  {
   "cell_type": "markdown",
   "id": "7053a030",
   "metadata": {},
   "source": [
    "2. Write a Python function to sum all the numbers in a list. \n",
    "Sample List : (8, 2, 3, 0, 7)\n",
    "Expected Output : 20\n"
   ]
  },
  {
   "cell_type": "code",
   "execution_count": 11,
   "id": "a77f0f3c",
   "metadata": {},
   "outputs": [
    {
     "name": "stdout",
     "output_type": "stream",
     "text": [
      "sum:  20\n"
     ]
    }
   ],
   "source": [
    "slist=[8,2,3,0,7]\n",
    "def total(slist):\n",
    "    sum=0\n",
    "    for num in slist:\n",
    "        sum=sum+num\n",
    "    return sum\n",
    "print(\"sum: \",total(slist))"
   ]
  },
  {
   "cell_type": "markdown",
   "id": "678d9e2f",
   "metadata": {},
   "source": [
    "3. 3. Write a Python function to multiply all the numbers in a list. \n",
    "Sample List : (8, 2, 3, -1, 7)\n",
    "Expected Output : -336"
   ]
  },
  {
   "cell_type": "code",
   "execution_count": 19,
   "id": "b869c463",
   "metadata": {},
   "outputs": [
    {
     "name": "stdout",
     "output_type": "stream",
     "text": [
      "multiplication is:  -336\n"
     ]
    }
   ],
   "source": [
    "slist=(8,2,3,-1,7)\n",
    "def multiply(numbers):\n",
    "    total=1\n",
    "    for num in numbers:\n",
    "        total=total*num\n",
    "    return total\n",
    "print(\"multiplication is: \",multiply(slist))"
   ]
  },
  {
   "cell_type": "markdown",
   "id": "a5101837",
   "metadata": {},
   "source": [
    "4. Write a Python program to reverse a string. \n",
    "Sample String : \"1234abcd\"\n",
    "Expected Output : \"dcba4321\""
   ]
  },
  {
   "cell_type": "code",
   "execution_count": 25,
   "id": "7d5bfa3b",
   "metadata": {},
   "outputs": [
    {
     "data": {
      "text/plain": [
       "'1234abcd'"
      ]
     },
     "execution_count": 25,
     "metadata": {},
     "output_type": "execute_result"
    }
   ],
   "source": [
    "string=\"1234abcd\"\n",
    "string[::-1]\n",
    "string"
   ]
  },
  {
   "cell_type": "markdown",
   "id": "6bd11a8e",
   "metadata": {},
   "source": [
    "5. Write a Python function to calculate the factorial of a number (a non-negative integer). The function accepts the number as an argument. "
   ]
  },
  {
   "cell_type": "code",
   "execution_count": 33,
   "id": "7b7222f9",
   "metadata": {},
   "outputs": [
    {
     "name": "stdout",
     "output_type": "stream",
     "text": [
      "Factorial of 5 is: 120\n"
     ]
    }
   ],
   "source": [
    "def factorial(n):\n",
    "    if n < 0:\n",
    "        return \"Factorial is not defined for negative numbers\"\n",
    "    elif n == 0:\n",
    "        return 1\n",
    "    else:\n",
    "        result = 1\n",
    "        for i in range(1, n + 1):\n",
    "            result *= i\n",
    "        return result\n",
    "\n",
    "number = 5\n",
    "print(\"Factorial of\", number, \"is:\", factorial(number))"
   ]
  },
  {
   "cell_type": "markdown",
   "id": "b06edc70",
   "metadata": {},
   "source": [
    "6. Write a Python function to check whether a number falls in a given range. "
   ]
  },
  {
   "cell_type": "code",
   "execution_count": 46,
   "id": "449ef26a",
   "metadata": {},
   "outputs": [
    {
     "name": "stdout",
     "output_type": "stream",
     "text": [
      "True\n"
     ]
    }
   ],
   "source": [
    "def given_range_check(number,start,end):\n",
    "        if number<=end and number>=start:\n",
    "            return True\n",
    "        else:\n",
    "            return False\n",
    "result=given_range_check(8,0,10)\n",
    "print(result)\n",
    "    "
   ]
  },
  {
   "cell_type": "markdown",
   "id": "82b4f8e7",
   "metadata": {},
   "source": [
    "7. Write a Python function that accepts a string and calculate the number of upper case letters and lower case letters. \n",
    "Sample String : 'The quick Brow Fox'\n",
    "Expected Output :\n",
    "No. of Upper case characters : 3\n",
    "No. of Lower case Characters : 12"
   ]
  },
  {
   "cell_type": "code",
   "execution_count": 51,
   "id": "f1f85c88",
   "metadata": {},
   "outputs": [
    {
     "name": "stdout",
     "output_type": "stream",
     "text": [
      "upper case:  3\n",
      "lower case:  12\n"
     ]
    }
   ],
   "source": [
    "string='The quick Brow Fox'\n",
    "def alphabet_check(sentence):\n",
    "    upper=0\n",
    "    lower=0\n",
    "    for i in sentence:\n",
    "        if i.isupper():         #isupper( ) tocheck character is upper or npt\n",
    "            upper+=1\n",
    "        \n",
    "        elif i.islower():       #islower() to check char is lower case\n",
    "            lower+=1\n",
    "    return upper,lower\n",
    "upper,lower=alphabet_check(string)\n",
    "\n",
    "print(\"upper case: \",upper)\n",
    "print(\"lower case: \",lower)"
   ]
  },
  {
   "cell_type": "markdown",
   "id": "e1aca270",
   "metadata": {},
   "source": [
    "8. Write a Python function that takes a list and returns a new list with unique elements of the first list. \n",
    "Sample List : [1,2,3,3,3,3,4,5]\n",
    "Unique List : [1, 2, 3, 4, 5]"
   ]
  },
  {
   "cell_type": "code",
   "execution_count": 57,
   "id": "421e4096",
   "metadata": {},
   "outputs": [
    {
     "name": "stdout",
     "output_type": "stream",
     "text": [
      "unique list:  [1, 2, 3, 4, 5]\n"
     ]
    }
   ],
   "source": [
    "def unique(list):\n",
    "    new_list=[]\n",
    "    for i in list:\n",
    "        if i not in new_list:\n",
    "            new_list.append(i)\n",
    "\n",
    "    return new_list\n",
    "slist=[1,2,3,3,3,3,4,4,5]\n",
    "    \n",
    "result=unique(slist)\n",
    "print(\"unique list: \",result)\n"
   ]
  },
  {
   "cell_type": "markdown",
   "id": "3677898a",
   "metadata": {},
   "source": [
    "9.  Write a Python program to print the even numbers from a given list. \n",
    "Sample List : [1, 2, 3, 4, 5, 6, 7, 8, 9]\n",
    "Expected Result : [2, 4, 6, 8]\n"
   ]
  },
  {
   "cell_type": "code",
   "execution_count": 72,
   "id": "f61041e0",
   "metadata": {},
   "outputs": [
    {
     "name": "stdout",
     "output_type": "stream",
     "text": [
      "even number:  [2, 4, 6, 8]\n"
     ]
    }
   ],
   "source": [
    "slist=[1, 2, 3, 4, 5, 6, 7, 8, 9]\n",
    "def even(list):\n",
    "    even_num=[]\n",
    "    for i in list:\n",
    "        if i%2 == 0:\n",
    "            even_num.append(i)\n",
    "    return even_num\n",
    "print(\"even number: \",even(slist))"
   ]
  },
  {
   "cell_type": "markdown",
   "id": "2a8d6b44",
   "metadata": {},
   "source": [
    "10.  Write a Python function that prints out the first n rows of Pascal's triangle. \n",
    "Note : Pascal's triangle is an arithmetic and geometric figure first imagined by Blaise Pascal.\n",
    "Sample Pascal's triangle : \n",
    "    1\n",
    "   1 1\n",
    "  1 2 1\n",
    " 1 3 3 1\n",
    "1 4 6 4 1\n",
    "\n",
    "Each number is the two numbers above it added together"
   ]
  },
  {
   "cell_type": "code",
   "execution_count": 28,
   "id": "0f3474d9",
   "metadata": {},
   "outputs": [
    {
     "name": "stdout",
     "output_type": "stream",
     "text": [
      "enter number: 5\n",
      "    1     \n",
      "   1 1    \n",
      "  1 2 1   \n",
      " 1 3 3 1  \n",
      "1 4 6 4 1 \n"
     ]
    }
   ],
   "source": [
    "number=int(input(\"enter number: \"))\n",
    "#i=1\n",
    "triangle=[]\n",
    "for i in range(number):\n",
    "    row=[1]*(i+1)\n",
    "    if i>1:\n",
    "        for j in range(1,i):\n",
    "            row[j]=triangle[i-1][j-1]+triangle[i-1][j]\n",
    "    triangle.append(row)\n",
    "for row in triangle:\n",
    "        print(\" \".join(str(num) for num in row).center(len(triangle[-1]) * 2))\n"
   ]
  },
  {
   "cell_type": "markdown",
   "id": "d3b2081a",
   "metadata": {},
   "source": [
    "Write a Python program to detect the number of local variables declared in a function. \n",
    "Sample Output:\n",
    "3\n"
   ]
  },
  {
   "cell_type": "code",
   "execution_count": 32,
   "id": "01f235ba",
   "metadata": {},
   "outputs": [
    {
     "name": "stdout",
     "output_type": "stream",
     "text": [
      "4\n"
     ]
    }
   ],
   "source": [
    "def example():\n",
    "    a=1\n",
    "    b=2\n",
    "    c='ram'\n",
    "    d=4343\n",
    "    local_vars = locals()\n",
    "    return len(local_vars)\n",
    "print(example())\n"
   ]
  },
  {
   "cell_type": "markdown",
   "id": "a8f6e22f",
   "metadata": {},
   "source": [
    "Write a Python program to check a string is palindrome or not\n"
   ]
  },
  {
   "cell_type": "code",
   "execution_count": 12,
   "id": "488eb137",
   "metadata": {},
   "outputs": [
    {
     "name": "stdout",
     "output_type": "stream",
     "text": [
      "enter string: maMam\n",
      "string is palindrome\n"
     ]
    }
   ],
   "source": [
    "string=input(\"enter string: \")\n",
    "str1=string.replace(\" \",\"\").lower()\n",
    "\n",
    "rev=str1[::-1]\n",
    "if str1==rev:\n",
    "    print(\"string is palindrome\")\n",
    "else:\n",
    "    print(\"string is not palindrome\")"
   ]
  },
  {
   "cell_type": "markdown",
   "id": "1edb1ea6",
   "metadata": {},
   "source": [
    "# Lambda function"
   ]
  },
  {
   "cell_type": "markdown",
   "id": "3d03374b",
   "metadata": {},
   "source": [
    "1. Write a Python program to create a lambda function that adds 15 to a given number passed in as an argument, also create a lambda function that multiplies argument x with argument y and print the result. \n",
    "Sample Output:\n",
    "25\n",
    "48"
   ]
  },
  {
   "cell_type": "code",
   "execution_count": 36,
   "id": "697dc4f5",
   "metadata": {},
   "outputs": [
    {
     "name": "stdout",
     "output_type": "stream",
     "text": [
      "25\n",
      "48\n"
     ]
    }
   ],
   "source": [
    "add=lambda x: x+15\n",
    "multiply=lambda x,y: x*y\n",
    "number=10\n",
    "print(add(number))\n",
    "x=8\n",
    "y=6\n",
    "print(multiply(x,y))"
   ]
  },
  {
   "cell_type": "markdown",
   "id": "51c49a27",
   "metadata": {},
   "source": [
    "2. Write a Python program to create a function that takes one argument, and that argument will be multiplied with an unknown given number. \n",
    "Sample Output:\n",
    "Double the number of 15 = 30\n",
    "Triple the number of 15 = 45\n",
    "Quadruple the number of 15 = 60\n",
    "Quintuple the number 15 = 75"
   ]
  },
  {
   "cell_type": "code",
   "execution_count": 37,
   "id": "4dfb7beb",
   "metadata": {},
   "outputs": [
    {
     "name": "stdout",
     "output_type": "stream",
     "text": [
      "double the number of 15 = 30\n",
      "triple number of 15 = 45\n",
      "quadruple number of 15 = 60\n",
      "quintuple number of 15 = 75\n"
     ]
    }
   ],
   "source": [
    "def double(x):\n",
    "    n=2\n",
    "    ans=n*x\n",
    "    print(f\"double the number of {x} = {ans}\")\n",
    "    n=3\n",
    "    ans=n*x\n",
    "    print(f\"triple number of {x} = {ans}\")\n",
    "    n=4\n",
    "    ans=n*x\n",
    "    print(f\"quadruple number of {x} = {ans}\")\n",
    "    n=5\n",
    "    ans=n*x\n",
    "    print(f\"quintuple number of {x} = {ans}\")\n",
    "\n",
    "\n",
    "double(15)\n"
   ]
  },
  {
   "cell_type": "markdown",
   "id": "f9d0d395",
   "metadata": {},
   "source": [
    "3. Write a Python program to sort a list of tuples using Lambda.\n",
    "Original list of tuples:\n",
    "[('English', 88), ('Science', 90), ('Maths', 97), ('Social sciences', 82)]\n",
    "Sorting the List of Tuples:\n",
    "[('Social sciences', 82), ('English', 88), ('Science', 90), ('Maths', 97)]\n"
   ]
  },
  {
   "cell_type": "code",
   "execution_count": 1,
   "id": "79d8dc93",
   "metadata": {},
   "outputs": [
    {
     "name": "stdout",
     "output_type": "stream",
     "text": [
      "[('Social sciences', 82), ('English', 88), ('Science', 90), ('Maths', 97)]\n"
     ]
    }
   ],
   "source": [
    "list1=[('English', 88), ('Science', 90), ('Maths', 97), ('Social sciences', 82)]\n",
    "sort=sorted(list1,key=lambda x: x[1])\n",
    "print(sort)"
   ]
  },
  {
   "cell_type": "markdown",
   "id": "8121b78f",
   "metadata": {},
   "source": [
    "4. Write a Python program to square and cube every number in a given list of integers using Lambda. \n",
    "Original list of integers:\n",
    "[1, 2, 3, 4, 5, 6, 7, 8, 9, 10]\n",
    "Square every number of the said list:\n",
    "[1, 4, 9, 16, 25, 36, 49, 64, 81, 100]\n",
    "Cube every number of the said list:\n",
    "[1, 8, 27, 64, 125, 216, 343, 512, 729, 1000]"
   ]
  },
  {
   "cell_type": "code",
   "execution_count": 2,
   "id": "d201cff0",
   "metadata": {},
   "outputs": [
    {
     "name": "stdout",
     "output_type": "stream",
     "text": [
      "square:  [1, 4, 9, 16, 25, 36, 49, 64, 81, 100]\n",
      "cube:  [1, 8, 27, 64, 125, 216, 343, 512, 729, 1000]\n"
     ]
    }
   ],
   "source": [
    "l=[1, 2, 3, 4, 5, 6, 7, 8, 9, 10]\n",
    "square=lambda x: x*x\n",
    "result =list(map(square,l))\n",
    "qube=lambda x: x*x*x\n",
    "ans=list(map(qube,l))\n",
    "print(\"square: \",result)\n",
    "print(\"cube: \",ans)"
   ]
  },
  {
   "cell_type": "code",
   "execution_count": null,
   "id": "6dd827e4",
   "metadata": {},
   "outputs": [],
   "source": []
  }
 ],
 "metadata": {
  "kernelspec": {
   "display_name": "Python 3 (ipykernel)",
   "language": "python",
   "name": "python3"
  },
  "language_info": {
   "codemirror_mode": {
    "name": "ipython",
    "version": 3
   },
   "file_extension": ".py",
   "mimetype": "text/x-python",
   "name": "python",
   "nbconvert_exporter": "python",
   "pygments_lexer": "ipython3",
   "version": "3.9.19"
  }
 },
 "nbformat": 4,
 "nbformat_minor": 5
}
