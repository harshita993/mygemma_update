{
 "cells": [
  {
   "cell_type": "code",
   "execution_count": 1,
   "id": "0b609c73",
   "metadata": {},
   "outputs": [
    {
     "name": "stdout",
     "output_type": "stream",
     "text": [
      "hello world\n"
     ]
    }
   ],
   "source": [
    "print(\"hello world\")"
   ]
  },
  {
   "cell_type": "code",
   "execution_count": 13,
   "id": "55433103",
   "metadata": {},
   "outputs": [
    {
     "name": "stdout",
     "output_type": "stream",
     "text": [
      "hello mr.bodar\n"
     ]
    }
   ],
   "source": [
    "a = \"hello mr.bodar\"\n",
    "print(a)"
   ]
  },
  {
   "cell_type": "code",
   "execution_count": 3,
   "id": "097a9d49",
   "metadata": {},
   "outputs": [
    {
     "name": "stdout",
     "output_type": "stream",
     "text": [
      "hello\n"
     ]
    }
   ],
   "source": [
    "a = \"hello\"\n",
    "print(a)"
   ]
  },
  {
   "cell_type": "code",
   "execution_count": 16,
   "id": "84f42ec6",
   "metadata": {},
   "outputs": [
    {
     "name": "stdout",
     "output_type": "stream",
     "text": [
      " hello hitesh\n"
     ]
    }
   ],
   "source": [
    "a = \" hello\"\n",
    "b = \" hitesh\"\n",
    "print(a +  b)"
   ]
  },
  {
   "cell_type": "code",
   "execution_count": 18,
   "id": "5fb4c6cf",
   "metadata": {},
   "outputs": [
    {
     "name": "stdout",
     "output_type": "stream",
     "text": [
      "hello\n",
      "hitesh\n"
     ]
    }
   ],
   "source": [
    "a = \"hello\"\n",
    "b = \"hitesh\"\n",
    "print(a) \n",
    "print(b)"
   ]
  },
  {
   "cell_type": "code",
   "execution_count": 6,
   "id": "8d31ca04",
   "metadata": {},
   "outputs": [
    {
     "name": "stdout",
     "output_type": "stream",
     "text": [
      "what is your name?harshu\n",
      "helloharshu\n"
     ]
    }
   ],
   "source": [
    "name = input(\"what is your name?\")\n",
    "print(\"hello\" + name)"
   ]
  },
  {
   "cell_type": "code",
   "execution_count": 7,
   "id": "6a2fd34e",
   "metadata": {},
   "outputs": [
    {
     "name": "stdout",
     "output_type": "stream",
     "text": [
      "old age: 25\n",
      "25\n"
     ]
    }
   ],
   "source": [
    "old_age = input(\"old age: \")\n",
    "print(old_age)"
   ]
  },
  {
   "cell_type": "code",
   "execution_count": 8,
   "id": "544146cc",
   "metadata": {},
   "outputs": [
    {
     "name": "stdout",
     "output_type": "stream",
     "text": [
      "old age: 25\n",
      "30\n"
     ]
    }
   ],
   "source": [
    "old_age = input(\"old age: \")\n",
    "new_age = int(old_age) + 5\n",
    "print(new_age)"
   ]
  },
  {
   "cell_type": "code",
   "execution_count": 16,
   "id": "12d12eb6",
   "metadata": {},
   "outputs": [
    {
     "name": "stdout",
     "output_type": "stream",
     "text": [
      "a= 2\n",
      "b= 2\n",
      "4\n",
      "sum is = 4\n"
     ]
    }
   ],
   "source": [
    "a = input(\"a= \")\n",
    "b = input(\"b= \")\n",
    "sum = int(a) + int(b)\n",
    "print(sum)\n",
    "print(\"sum is = \" + str(sum))\n"
   ]
  },
  {
   "cell_type": "code",
   "execution_count": 20,
   "id": "00fca876",
   "metadata": {},
   "outputs": [
    {
     "name": "stdout",
     "output_type": "stream",
     "text": [
      "WORLD\n"
     ]
    }
   ],
   "source": [
    "name = \"world\"\n",
    "print(name.upper())"
   ]
  },
  {
   "cell_type": "code",
   "execution_count": 24,
   "id": "174f67e0",
   "metadata": {
    "scrolled": true
   },
   "outputs": [
    {
     "name": "stdout",
     "output_type": "stream",
     "text": [
      "7\n",
      "0\n"
     ]
    }
   ],
   "source": [
    "name = \"Hitesh Bodar\"\n",
    "print(name.find('B'))\n",
    "print(name.find('H'))"
   ]
  },
  {
   "cell_type": "code",
   "execution_count": 32,
   "id": "03e41acb",
   "metadata": {},
   "outputs": [
    {
     "name": "stdout",
     "output_type": "stream",
     "text": [
      "0\n",
      "MITESM BODAR\n",
      "False\n"
     ]
    }
   ],
   "source": [
    "name = \"HITESH BODAR\"\n",
    "print(name.find('H'))\n",
    "print(name.replace('H','M'))\n",
    "print(\"PODAR\" in name)"
   ]
  },
  {
   "cell_type": "code",
   "execution_count": 1,
   "id": "a89e05a0",
   "metadata": {},
   "outputs": [
    {
     "name": "stdout",
     "output_type": "stream",
     "text": [
      "5\n"
     ]
    }
   ],
   "source": [
    "print(2+3)"
   ]
  },
  {
   "cell_type": "code",
   "execution_count": 2,
   "id": "0a81f27f",
   "metadata": {},
   "outputs": [
    {
     "name": "stdout",
     "output_type": "stream",
     "text": [
      "7\n"
     ]
    }
   ],
   "source": [
    "i=2\n",
    "i+=5\n",
    "print(i)"
   ]
  },
  {
   "cell_type": "code",
   "execution_count": 3,
   "id": "40cdf81e",
   "metadata": {},
   "outputs": [
    {
     "name": "stdout",
     "output_type": "stream",
     "text": [
      "8\n"
     ]
    }
   ],
   "source": [
    "print(2+3*2)"
   ]
  },
  {
   "cell_type": "code",
   "execution_count": 4,
   "id": "2e5f78ce",
   "metadata": {},
   "outputs": [
    {
     "name": "stdout",
     "output_type": "stream",
     "text": [
      "10\n"
     ]
    }
   ],
   "source": [
    "print((2+3)*2)"
   ]
  },
  {
   "cell_type": "code",
   "execution_count": 10,
   "id": "2baec29d",
   "metadata": {},
   "outputs": [
    {
     "name": "stdout",
     "output_type": "stream",
     "text": [
      "val...2\n",
      "2\n"
     ]
    }
   ],
   "source": [
    "#input value\n",
    "val=input(\"val...\")\n",
    "print(val)"
   ]
  },
  {
   "cell_type": "code",
   "execution_count": 11,
   "id": "73573c5c",
   "metadata": {},
   "outputs": [
    {
     "name": "stdout",
     "output_type": "stream",
     "text": [
      "Mitesh\n"
     ]
    }
   ],
   "source": [
    "name= \"Hitesh\"\n",
    "print(name.replace('H','M'))"
   ]
  },
  {
   "cell_type": "code",
   "execution_count": 19,
   "id": "eaf8f826",
   "metadata": {},
   "outputs": [
    {
     "name": "stdout",
     "output_type": "stream",
     "text": [
      "25\n"
     ]
    }
   ],
   "source": [
    "print(5**2)"
   ]
  },
  {
   "cell_type": "code",
   "execution_count": 21,
   "id": "f8ab8a0f",
   "metadata": {},
   "outputs": [
    {
     "name": "stdout",
     "output_type": "stream",
     "text": [
      "True\n"
     ]
    }
   ],
   "source": [
    "print(3>=2)"
   ]
  },
  {
   "cell_type": "code",
   "execution_count": null,
   "id": "88e0209f",
   "metadata": {},
   "outputs": [],
   "source": [
    "# not iqual to(!=)\n",
    "print(3!=3)"
   ]
  },
  {
   "cell_type": "markdown",
   "id": "e96a60f1",
   "metadata": {},
   "source": [
    "# or =if one or two condition is true then o/p is true otherwise o/p is false\n",
    "print(2>3 or 3>2)\n",
    "print(2>2 or 2>3)"
   ]
  },
  {
   "cell_type": "markdown",
   "id": "f7f65ce1",
   "metadata": {},
   "source": [
    "# and = if two condition is true then o/p is true,if any one condition is true or false then o/p is false\n",
    "print(2>3 and 3>2)\n",
    "print(2>1 and 3>2)"
   ]
  },
  {
   "cell_type": "code",
   "execution_count": 7,
   "id": "13919864",
   "metadata": {},
   "outputs": [
    {
     "name": "stdout",
     "output_type": "stream",
     "text": [
      "first value: 2\n",
      "enter operator:(+.-,*,/): *\n",
      "second value: 3\n",
      "6\n"
     ]
    }
   ],
   "source": [
    "first=input(\"first value: \")\n",
    "operator=input(\"enter operator:(+.-,*,/): \")\n",
    "second=input(\"second value: \")\n",
    "first=int(first)\n",
    "second=int(second)\n",
    "if operator==\"+\":\n",
    "    print(first + second)    \n",
    "elif operator==\"-\": \n",
    "    print(first - second)\n",
    "elif operator==\"*\": \n",
    "   print(first * second)\n",
    "elif operator==\"/\":\n",
    "    print(first / second)\n",
    "else:\n",
    "    print(\"invalid operator\")\n",
    "             \n",
    "        \n",
    "   "
   ]
  },
  {
   "cell_type": "code",
   "execution_count": 1,
   "id": "70af1a2c",
   "metadata": {},
   "outputs": [
    {
     "name": "stdout",
     "output_type": "stream",
     "text": [
      "range(0, 5)\n"
     ]
    }
   ],
   "source": [
    "#range 0 to 5\n",
    "print(range(5))"
   ]
  },
  {
   "cell_type": "code",
   "execution_count": 4,
   "id": "00948157",
   "metadata": {},
   "outputs": [
    {
     "name": "stdout",
     "output_type": "stream",
     "text": [
      "1\n",
      "2\n",
      "3\n",
      "4\n",
      "5\n"
     ]
    }
   ],
   "source": [
    "i=1\n",
    "while i<=5:\n",
    "    print(i)\n",
    "    i=i+1\n",
    "    "
   ]
  },
  {
   "cell_type": "code",
   "execution_count": 5,
   "id": "10e02345",
   "metadata": {},
   "outputs": [
    {
     "name": "stdout",
     "output_type": "stream",
     "text": [
      "*\n",
      "**\n",
      "***\n",
      "****\n",
      "*****\n"
     ]
    }
   ],
   "source": [
    "i=1\n",
    "while i<=5:\n",
    "    print(i * \"*\")\n",
    "    i=i+1"
   ]
  },
  {
   "cell_type": "code",
   "execution_count": 2,
   "id": "d6548345",
   "metadata": {},
   "outputs": [
    {
     "name": "stdout",
     "output_type": "stream",
     "text": [
      "@@@@@\n",
      "@@@@\n",
      "@@@\n",
      "@@\n"
     ]
    }
   ],
   "source": [
    "i=5\n",
    "while i>=2:\n",
    "    print(i * \"@\")\n",
    "    i=i-1"
   ]
  },
  {
   "cell_type": "code",
   "execution_count": 8,
   "id": "65f6f5f9",
   "metadata": {},
   "outputs": [
    {
     "name": "stdout",
     "output_type": "stream",
     "text": [
      "1\n",
      "2\n",
      "3\n",
      "4\n",
      "5\n"
     ]
    }
   ],
   "source": [
    "for i in range(5):\n",
    "    print(i+1)"
   ]
  },
  {
   "cell_type": "code",
   "execution_count": 13,
   "id": "06b83547",
   "metadata": {},
   "outputs": [
    {
     "name": "stdout",
     "output_type": "stream",
     "text": [
      "[98, 90]\n"
     ]
    }
   ],
   "source": [
    "marks=[98,90,95]\n",
    "print(marks[0:2])"
   ]
  },
  {
   "cell_type": "code",
   "execution_count": 16,
   "id": "c5e71f3c",
   "metadata": {},
   "outputs": [
    {
     "name": "stdout",
     "output_type": "stream",
     "text": [
      "98\n",
      "90\n",
      "95\n"
     ]
    }
   ],
   "source": [
    "marks=[98,90,95]\n",
    "for score in marks:\n",
    "    print(score)"
   ]
  },
  {
   "cell_type": "code",
   "execution_count": 21,
   "id": "e032acf9",
   "metadata": {},
   "outputs": [
    {
     "name": "stdout",
     "output_type": "stream",
     "text": [
      "[98, 90, 95, 80]\n"
     ]
    }
   ],
   "source": [
    "marks=[98,90,95]\n",
    "#to add other marks\n",
    "marks.append(80)\n",
    "print(marks)"
   ]
  },
  {
   "cell_type": "markdown",
   "id": "5887bb89",
   "metadata": {},
   "source": [
    "# to add marks in position\n",
    "marks=[98,90,95]\n",
    "marks.insert(1, 99)\n",
    "print (marks)"
   ]
  },
  {
   "cell_type": "code",
   "execution_count": 24,
   "id": "088844ba",
   "metadata": {},
   "outputs": [
    {
     "name": "stdout",
     "output_type": "stream",
     "text": [
      "False\n"
     ]
    }
   ],
   "source": [
    "marks=[98,90,95]\n",
    "marks.insert(1, 99)\n",
    "print(93 in marks)"
   ]
  },
  {
   "cell_type": "code",
   "execution_count": 30,
   "id": "e1c04117",
   "metadata": {},
   "outputs": [
    {
     "name": "stdout",
     "output_type": "stream",
     "text": [
      "4\n"
     ]
    }
   ],
   "source": [
    "#to count length of marks\n",
    "marks=[98,90,95]\n",
    "marks.insert(1, 99)\n",
    "print(len(marks))"
   ]
  },
  {
   "cell_type": "code",
   "execution_count": 6,
   "id": "b7262941",
   "metadata": {},
   "outputs": [
    {
     "name": "stdout",
     "output_type": "stream",
     "text": [
      "98\n",
      "99\n",
      "90\n",
      "95\n"
     ]
    }
   ],
   "source": [
    "marks=[98,90,95]\n",
    "marks.insert(1, 99)\n",
    "i=0\n",
    "while i<len(marks):\n",
    "    print(marks[i])\n",
    "    i=i+1\n"
   ]
  },
  {
   "cell_type": "code",
   "execution_count": 2,
   "id": "2e82ea13",
   "metadata": {},
   "outputs": [
    {
     "name": "stdout",
     "output_type": "stream",
     "text": [
      "ram\n",
      "shyam\n",
      "kishan\n"
     ]
    }
   ],
   "source": [
    "students=[\"ram\",\"shyam\",\"kishan\",\"radha\",\"radhika\"]\n",
    "for student in students:\n",
    "    if student==\"radha\":\n",
    "        break;\n",
    "    print(student)"
   ]
  },
  {
   "cell_type": "code",
   "execution_count": 3,
   "id": "9296bd0d",
   "metadata": {},
   "outputs": [
    {
     "name": "stdout",
     "output_type": "stream",
     "text": [
      "ram\n",
      "shyam\n",
      "kishan\n",
      "radhika\n"
     ]
    }
   ],
   "source": [
    "students=[\"ram\",\"shyam\",\"kishan\",\"radha\",\"radhika\"]\n",
    "for student in students:\n",
    "    if student==\"radha\":\n",
    "        continue;\n",
    "    print(student)"
   ]
  },
  {
   "cell_type": "code",
   "execution_count": 12,
   "id": "edd8c00c",
   "metadata": {},
   "outputs": [
    {
     "name": "stdout",
     "output_type": "stream",
     "text": [
      "2\n"
     ]
    }
   ],
   "source": [
    "name=\"Hitesh\"\n",
    "print(name.index('t'))"
   ]
  },
  {
   "cell_type": "code",
   "execution_count": 14,
   "id": "63bba545",
   "metadata": {},
   "outputs": [
    {
     "name": "stdout",
     "output_type": "stream",
     "text": [
      "3\n"
     ]
    }
   ],
   "source": [
    "name=\"hdhsdjtdtt\"\n",
    "print(name.count('t'))"
   ]
  },
  {
   "cell_type": "code",
   "execution_count": 16,
   "id": "88513f2d",
   "metadata": {},
   "outputs": [
    {
     "name": "stdout",
     "output_type": "stream",
     "text": [
      "['ram', 'shyam', 'kishan']\n",
      "ram\n",
      "shyam\n",
      "kishan\n"
     ]
    }
   ],
   "source": [
    "#[]{}()\n",
    "name=[\"ram\",\"shyam\",\"kishan\"]\n",
    "print(name)\n",
    "for i in name:\n",
    "    print(i)"
   ]
  },
  {
   "cell_type": "code",
   "execution_count": 18,
   "id": "43afd6dc",
   "metadata": {},
   "outputs": [
    {
     "name": "stdout",
     "output_type": "stream",
     "text": [
      "ram\n",
      "shyam\n",
      "kishan\n",
      "ram\n"
     ]
    }
   ],
   "source": [
    "name=(\"ram\",\"shyam\",\"kishan\",\"ram\")\n",
    "i=0\n",
    "while i<len(name):\n",
    "    print(name[i])\n",
    "    i=i+1"
   ]
  },
  {
   "cell_type": "code",
   "execution_count": 27,
   "id": "f6748468",
   "metadata": {},
   "outputs": [
    {
     "name": "stdout",
     "output_type": "stream",
     "text": [
      "{'ram', 'kishan', 'shyam'}\n"
     ]
    }
   ],
   "source": [
    "#{} can not exist index\n",
    "name={\"ram\",\"shyam\",\"kishan\",\"ram\"}\n",
    "print(name)"
   ]
  },
  {
   "cell_type": "code",
   "execution_count": 35,
   "id": "4d24762d",
   "metadata": {},
   "outputs": [
    {
     "name": "stdout",
     "output_type": "stream",
     "text": [
      "{'maths': 99, 'physics': 95, 'science': 85}\n",
      "{'maths': 99, 'physics': 97, 'science': 85, 'english': 86}\n"
     ]
    }
   ],
   "source": [
    "#to add and change value using{}\n",
    "marks={\"maths\":99,\"physics\":95,\"science\":85}\n",
    "print(marks)\n",
    "marks[\"physics\"]=97;\n",
    "marks[\"english\"]=86\n",
    "print(marks)"
   ]
  },
  {
   "cell_type": "code",
   "execution_count": 37,
   "id": "636d014f",
   "metadata": {},
   "outputs": [
    {
     "name": "stdout",
     "output_type": "stream",
     "text": [
      "['__doc__', '__loader__', '__name__', '__package__', '__spec__', 'acos', 'acosh', 'asin', 'asinh', 'atan', 'atan2', 'atanh', 'ceil', 'comb', 'copysign', 'cos', 'cosh', 'degrees', 'dist', 'e', 'erf', 'erfc', 'exp', 'expm1', 'fabs', 'factorial', 'floor', 'fmod', 'frexp', 'fsum', 'gamma', 'gcd', 'hypot', 'inf', 'isclose', 'isfinite', 'isinf', 'isnan', 'isqrt', 'lcm', 'ldexp', 'lgamma', 'log', 'log10', 'log1p', 'log2', 'modf', 'nan', 'nextafter', 'perm', 'pi', 'pow', 'prod', 'radians', 'remainder', 'sin', 'sinh', 'sqrt', 'tan', 'tanh', 'tau', 'trunc', 'ulp']\n"
     ]
    }
   ],
   "source": [
    "import math\n",
    "print(dir(math))"
   ]
  },
  {
   "cell_type": "code",
   "execution_count": 38,
   "id": "6189f6aa",
   "metadata": {},
   "outputs": [
    {
     "name": "stdout",
     "output_type": "stream",
     "text": [
      "4.0\n"
     ]
    }
   ],
   "source": [
    "from math import sqrt\n",
    "print(sqrt(16))"
   ]
  },
  {
   "cell_type": "code",
   "execution_count": 1,
   "id": "aa424aca",
   "metadata": {},
   "outputs": [
    {
     "name": "stdout",
     "output_type": "stream",
     "text": [
      "['Formatter', 'Template', '_ChainMap', '__all__', '__builtins__', '__cached__', '__doc__', '__file__', '__loader__', '__name__', '__package__', '__spec__', '_re', '_sentinel_dict', '_string', 'ascii_letters', 'ascii_lowercase', 'ascii_uppercase', 'capwords', 'digits', 'hexdigits', 'octdigits', 'printable', 'punctuation', 'whitespace']\n"
     ]
    }
   ],
   "source": [
    "import string\n",
    "print(dir(string))"
   ]
  },
  {
   "cell_type": "markdown",
   "id": "f4a875dd",
   "metadata": {},
   "source": [
    "# user define function ##\n",
    "def add(a,b):\n",
    "    print(a+b)\n",
    "add(5,2)"
   ]
  },
  {
   "cell_type": "code",
   "execution_count": 4,
   "id": "f9059df2",
   "metadata": {},
   "outputs": [
    {
     "name": "stdout",
     "output_type": "stream",
     "text": [
      "first name: \n",
      "harshita\n",
      "second name: \n",
      "hitesh\n",
      "last name: \n",
      "bodar\n",
      "harshita hitesh bodar\n"
     ]
    }
   ],
   "source": [
    "print(\"first name: \")\n",
    "fname=input()\n",
    "print(\"second name: \")\n",
    "sname=input()\n",
    "print(\"last name: \")\n",
    "lname=input()\n",
    "def fullname(fname,sname,lname):\n",
    "    print(fname,sname,lname)\n",
    "fullname(fname,sname,lname)"
   ]
  },
  {
   "cell_type": "code",
   "execution_count": 7,
   "id": "f31afaec",
   "metadata": {},
   "outputs": [
    {
     "data": {
      "text/plain": [
       "'print(\"hello\")'"
      ]
     },
     "execution_count": 7,
     "metadata": {},
     "output_type": "execute_result"
    }
   ],
   "source": [
    "'''print(\"hello\")'''"
   ]
  },
  {
   "cell_type": "code",
   "execution_count": 1,
   "id": "f091900c",
   "metadata": {},
   "outputs": [
    {
     "data": {
      "text/plain": [
       "49"
      ]
     },
     "execution_count": 1,
     "metadata": {},
     "output_type": "execute_result"
    }
   ],
   "source": [
    "7*7"
   ]
  },
  {
   "cell_type": "code",
   "execution_count": 1,
   "id": "69ef687e",
   "metadata": {},
   "outputs": [
    {
     "name": "stdout",
     "output_type": "stream",
     "text": [
      "enter name: \n",
      "kishan\n",
      "kishan is student \n"
     ]
    }
   ],
   "source": [
    "student=[\"ram\",\"shyam\",\"kishan\"]\n",
    "teacher=[\"vipul\",\"shukla\",\"bharat\"]\n",
    "print(\"enter name: \")\n",
    "name=input()\n",
    "if name in student:\n",
    "        print(name +\" is student \")\n",
    "elif name in teacher:\n",
    "        print(name+ \" is teacher\")\n",
    "else:\n",
    "        print(\"none\")"
   ]
  },
  {
   "cell_type": "code",
   "execution_count": 9,
   "id": "079fec0c",
   "metadata": {},
   "outputs": [
    {
     "name": "stdout",
     "output_type": "stream",
     "text": [
      "first a,second 2,third 3\n"
     ]
    }
   ],
   "source": [
    "a=(\"first {},second {},third {}\".format('a',2,3))\n",
    "print(a)"
   ]
  },
  {
   "cell_type": "code",
   "execution_count": 12,
   "id": "3847598d",
   "metadata": {},
   "outputs": [
    {
     "name": "stdout",
     "output_type": "stream",
     "text": [
      "no1.1,no2.2,no3.3\n"
     ]
    }
   ],
   "source": [
    "print(\"no1.{},no2.{},no3.{}\".format(1,2,3))"
   ]
  },
  {
   "cell_type": "code",
   "execution_count": null,
   "id": "7c090637",
   "metadata": {},
   "outputs": [],
   "source": []
  },
  {
   "cell_type": "code",
   "execution_count": null,
   "id": "0adb39cc",
   "metadata": {},
   "outputs": [],
   "source": []
  }
 ],
 "metadata": {
  "kernelspec": {
   "display_name": "Python 3 (ipykernel)",
   "language": "python",
   "name": "python3"
  },
  "language_info": {
   "codemirror_mode": {
    "name": "ipython",
    "version": 3
   },
   "file_extension": ".py",
   "mimetype": "text/x-python",
   "name": "python",
   "nbconvert_exporter": "python",
   "pygments_lexer": "ipython3",
   "version": "3.9.19"
  }
 },
 "nbformat": 4,
 "nbformat_minor": 5
}
